{
 "cells": [
  {
   "cell_type": "markdown",
   "metadata": {},
   "source": [
    "## 4. Producing a Training Matrix"
   ]
  },
  {
   "cell_type": "markdown",
   "metadata": {},
   "source": [
    "We want to take the sliding window approaches detailed above detecting genomic loci of interest, and move towards using those regions of interest to predict TMB as accurately as possible."
   ]
  },
  {
   "cell_type": "code",
   "execution_count": 1,
   "metadata": {},
   "outputs": [],
   "source": [
    "setwd(\"/Users/jacobbradley/Documents/CCG/Code\")"
   ]
  },
  {
   "cell_type": "markdown",
   "metadata": {},
   "source": [
    "### Packages"
   ]
  },
  {
   "cell_type": "code",
   "execution_count": 2,
   "metadata": {},
   "outputs": [
    {
     "name": "stdout",
     "output_type": "stream",
     "text": [
      "\n",
      "The downloaded binary packages are in\n",
      "\t/var/folders/g9/9x6m35fn5ydf88vdlm9n1vg80000gn/T//Rtmp7Rww3j/downloaded_packages\n"
     ]
    },
    {
     "name": "stderr",
     "output_type": "stream",
     "text": [
      "── Attaching packages ─────────────────────────────────────── tidyverse 1.2.1 ──\n",
      "✔ ggplot2 3.1.0     ✔ purrr   0.2.5\n",
      "✔ tibble  1.4.2     ✔ dplyr   0.7.8\n",
      "✔ tidyr   0.8.2     ✔ stringr 1.3.1\n",
      "✔ readr   1.1.1     ✔ forcats 0.3.0\n",
      "── Conflicts ────────────────────────────────────────── tidyverse_conflicts() ──\n",
      "✖ dplyr::filter() masks stats::filter()\n",
      "✖ dplyr::lag()    masks stats::lag()\n",
      "Loading required namespace: BiocManager\n",
      "Bioconductor version 3.8 (BiocManager 1.30.3), R 3.5.1 (2018-07-02)\n",
      "Update old packages: 'AnnotationHub', 'backports', 'BiocManager',\n",
      "  'BiocParallel', 'biovizBase', 'broom', 'callr', 'circlize',\n",
      "  'clusterProfiler', 'codetools', 'edgeR', 'ELMER', 'ensembldb', 'foreign',\n",
      "  'gdsfmt', 'ggpubr', 'Gviz', 'haven', 'httpuv', 'httr', 'IRdisplay',\n",
      "  'jsonlite', 'knitr', 'lattice', 'limma', 'markdown', 'MASS', 'Matrix',\n",
      "  'mclust', 'mgcv', 'openssl', 'pillar', 'processx', 'ps', 'quantreg',\n",
      "  'RcppEigen', 'readr', 'readxl', 'repr', 'rmarkdown', 'rtracklayer',\n",
      "  'rvcheck', 'survival', 'tweenr', 'units', 'VariantAnnotation'\n",
      "Loading required package: BiocGenerics\n",
      "Loading required package: parallel\n",
      "\n",
      "Attaching package: ‘BiocGenerics’\n",
      "\n",
      "The following objects are masked from ‘package:parallel’:\n",
      "\n",
      "    clusterApply, clusterApplyLB, clusterCall, clusterEvalQ,\n",
      "    clusterExport, clusterMap, parApply, parCapply, parLapply,\n",
      "    parLapplyLB, parRapply, parSapply, parSapplyLB\n",
      "\n",
      "The following objects are masked from ‘package:dplyr’:\n",
      "\n",
      "    combine, intersect, setdiff, union\n",
      "\n",
      "The following objects are masked from ‘package:stats’:\n",
      "\n",
      "    IQR, mad, sd, var, xtabs\n",
      "\n",
      "The following objects are masked from ‘package:base’:\n",
      "\n",
      "    anyDuplicated, append, as.data.frame, basename, cbind, colMeans,\n",
      "    colnames, colSums, dirname, do.call, duplicated, eval, evalq,\n",
      "    Filter, Find, get, grep, grepl, intersect, is.unsorted, lapply,\n",
      "    lengths, Map, mapply, match, mget, order, paste, pmax, pmax.int,\n",
      "    pmin, pmin.int, Position, rank, rbind, Reduce, rowMeans, rownames,\n",
      "    rowSums, sapply, setdiff, sort, table, tapply, union, unique,\n",
      "    unsplit, which, which.max, which.min\n",
      "\n",
      "Loading required package: S4Vectors\n",
      "Loading required package: stats4\n",
      "\n",
      "Attaching package: ‘S4Vectors’\n",
      "\n",
      "The following objects are masked from ‘package:dplyr’:\n",
      "\n",
      "    first, rename\n",
      "\n",
      "The following object is masked from ‘package:tidyr’:\n",
      "\n",
      "    expand\n",
      "\n",
      "The following object is masked from ‘package:base’:\n",
      "\n",
      "    expand.grid\n",
      "\n",
      "Loading required package: IRanges\n",
      "\n",
      "Attaching package: ‘IRanges’\n",
      "\n",
      "The following objects are masked from ‘package:dplyr’:\n",
      "\n",
      "    collapse, desc, slice\n",
      "\n",
      "The following object is masked from ‘package:purrr’:\n",
      "\n",
      "    reduce\n",
      "\n",
      "Loading required package: GenomeInfoDb\n",
      "Loading required package: GenomicRanges\n",
      "Loading required package: Biostrings\n",
      "Loading required package: XVector\n",
      "\n",
      "Attaching package: ‘XVector’\n",
      "\n",
      "The following object is masked from ‘package:purrr’:\n",
      "\n",
      "    compact\n",
      "\n",
      "\n",
      "Attaching package: ‘Biostrings’\n",
      "\n",
      "The following object is masked from ‘package:base’:\n",
      "\n",
      "    strsplit\n",
      "\n",
      "Loading required package: rtracklayer\n"
     ]
    }
   ],
   "source": [
    "install.packages(\"tidyverse\")\n",
    "library(tidyverse)\n",
    "# Data Handling\n",
    "\n",
    "if (!requireNamespace(\"BiocManager\"))\n",
    "    install.packages(\"BiocManager\")\n",
    "BiocManager::install()\n",
    "library(BiocManager)\n",
    "# General bioinformatics packages\n",
    "\n",
    "library(BSgenome)\n",
    "library(BSgenome.Hsapiens.UCSC.hg19)\n",
    "# Human genome build GChr37"
   ]
  },
  {
   "cell_type": "code",
   "execution_count": 3,
   "metadata": {},
   "outputs": [],
   "source": [
    "source(\"TMB_Funcs.txt\")\n",
    "# My Stuff!"
   ]
  },
  {
   "cell_type": "markdown",
   "metadata": {},
   "source": [
    "### Producing a training matrix"
   ]
  },
  {
   "cell_type": "code",
   "execution_count": 4,
   "metadata": {},
   "outputs": [],
   "source": [
    "genome <- BSgenome.Hsapiens.UCSC.hg19"
   ]
  },
  {
   "cell_type": "code",
   "execution_count": 5,
   "metadata": {
    "collapsed": true
   },
   "outputs": [
    {
     "name": "stderr",
     "output_type": "stream",
     "text": [
      "Warning message:\n",
      "“Missing column names filled in: 'X54' [54]”Parsed with column specification:\n",
      "cols(\n",
      "  .default = col_character(),\n",
      "  Entrez_Gene_Id = col_integer(),\n",
      "  Start_Position = col_integer(),\n",
      "  End_Position = col_integer(),\n",
      "  Score = col_integer(),\n",
      "  t_ref_count = col_integer(),\n",
      "  t_alt_count = col_integer(),\n",
      "  Protein_position = col_integer(),\n",
      "  Hotspot = col_integer(),\n",
      "  stop_WU = col_integer(),\n",
      "  X54 = col_double(),\n",
      "  tumor_vaf = col_double(),\n",
      "  normal_ref_reads = col_integer(),\n",
      "  start_WU = col_integer(),\n",
      "  strand_WU = col_integer(),\n",
      "  tumors_var_reads = col_integer(),\n",
      "  normal_vaf = col_double(),\n",
      "  tumor_ref_reads = col_integer(),\n",
      "  normal_var_reads = col_integer()\n",
      ")\n",
      "See spec(...) for full column specifications.\n",
      "Warning message in rbind(names(probs), probs_f):\n",
      "“number of columns of result is not a multiple of vector length (arg 1)”Warning message:\n",
      "“3282 parsing failures.\n",
      "row # A tibble: 5 x 5 col     row col     expected  actual file                                           expected   <int> <chr>   <chr>     <chr>  <chr>                                          actual 1 88850 stop_WU an integ… known  '/Volumes/CCG8/processed_data/brca_tcga/data_… file 2 88850 X54     a double  BCR    '/Volumes/CCG8/processed_data/brca_tcga/data_… row 3 88851 stop_WU an integ… known  '/Volumes/CCG8/processed_data/brca_tcga/data_… col 4 88851 X54     a double  BCR    '/Volumes/CCG8/processed_data/brca_tcga/data_… expected 5 88852 stop_WU an integ… known  '/Volumes/CCG8/processed_data/brca_tcga/data_…\n",
      "... ................. ... ............................................................................... ........ ............................................................................... ...... ............................................................................... .... ............................................................................... ... ............................................................................... ... ............................................................................... ........ ...............................................................................\n",
      "See problems(...) for more details.\n",
      "”"
     ]
    }
   ],
   "source": [
    "new_data <- read_tsv(\"/Volumes/CCG8/processed_data/brca_tcga/data_mutations_extended.txt\")"
   ]
  },
  {
   "cell_type": "code",
   "execution_count": 6,
   "metadata": {},
   "outputs": [],
   "source": [
    "#tcga_brca_windows <- RLL_slide(maf_file = new_data, starting_window = 1000000, iterations = 4, zoom = 10, coverage = 1)\n",
    "#write_tsv(path = '/Users/jacobbradley/Documents/CCG/Data/tcga_brca_windows', tcga_brca_windows %>% unnest())\n",
    "tcga_brca_windows <- read_tsv(\"/Users/jacobbradley/Documents/CCG/Data/tcga_brca_windows\", col_types = list(col_guess(), col_guess(), col_character(), col_guess(), col_guess(), col_guess())) %>% \n",
    "    group_by(iteration) %>% \n",
    "    nest()"
   ]
  },
  {
   "cell_type": "code",
   "execution_count": 11,
   "metadata": {},
   "outputs": [
    {
     "data": {
      "text/html": [
       "<ol class=list-inline>\n",
       "\t<li>'iteration'</li>\n",
       "\t<li>'data'</li>\n",
       "\t<li>'jump_length'</li>\n",
       "</ol>\n"
      ],
      "text/latex": [
       "\\begin{enumerate*}\n",
       "\\item 'iteration'\n",
       "\\item 'data'\n",
       "\\item 'jump\\_length'\n",
       "\\end{enumerate*}\n"
      ],
      "text/markdown": [
       "1. 'iteration'\n",
       "2. 'data'\n",
       "3. 'jump_length'\n",
       "\n",
       "\n"
      ],
      "text/plain": [
       "[1] \"iteration\"   \"data\"        \"jump_length\""
      ]
     },
     "metadata": {},
     "output_type": "display_data"
    }
   ],
   "source": [
    "colnames(tcga_brca_windows)"
   ]
  },
  {
   "cell_type": "code",
   "execution_count": 12,
   "metadata": {},
   "outputs": [
    {
     "name": "stderr",
     "output_type": "stream",
     "text": [
      "Warning message:\n",
      "“Unknown columns: `Start_position`”Warning message:\n",
      "“Unknown columns: `End_position`”Warning message:\n",
      "“Unknown columns: `Start_position`”Warning message:\n",
      "“Unknown columns: `End_position`”Warning message:\n",
      "“Unknown columns: `Start_position`”Warning message:\n",
      "“Unknown columns: `End_position`”Warning message:\n",
      "“Unknown columns: `Start_position`”Warning message:\n",
      "“Unknown columns: `End_position`”Warning message:\n",
      "“Unknown columns: `Start_position`”Warning message:\n",
      "“Unknown columns: `End_position`”Warning message:\n",
      "“Unknown columns: `Start_position`”Warning message:\n",
      "“Unknown columns: `End_position`”Warning message:\n",
      "“Unknown columns: `Start_position`”Warning message:\n",
      "“Unknown columns: `End_position`”Warning message:\n",
      "“Unknown columns: `Start_position`”Warning message:\n",
      "“Unknown columns: `End_position`”"
     ]
    }
   ],
   "source": [
    "tcga_brca_matrices <- RLL_windows(new_data, tcga_brca_windows, 1000000, 1)"
   ]
  },
  {
   "cell_type": "code",
   "execution_count": 16,
   "metadata": {},
   "outputs": [],
   "source": [
    "tcga_brca_models <- RLL_models(tcga_brca_matrices)"
   ]
  },
  {
   "cell_type": "code",
   "execution_count": 33,
   "metadata": {},
   "outputs": [
    {
     "data": {
      "text/html": [
       "<table>\n",
       "<thead><tr><th scope=col>iteration</th><th scope=col>r.squared</th><th scope=col>adj.r.squared</th><th scope=col>sigma</th><th scope=col>statistic</th><th scope=col>p.value</th><th scope=col>df</th><th scope=col>logLik</th><th scope=col>AIC</th><th scope=col>BIC</th><th scope=col>deviance</th><th scope=col>df.residual</th></tr></thead>\n",
       "<tbody>\n",
       "\t<tr><td>1        </td><td>0.8004404</td><td>0.8002365</td><td>3.112427 </td><td>3926.8014</td><td>0        </td><td>  2      </td><td>-2504.808</td><td>5015.616 </td><td>5030.281 </td><td>9483.7690</td><td>979      </td></tr>\n",
       "\t<tr><td>2        </td><td>0.8617130</td><td>0.8604312</td><td>2.601568 </td><td> 672.2918</td><td>0        </td><td> 10      </td><td>-2324.901</td><td>4671.803 </td><td>4725.577 </td><td>6571.8817</td><td>971      </td></tr>\n",
       "\t<tr><td>3        </td><td>0.9024176</td><td>0.8995475</td><td>2.207097 </td><td> 314.4234</td><td>0        </td><td> 29      </td><td>-2153.896</td><td>4367.793 </td><td>4514.450 </td><td>4637.4563</td><td>952      </td></tr>\n",
       "\t<tr><td>4        </td><td>0.9829176</td><td>0.9796835</td><td>0.992579 </td><td> 303.9279</td><td>0        </td><td>157      </td><td>-1299.127</td><td>2914.255 </td><td>3686.649 </td><td> 811.8155</td><td>824      </td></tr>\n",
       "</tbody>\n",
       "</table>\n"
      ],
      "text/latex": [
       "\\begin{tabular}{r|llllllllllll}\n",
       " iteration & r.squared & adj.r.squared & sigma & statistic & p.value & df & logLik & AIC & BIC & deviance & df.residual\\\\\n",
       "\\hline\n",
       "\t 1         & 0.8004404 & 0.8002365 & 3.112427  & 3926.8014 & 0         &   2       & -2504.808 & 5015.616  & 5030.281  & 9483.7690 & 979      \\\\\n",
       "\t 2         & 0.8617130 & 0.8604312 & 2.601568  &  672.2918 & 0         &  10       & -2324.901 & 4671.803  & 4725.577  & 6571.8817 & 971      \\\\\n",
       "\t 3         & 0.9024176 & 0.8995475 & 2.207097  &  314.4234 & 0         &  29       & -2153.896 & 4367.793  & 4514.450  & 4637.4563 & 952      \\\\\n",
       "\t 4         & 0.9829176 & 0.9796835 & 0.992579  &  303.9279 & 0         & 157       & -1299.127 & 2914.255  & 3686.649  &  811.8155 & 824      \\\\\n",
       "\\end{tabular}\n"
      ],
      "text/markdown": [
       "\n",
       "iteration | r.squared | adj.r.squared | sigma | statistic | p.value | df | logLik | AIC | BIC | deviance | df.residual | \n",
       "|---|---|---|---|\n",
       "| 1         | 0.8004404 | 0.8002365 | 3.112427  | 3926.8014 | 0         |   2       | -2504.808 | 5015.616  | 5030.281  | 9483.7690 | 979       | \n",
       "| 2         | 0.8617130 | 0.8604312 | 2.601568  |  672.2918 | 0         |  10       | -2324.901 | 4671.803  | 4725.577  | 6571.8817 | 971       | \n",
       "| 3         | 0.9024176 | 0.8995475 | 2.207097  |  314.4234 | 0         |  29       | -2153.896 | 4367.793  | 4514.450  | 4637.4563 | 952       | \n",
       "| 4         | 0.9829176 | 0.9796835 | 0.992579  |  303.9279 | 0         | 157       | -1299.127 | 2914.255  | 3686.649  |  811.8155 | 824       | \n",
       "\n",
       "\n"
      ],
      "text/plain": [
       "  iteration r.squared adj.r.squared sigma    statistic p.value df  logLik   \n",
       "1 1         0.8004404 0.8002365     3.112427 3926.8014 0         2 -2504.808\n",
       "2 2         0.8617130 0.8604312     2.601568  672.2918 0        10 -2324.901\n",
       "3 3         0.9024176 0.8995475     2.207097  314.4234 0        29 -2153.896\n",
       "4 4         0.9829176 0.9796835     0.992579  303.9279 0       157 -1299.127\n",
       "  AIC      BIC      deviance  df.residual\n",
       "1 5015.616 5030.281 9483.7690 979        \n",
       "2 4671.803 4725.577 6571.8817 971        \n",
       "3 4367.793 4514.450 4637.4563 952        \n",
       "4 2914.255 3686.649  811.8155 824        "
      ]
     },
     "metadata": {},
     "output_type": "display_data"
    }
   ],
   "source": [
    "tcga_brca_models %>% \n",
    "    mutate(glance = map(models, broom::glance)) %>% \n",
    "    select(iteration, glance) %>% \n",
    "    unnest()"
   ]
  },
  {
   "cell_type": "markdown",
   "metadata": {},
   "source": [
    "### Validate Model Against a New Dataset"
   ]
  },
  {
   "cell_type": "markdown",
   "metadata": {},
   "source": [
    "Here's our new dataset:"
   ]
  },
  {
   "cell_type": "code",
   "execution_count": 80,
   "metadata": {
    "collapsed": true
   },
   "outputs": [
    {
     "name": "stderr",
     "output_type": "stream",
     "text": [
      "Parsed with column specification:\n",
      "cols(\n",
      "  .default = col_character(),\n",
      "  Entrez_Gene_Id = col_integer(),\n",
      "  Start_Position = col_integer(),\n",
      "  End_Position = col_integer(),\n",
      "  t_ref_count = col_integer(),\n",
      "  t_alt_count = col_integer(),\n",
      "  n_ref_count = col_integer(),\n",
      "  n_alt_count = col_integer(),\n",
      "  Protein_position = col_integer(),\n",
      "  Hotspot = col_integer(),\n",
      "  NCALLERS = col_integer(),\n",
      "  n_depth = col_integer(),\n",
      "  t_depth = col_integer()\n",
      ")\n",
      "See spec(...) for full column specifications.\n"
     ]
    }
   ],
   "source": [
    "brca_test <- read_tsv(\"/Volumes/CCG8/processed_data/coad_tcga_pan_can_atlas_2018/data_mutations_extended.txt\")"
   ]
  },
  {
   "cell_type": "code",
   "execution_count": 128,
   "metadata": {},
   "outputs": [],
   "source": [
    "getTestMatrix <- function(test_data, model_windows, jump_length, ...) {\n",
    "    \n",
    "    test_data <- abridge(test_data)   \n",
    "    window_matrix <- TMB_Calc(test_data)\n",
    "    \n",
    "    for (n in 1:nrow(model_windows)) {\n",
    "        new_column <- test_data %>% \n",
    "            filter(Chromosome == model_windows$chromosome[n],\n",
    "                   Start_Position %in% (model_windows$position[n] + 0:(jump_length - 1)))  %>% \n",
    "            group_by(Tumor_Sample_Barcode) %>% \n",
    "            summarise(Window = n())\n",
    "        colnames(new_column) <- c(\"Tumor_Sample_Barcode\", paste0(\"Window_\", n))\n",
    "        window_matrix <- full_join(window_matrix, new_column, by = \"Tumor_Sample_Barcode\")  \n",
    "    }\n",
    "    \n",
    "    window_matrix[is.na(window_matrix)] <- 0\n",
    "    return(window_matrix)\n",
    "    \n",
    "}"
   ]
  },
  {
   "cell_type": "code",
   "execution_count": 140,
   "metadata": {},
   "outputs": [],
   "source": [
    "testModel <- function(model, window_matrix, type = \"R\", threshold = 20) {\n",
    "    comparison <- tibble(prediction = predict(model, window_matrix), actual = window_matrix$TMB)\n",
    "    \n",
    "    if (type == \"R\") {\n",
    "        return(broom::glance(lm(actual~prediction, comparison))$r.squared)\n",
    "    }\n",
    "    \n",
    "    if (type == \"C\") {\n",
    "        comparison <- comparison %>% \n",
    "            mutate(predicted_tmb_high = prediction >= threshold,\n",
    "                   actual_tmb_high = actual >= threshold)\n",
    "        \n",
    "        high <- comparison %>% \n",
    "                    filter(actual_tmb_high == TRUE)\n",
    "        low <- comparison %>% \n",
    "                    filter(actual_tmb_high == FALSE)\n",
    "        correct_high <- high %>% \n",
    "                            filter(predicted_tmb_high == TRUE)\n",
    "        correct_low <- low %>% \n",
    "                            filter(predicted_tmb_high == FALSE)\n",
    "        \n",
    "        return(tibble(sensitivity = c(nrow(correct_high)/nrow(high)),\n",
    "                      specificity = c(nrow(correct_low)/nrow(low))))\n",
    "    }\n",
    "    \n",
    "    if (type == \"W\") {\n",
    "        return(comparison)\n",
    "    }\n",
    "}"
   ]
  },
  {
   "cell_type": "code",
   "execution_count": 145,
   "metadata": {},
   "outputs": [],
   "source": [
    "RLL_test_model <- function(rll_models, test_data, type = \"R\", threshold = 20) {\n",
    "    rll_test_matrices <- (rll_models %>% \n",
    "        mutate(test_matrices = pmap(rll_models, ~getTestMatrix(test_data, ..4,..3 ))))$test_matrices\n",
    "    \n",
    "    rll_test_stats <- map2(rll_models$models, rll_test_matrices, ~testModel(.x, .y, type, threshold))\n",
    "    return(rll_test_stats)\n",
    "}"
   ]
  },
  {
   "cell_type": "code",
   "execution_count": 143,
   "metadata": {},
   "outputs": [
    {
     "data": {
      "text/html": [
       "<ol class=list-inline>\n",
       "\t<li>'iteration'</li>\n",
       "\t<li>'data'</li>\n",
       "\t<li>'jump_length'</li>\n",
       "\t<li>'windows'</li>\n",
       "\t<li>'matrices'</li>\n",
       "\t<li>'models'</li>\n",
       "</ol>\n"
      ],
      "text/latex": [
       "\\begin{enumerate*}\n",
       "\\item 'iteration'\n",
       "\\item 'data'\n",
       "\\item 'jump\\_length'\n",
       "\\item 'windows'\n",
       "\\item 'matrices'\n",
       "\\item 'models'\n",
       "\\end{enumerate*}\n"
      ],
      "text/markdown": [
       "1. 'iteration'\n",
       "2. 'data'\n",
       "3. 'jump_length'\n",
       "4. 'windows'\n",
       "5. 'matrices'\n",
       "6. 'models'\n",
       "\n",
       "\n"
      ],
      "text/plain": [
       "[1] \"iteration\"   \"data\"        \"jump_length\" \"windows\"     \"matrices\"   \n",
       "[6] \"models\"     "
      ]
     },
     "metadata": {},
     "output_type": "display_data"
    }
   ],
   "source": [
    "colnames(tcga_brca_models)"
   ]
  },
  {
   "cell_type": "code",
   "execution_count": 147,
   "metadata": {},
   "outputs": [
    {
     "name": "stderr",
     "output_type": "stream",
     "text": [
      "Warning message:\n",
      "“Unknown columns: `Start_position`”Warning message:\n",
      "“Unknown columns: `End_position`”Warning message:\n",
      "“Unknown columns: `Start_position`”Warning message:\n",
      "“Unknown columns: `End_position`”Warning message:\n",
      "“Unknown columns: `Start_position`”Warning message:\n",
      "“Unknown columns: `End_position`”Warning message:\n",
      "“Unknown columns: `Start_position`”Warning message:\n",
      "“Unknown columns: `End_position`”Warning message:\n",
      "“Unknown columns: `Start_position`”Warning message:\n",
      "“Unknown columns: `End_position`”Warning message:\n",
      "“Unknown columns: `Start_position`”Warning message:\n",
      "“Unknown columns: `End_position`”Warning message:\n",
      "“Unknown columns: `Start_position`”Warning message:\n",
      "“Unknown columns: `End_position`”Warning message:\n",
      "“Unknown columns: `Start_position`”Warning message:\n",
      "“Unknown columns: `End_position`”Warning message in predict.lm(model, window_matrix):\n",
      "“prediction from a rank-deficient fit may be misleading”Warning message in predict.lm(model, window_matrix):\n",
      "“prediction from a rank-deficient fit may be misleading”"
     ]
    },
    {
     "data": {
      "text/html": [
       "<ol>\n",
       "\t<li><table>\n",
       "<thead><tr><th scope=col>sensitivity</th><th scope=col>specificity</th></tr></thead>\n",
       "<tbody>\n",
       "\t<tr><td>0.5</td><td>1  </td></tr>\n",
       "</tbody>\n",
       "</table>\n",
       "</li>\n",
       "\t<li><table>\n",
       "<thead><tr><th scope=col>sensitivity</th><th scope=col>specificity</th></tr></thead>\n",
       "<tbody>\n",
       "\t<tr><td>0.5714286</td><td>1        </td></tr>\n",
       "</tbody>\n",
       "</table>\n",
       "</li>\n",
       "\t<li><table>\n",
       "<thead><tr><th scope=col>sensitivity</th><th scope=col>specificity</th></tr></thead>\n",
       "<tbody>\n",
       "\t<tr><td>0.1857143</td><td>1        </td></tr>\n",
       "</tbody>\n",
       "</table>\n",
       "</li>\n",
       "\t<li><table>\n",
       "<thead><tr><th scope=col>sensitivity</th><th scope=col>specificity</th></tr></thead>\n",
       "<tbody>\n",
       "\t<tr><td>0.2285714</td><td>0.9937695</td></tr>\n",
       "</tbody>\n",
       "</table>\n",
       "</li>\n",
       "</ol>\n"
      ],
      "text/latex": [
       "\\begin{enumerate}\n",
       "\\item \\begin{tabular}{r|ll}\n",
       " sensitivity & specificity\\\\\n",
       "\\hline\n",
       "\t 0.5 & 1  \\\\\n",
       "\\end{tabular}\n",
       "\n",
       "\\item \\begin{tabular}{r|ll}\n",
       " sensitivity & specificity\\\\\n",
       "\\hline\n",
       "\t 0.5714286 & 1        \\\\\n",
       "\\end{tabular}\n",
       "\n",
       "\\item \\begin{tabular}{r|ll}\n",
       " sensitivity & specificity\\\\\n",
       "\\hline\n",
       "\t 0.1857143 & 1        \\\\\n",
       "\\end{tabular}\n",
       "\n",
       "\\item \\begin{tabular}{r|ll}\n",
       " sensitivity & specificity\\\\\n",
       "\\hline\n",
       "\t 0.2285714 & 0.9937695\\\\\n",
       "\\end{tabular}\n",
       "\n",
       "\\end{enumerate}\n"
      ],
      "text/markdown": [
       "1. \n",
       "sensitivity | specificity | \n",
       "|---|\n",
       "| 0.5 | 1   | \n",
       "\n",
       "\n",
       "\n",
       "2. \n",
       "sensitivity | specificity | \n",
       "|---|\n",
       "| 0.5714286 | 1         | \n",
       "\n",
       "\n",
       "\n",
       "3. \n",
       "sensitivity | specificity | \n",
       "|---|\n",
       "| 0.1857143 | 1         | \n",
       "\n",
       "\n",
       "\n",
       "4. \n",
       "sensitivity | specificity | \n",
       "|---|\n",
       "| 0.2285714 | 0.9937695 | \n",
       "\n",
       "\n",
       "\n",
       "\n",
       "\n"
      ],
      "text/plain": [
       "[[1]]\n",
       "# A tibble: 1 x 2\n",
       "  sensitivity specificity\n",
       "        <dbl>       <dbl>\n",
       "1         0.5           1\n",
       "\n",
       "[[2]]\n",
       "# A tibble: 1 x 2\n",
       "  sensitivity specificity\n",
       "        <dbl>       <dbl>\n",
       "1       0.571           1\n",
       "\n",
       "[[3]]\n",
       "# A tibble: 1 x 2\n",
       "  sensitivity specificity\n",
       "        <dbl>       <dbl>\n",
       "1       0.186           1\n",
       "\n",
       "[[4]]\n",
       "# A tibble: 1 x 2\n",
       "  sensitivity specificity\n",
       "        <dbl>       <dbl>\n",
       "1       0.229       0.994\n"
      ]
     },
     "metadata": {},
     "output_type": "display_data"
    }
   ],
   "source": [
    "RLL_test_model(tcga_brca_models, brca_test, type = \"C\")"
   ]
  },
  {
   "cell_type": "code",
   "execution_count": 158,
   "metadata": {
    "scrolled": true
   },
   "outputs": [
    {
     "name": "stderr",
     "output_type": "stream",
     "text": [
      "Warning message:\n",
      "“Unknown columns: `Start_position`”Warning message:\n",
      "“Unknown columns: `End_position`”Warning message:\n",
      "“Unknown columns: `Start_position`”Warning message:\n",
      "“Unknown columns: `End_position`”Warning message in predict.lm(model, window_matrix):\n",
      "“prediction from a rank-deficient fit may be misleading”"
     ]
    },
    {
     "data": {
      "text/html": [
       "<table>\n",
       "<thead><tr><th scope=col>sensitivity</th><th scope=col>specificity</th></tr></thead>\n",
       "<tbody>\n",
       "\t<tr><td>1        </td><td>0.1838006</td></tr>\n",
       "</tbody>\n",
       "</table>\n"
      ],
      "text/latex": [
       "\\begin{tabular}{r|ll}\n",
       " sensitivity & specificity\\\\\n",
       "\\hline\n",
       "\t 1         & 0.1838006\\\\\n",
       "\\end{tabular}\n"
      ],
      "text/markdown": [
       "\n",
       "sensitivity | specificity | \n",
       "|---|\n",
       "| 1         | 0.1838006 | \n",
       "\n",
       "\n"
      ],
      "text/plain": [
       "  sensitivity specificity\n",
       "1 1           0.1838006  "
      ]
     },
     "metadata": {},
     "output_type": "display_data"
    }
   ],
   "source": [
    "getTestMatrix(brca_test, tcga_brca_models$windows[[4]], 1000000) %>% \n",
    "    testModel(tcga_brca_models$models[[4]],., type = \"C\")"
   ]
  },
  {
   "cell_type": "code",
   "execution_count": 152,
   "metadata": {},
   "outputs": [
    {
     "data": {
      "text/html": [
       "<ol class=list-inline>\n",
       "\t<li>'iteration'</li>\n",
       "\t<li>'data'</li>\n",
       "\t<li>'jump_length'</li>\n",
       "\t<li>'windows'</li>\n",
       "\t<li>'matrices'</li>\n",
       "\t<li>'models'</li>\n",
       "</ol>\n"
      ],
      "text/latex": [
       "\\begin{enumerate*}\n",
       "\\item 'iteration'\n",
       "\\item 'data'\n",
       "\\item 'jump\\_length'\n",
       "\\item 'windows'\n",
       "\\item 'matrices'\n",
       "\\item 'models'\n",
       "\\end{enumerate*}\n"
      ],
      "text/markdown": [
       "1. 'iteration'\n",
       "2. 'data'\n",
       "3. 'jump_length'\n",
       "4. 'windows'\n",
       "5. 'matrices'\n",
       "6. 'models'\n",
       "\n",
       "\n"
      ],
      "text/plain": [
       "[1] \"iteration\"   \"data\"        \"jump_length\" \"windows\"     \"matrices\"   \n",
       "[6] \"models\"     "
      ]
     },
     "metadata": {},
     "output_type": "display_data"
    }
   ],
   "source": [
    "colnames(tcga_brca_models)"
   ]
  },
  {
   "cell_type": "code",
   "execution_count": 157,
   "metadata": {},
   "outputs": [
    {
     "name": "stderr",
     "output_type": "stream",
     "text": [
      "Warning message:\n",
      "“Unknown columns: `Start_position`”Warning message:\n",
      "“Unknown columns: `End_position`”Warning message:\n",
      "“Unknown columns: `Start_position`”Warning message:\n",
      "“Unknown columns: `End_position`”Warning message:\n",
      "“Unknown columns: `Start_position`”Warning message:\n",
      "“Unknown columns: `End_position`”Warning message:\n",
      "“Unknown columns: `Start_position`”Warning message:\n",
      "“Unknown columns: `End_position`”Warning message:\n",
      "“Unknown columns: `Start_position`”Warning message:\n",
      "“Unknown columns: `End_position`”Warning message:\n",
      "“Unknown columns: `Start_position`”Warning message:\n",
      "“Unknown columns: `End_position`”Warning message:\n",
      "“Unknown columns: `Start_position`”Warning message:\n",
      "“Unknown columns: `End_position`”Warning message:\n",
      "“Unknown columns: `Start_position`”Warning message:\n",
      "“Unknown columns: `End_position`”"
     ]
    },
    {
     "ename": "ERROR",
     "evalue": "Error in mutate_impl(.data, dots): Evaluation error: object 'Window_1' not found.\n",
     "output_type": "error",
     "traceback": [
      "Error in mutate_impl(.data, dots): Evaluation error: object 'Window_1' not found.\nTraceback:\n",
      "1. tcga_brca_models %>% mutate(test_matrices = pmap(tcga_brca_models, \n .     ~getTestMatrix(brca_test, ..4, ..3))) %>% select(test_matrices) %>% \n .     mutate(test_stats = pmap(tcga_brca_models, ~testModel(..6, \n .         test_matrices, type, threshold))) %>% select(test_stats)",
      "2. withVisible(eval(quote(`_fseq`(`_lhs`)), env, env))",
      "3. eval(quote(`_fseq`(`_lhs`)), env, env)",
      "4. eval(quote(`_fseq`(`_lhs`)), env, env)",
      "5. `_fseq`(`_lhs`)",
      "6. freduce(value, `_function_list`)",
      "7. function_list[[i]](value)",
      "8. mutate(., test_stats = pmap(tcga_brca_models, ~testModel(..6, \n .     test_matrices, type, threshold)))",
      "9. mutate.tbl_df(., test_stats = pmap(tcga_brca_models, ~testModel(..6, \n .     test_matrices, type, threshold)))",
      "10. mutate_impl(.data, dots)"
     ]
    }
   ],
   "source": [
    "tcga_brca_models %>% \n",
    "    mutate(test_matrices = pmap(tcga_brca_models, ~getTestMatrix(brca_test, ..4, ..3))) %>% \n",
    "    select(test_matrices) %>% \n",
    "    mutate(test_stats = pmap(tcga_brca_models, ~testModel(..6, test_matrices, type, threshold))) %>% \n",
    "    select(test_stats)"
   ]
  },
  {
   "cell_type": "code",
   "execution_count": 63,
   "metadata": {},
   "outputs": [
    {
     "ename": "ERROR",
     "evalue": "Error in (function (classes, fdef, mtable) : unable to find an inherited method for function ‘select’ for signature ‘\"tbl_df\"’\n",
     "output_type": "error",
     "traceback": [
      "Error in (function (classes, fdef, mtable) : unable to find an inherited method for function ‘select’ for signature ‘\"tbl_df\"’\nTraceback:\n",
      "1. tcga_brca_matrices$matrices[[2]] %>% select(TMB)",
      "2. withVisible(eval(quote(`_fseq`(`_lhs`)), env, env))",
      "3. eval(quote(`_fseq`(`_lhs`)), env, env)",
      "4. eval(quote(`_fseq`(`_lhs`)), env, env)",
      "5. `_fseq`(`_lhs`)",
      "6. freduce(value, `_function_list`)",
      "7. withVisible(function_list[[k]](value))",
      "8. function_list[[k]](value)",
      "9. select(., TMB)",
      "10. (function (classes, fdef, mtable) \n  . {\n  .     methods <- .findInheritedMethods(classes, fdef, mtable)\n  .     if (length(methods) == 1L) \n  .         return(methods[[1L]])\n  .     else if (length(methods) == 0L) {\n  .         cnames <- paste0(\"\\\"\", vapply(classes, as.character, \n  .             \"\"), \"\\\"\", collapse = \", \")\n  .         stop(gettextf(\"unable to find an inherited method for function %s for signature %s\", \n  .             sQuote(fdef@generic), sQuote(cnames)), domain = NA)\n  .     }\n  .     else stop(\"Internal error in finding inherited methods; didn't return a unique method\", \n  .         domain = NA)\n  . })(list(\"tbl_df\"), new(\"standardGeneric\", .Data = function (x, \n  .     keys, columns, keytype, ...) \n  . standardGeneric(\"select\"), generic = structure(\"select\", package = \"AnnotationDbi\"), \n  .     package = \"AnnotationDbi\", group = list(), valueClass = character(0), \n  .     signature = \"x\", default = NULL, skeleton = (function (x, \n  .         keys, columns, keytype, ...) \n  .     stop(\"invalid call in method dispatch to 'select' (no default method)\", \n  .         domain = NA))(x, keys, columns, keytype, ...)), <environment>)",
      "11. stop(gettextf(\"unable to find an inherited method for function %s for signature %s\", \n  .     sQuote(fdef@generic), sQuote(cnames)), domain = NA)"
     ]
    }
   ],
   "source": [
    "tcga_brca_matrices$matrices[[2]] %>% \n",
    "    select(TMB)\n",
    "    "
   ]
  },
  {
   "cell_type": "code",
   "execution_count": 67,
   "metadata": {},
   "outputs": [
    {
     "ename": "ERROR",
     "evalue": "Error in (function (classes, fdef, mtable) : unable to find an inherited method for function ‘select’ for signature ‘\"tbl_df\"’\n",
     "output_type": "error",
     "traceback": [
      "Error in (function (classes, fdef, mtable) : unable to find an inherited method for function ‘select’ for signature ‘\"tbl_df\"’\nTraceback:\n",
      "1. tibble(x = 1:10, y = 2:11) %>% select(\"x\")",
      "2. withVisible(eval(quote(`_fseq`(`_lhs`)), env, env))",
      "3. eval(quote(`_fseq`(`_lhs`)), env, env)",
      "4. eval(quote(`_fseq`(`_lhs`)), env, env)",
      "5. `_fseq`(`_lhs`)",
      "6. freduce(value, `_function_list`)",
      "7. withVisible(function_list[[k]](value))",
      "8. function_list[[k]](value)",
      "9. select(., \"x\")",
      "10. (function (classes, fdef, mtable) \n  . {\n  .     methods <- .findInheritedMethods(classes, fdef, mtable)\n  .     if (length(methods) == 1L) \n  .         return(methods[[1L]])\n  .     else if (length(methods) == 0L) {\n  .         cnames <- paste0(\"\\\"\", vapply(classes, as.character, \n  .             \"\"), \"\\\"\", collapse = \", \")\n  .         stop(gettextf(\"unable to find an inherited method for function %s for signature %s\", \n  .             sQuote(fdef@generic), sQuote(cnames)), domain = NA)\n  .     }\n  .     else stop(\"Internal error in finding inherited methods; didn't return a unique method\", \n  .         domain = NA)\n  . })(list(\"tbl_df\"), new(\"standardGeneric\", .Data = function (x, \n  .     keys, columns, keytype, ...) \n  . standardGeneric(\"select\"), generic = structure(\"select\", package = \"AnnotationDbi\"), \n  .     package = \"AnnotationDbi\", group = list(), valueClass = character(0), \n  .     signature = \"x\", default = NULL, skeleton = (function (x, \n  .         keys, columns, keytype, ...) \n  .     stop(\"invalid call in method dispatch to 'select' (no default method)\", \n  .         domain = NA))(x, keys, columns, keytype, ...)), <environment>)",
      "11. stop(gettextf(\"unable to find an inherited method for function %s for signature %s\", \n  .     sQuote(fdef@generic), sQuote(cnames)), domain = NA)"
     ]
    }
   ],
   "source": [
    "tibble(x = 1:10, y = 2:11) %>% \n",
    "    select(\"x\")\n"
   ]
  },
  {
   "cell_type": "code",
   "execution_count": 14,
   "metadata": {},
   "outputs": [],
   "source": [
    "library(\"biomaRt\")"
   ]
  },
  {
   "cell_type": "code",
   "execution_count": 15,
   "metadata": {},
   "outputs": [
    {
     "data": {
      "text/html": [
       "<table>\n",
       "<thead><tr><th scope=col>biomart</th><th scope=col>version</th></tr></thead>\n",
       "<tbody>\n",
       "\t<tr><td>ENSEMBL_MART_ENSEMBL </td><td>Ensembl Genes 94     </td></tr>\n",
       "\t<tr><td>ENSEMBL_MART_MOUSE   </td><td>Mouse strains 94     </td></tr>\n",
       "\t<tr><td>ENSEMBL_MART_SNP     </td><td>Ensembl Variation 94 </td></tr>\n",
       "\t<tr><td>ENSEMBL_MART_FUNCGEN </td><td>Ensembl Regulation 94</td></tr>\n",
       "</tbody>\n",
       "</table>\n"
      ],
      "text/latex": [
       "\\begin{tabular}{r|ll}\n",
       " biomart & version\\\\\n",
       "\\hline\n",
       "\t ENSEMBL\\_MART\\_ENSEMBL & Ensembl Genes 94        \\\\\n",
       "\t ENSEMBL\\_MART\\_MOUSE   & Mouse strains 94        \\\\\n",
       "\t ENSEMBL\\_MART\\_SNP     & Ensembl Variation 94    \\\\\n",
       "\t ENSEMBL\\_MART\\_FUNCGEN & Ensembl Regulation 94   \\\\\n",
       "\\end{tabular}\n"
      ],
      "text/markdown": [
       "\n",
       "biomart | version | \n",
       "|---|---|---|---|\n",
       "| ENSEMBL_MART_ENSEMBL  | Ensembl Genes 94      | \n",
       "| ENSEMBL_MART_MOUSE    | Mouse strains 94      | \n",
       "| ENSEMBL_MART_SNP      | Ensembl Variation 94  | \n",
       "| ENSEMBL_MART_FUNCGEN  | Ensembl Regulation 94 | \n",
       "\n",
       "\n"
      ],
      "text/plain": [
       "  biomart              version              \n",
       "1 ENSEMBL_MART_ENSEMBL Ensembl Genes 94     \n",
       "2 ENSEMBL_MART_MOUSE   Mouse strains 94     \n",
       "3 ENSEMBL_MART_SNP     Ensembl Variation 94 \n",
       "4 ENSEMBL_MART_FUNCGEN Ensembl Regulation 94"
      ]
     },
     "metadata": {},
     "output_type": "display_data"
    }
   ],
   "source": [
    "listMarts()"
   ]
  },
  {
   "cell_type": "code",
   "execution_count": 22,
   "metadata": {},
   "outputs": [],
   "source": [
    "ensembl = useMart(\"ensembl\", dataset = \"hsapiens_gene_ensembl\")"
   ]
  },
  {
   "cell_type": "code",
   "execution_count": 52,
   "metadata": {},
   "outputs": [
    {
     "data": {
      "text/html": [
       "55"
      ],
      "text/latex": [
       "55"
      ],
      "text/markdown": [
       "55"
      ],
      "text/plain": [
       "[1] 55"
      ]
     },
     "metadata": {},
     "output_type": "display_data"
    }
   ],
   "source": [
    "getBM(attributes = c('ensembl_gene_id', 'external_gene_name'),\n",
    "      filters = c('chromosome_name', 'start', 'end'),\n",
    "      values = list(2, 27000001,28000000),\n",
    "      mart = ensembl) %>% \n",
    "    nrow()\n"
   ]
  },
  {
   "cell_type": "code",
   "execution_count": null,
   "metadata": {},
   "outputs": [],
   "source": []
  }
 ],
 "metadata": {
  "kernelspec": {
   "display_name": "R",
   "language": "R",
   "name": "ir"
  },
  "language_info": {
   "codemirror_mode": "r",
   "file_extension": ".r",
   "mimetype": "text/x-r-source",
   "name": "R",
   "pygments_lexer": "r",
   "version": "3.5.1"
  }
 },
 "nbformat": 4,
 "nbformat_minor": 2
}
