{
 "cells": [
  {
   "cell_type": "markdown",
   "metadata": {},
   "source": [
    "## 4. Producing a Training Matrix"
   ]
  },
  {
   "cell_type": "markdown",
   "metadata": {},
   "source": [
    "We want to take the sliding window approaches detailed above detecting genomic loci of interest, and move towards using those regions of interest to predict TMB as accurately as possible."
   ]
  },
  {
   "cell_type": "code",
   "execution_count": 1,
   "metadata": {},
   "outputs": [],
   "source": [
    "setwd(\"/Users/jacobbradley/Documents/CCG/Code\")"
   ]
  },
  {
   "cell_type": "markdown",
   "metadata": {},
   "source": [
    "### Packages"
   ]
  },
  {
   "cell_type": "code",
   "execution_count": 2,
   "metadata": {
    "collapsed": true
   },
   "outputs": [
    {
     "name": "stdout",
     "output_type": "stream",
     "text": [
      "\n",
      "The downloaded binary packages are in\n",
      "\t/var/folders/g9/9x6m35fn5ydf88vdlm9n1vg80000gn/T//RtmpOLAxg3/downloaded_packages\n"
     ]
    },
    {
     "name": "stderr",
     "output_type": "stream",
     "text": [
      "── Attaching packages ─────────────────────────────────────── tidyverse 1.2.1 ──\n",
      "✔ ggplot2 3.1.0     ✔ purrr   0.2.5\n",
      "✔ tibble  1.4.2     ✔ dplyr   0.7.8\n",
      "✔ tidyr   0.8.2     ✔ stringr 1.3.1\n",
      "✔ readr   1.1.1     ✔ forcats 0.3.0\n",
      "── Conflicts ────────────────────────────────────────── tidyverse_conflicts() ──\n",
      "✖ dplyr::filter() masks stats::filter()\n",
      "✖ dplyr::lag()    masks stats::lag()\n",
      "Loading required namespace: BiocManager\n",
      "Bioconductor version 3.8 (BiocManager 1.30.3), R 3.5.1 (2018-07-02)\n",
      "Update old packages: 'AnnotationHub', 'backports', 'BiocManager',\n",
      "  'BiocParallel', 'biovizBase', 'broom', 'callr', 'circlize', 'edgeR', 'ELMER',\n",
      "  'ensembldb', 'foreign', 'gdsfmt', 'ggpubr', 'Gviz', 'haven', 'httr',\n",
      "  'IRdisplay', 'jsonlite', 'knitr', 'lattice', 'limma', 'markdown', 'MASS',\n",
      "  'Matrix', 'mclust', 'mgcv', 'openssl', 'pillar', 'processx', 'RcppEigen',\n",
      "  'readr', 'repr', 'rmarkdown', 'rtracklayer', 'rvcheck', 'survival', 'tweenr',\n",
      "  'units', 'VariantAnnotation'\n",
      "Loading required package: BiocGenerics\n",
      "Loading required package: parallel\n",
      "\n",
      "Attaching package: ‘BiocGenerics’\n",
      "\n",
      "The following objects are masked from ‘package:parallel’:\n",
      "\n",
      "    clusterApply, clusterApplyLB, clusterCall, clusterEvalQ,\n",
      "    clusterExport, clusterMap, parApply, parCapply, parLapply,\n",
      "    parLapplyLB, parRapply, parSapply, parSapplyLB\n",
      "\n",
      "The following objects are masked from ‘package:dplyr’:\n",
      "\n",
      "    combine, intersect, setdiff, union\n",
      "\n",
      "The following objects are masked from ‘package:stats’:\n",
      "\n",
      "    IQR, mad, sd, var, xtabs\n",
      "\n",
      "The following objects are masked from ‘package:base’:\n",
      "\n",
      "    anyDuplicated, append, as.data.frame, basename, cbind, colMeans,\n",
      "    colnames, colSums, dirname, do.call, duplicated, eval, evalq,\n",
      "    Filter, Find, get, grep, grepl, intersect, is.unsorted, lapply,\n",
      "    lengths, Map, mapply, match, mget, order, paste, pmax, pmax.int,\n",
      "    pmin, pmin.int, Position, rank, rbind, Reduce, rowMeans, rownames,\n",
      "    rowSums, sapply, setdiff, sort, table, tapply, union, unique,\n",
      "    unsplit, which, which.max, which.min\n",
      "\n",
      "Loading required package: S4Vectors\n",
      "Loading required package: stats4\n",
      "\n",
      "Attaching package: ‘S4Vectors’\n",
      "\n",
      "The following objects are masked from ‘package:dplyr’:\n",
      "\n",
      "    first, rename\n",
      "\n",
      "The following object is masked from ‘package:tidyr’:\n",
      "\n",
      "    expand\n",
      "\n",
      "The following object is masked from ‘package:base’:\n",
      "\n",
      "    expand.grid\n",
      "\n",
      "Loading required package: IRanges\n",
      "\n",
      "Attaching package: ‘IRanges’\n",
      "\n",
      "The following objects are masked from ‘package:dplyr’:\n",
      "\n",
      "    collapse, desc, slice\n",
      "\n",
      "The following object is masked from ‘package:purrr’:\n",
      "\n",
      "    reduce\n",
      "\n",
      "Loading required package: GenomeInfoDb\n",
      "Loading required package: GenomicRanges\n",
      "Loading required package: Biostrings\n",
      "Loading required package: XVector\n",
      "\n",
      "Attaching package: ‘XVector’\n",
      "\n",
      "The following object is masked from ‘package:purrr’:\n",
      "\n",
      "    compact\n",
      "\n",
      "\n",
      "Attaching package: ‘Biostrings’\n",
      "\n",
      "The following object is masked from ‘package:base’:\n",
      "\n",
      "    strsplit\n",
      "\n",
      "Loading required package: rtracklayer\n"
     ]
    }
   ],
   "source": [
    "install.packages(\"tidyverse\")\n",
    "library(tidyverse)\n",
    "# Data Handling\n",
    "\n",
    "if (!requireNamespace(\"BiocManager\"))\n",
    "    install.packages(\"BiocManager\")\n",
    "BiocManager::install()\n",
    "library(BiocManager)\n",
    "# General bioinformatics packages\n",
    "\n",
    "library(BSgenome)\n",
    "library(BSgenome.Hsapiens.UCSC.hg19)\n",
    "# Human genome build GChr37"
   ]
  },
  {
   "cell_type": "code",
   "execution_count": 3,
   "metadata": {},
   "outputs": [],
   "source": [
    "source(\"TMB_Funcs.txt\")\n",
    "# My Stuff!"
   ]
  },
  {
   "cell_type": "markdown",
   "metadata": {},
   "source": [
    "### Producing a training matrix"
   ]
  },
  {
   "cell_type": "code",
   "execution_count": 4,
   "metadata": {},
   "outputs": [],
   "source": [
    "chromosomes <- c(1:22,\"X\",\"Y\")\n",
    "genome <- BSgenome.Hsapiens.UCSC.hg19\n",
    "\n",
    "window_size <- 1000000\n",
    "jump_length <- 100000"
   ]
  },
  {
   "cell_type": "code",
   "execution_count": 5,
   "metadata": {
    "collapsed": true
   },
   "outputs": [
    {
     "name": "stderr",
     "output_type": "stream",
     "text": [
      "Warning message:\n",
      "“Missing column names filled in: 'X54' [54]”Parsed with column specification:\n",
      "cols(\n",
      "  .default = col_character(),\n",
      "  Entrez_Gene_Id = col_integer(),\n",
      "  Start_Position = col_integer(),\n",
      "  End_Position = col_integer(),\n",
      "  Score = col_integer(),\n",
      "  t_ref_count = col_integer(),\n",
      "  t_alt_count = col_integer(),\n",
      "  Protein_position = col_integer(),\n",
      "  Hotspot = col_integer(),\n",
      "  stop_WU = col_integer(),\n",
      "  X54 = col_double(),\n",
      "  tumor_vaf = col_double(),\n",
      "  normal_ref_reads = col_integer(),\n",
      "  start_WU = col_integer(),\n",
      "  strand_WU = col_integer(),\n",
      "  tumors_var_reads = col_integer(),\n",
      "  normal_vaf = col_double(),\n",
      "  tumor_ref_reads = col_integer(),\n",
      "  normal_var_reads = col_integer()\n",
      ")\n",
      "See spec(...) for full column specifications.\n",
      "Warning message in rbind(names(probs), probs_f):\n",
      "“number of columns of result is not a multiple of vector length (arg 1)”Warning message:\n",
      "“3282 parsing failures.\n",
      "row # A tibble: 5 x 5 col     row col     expected  actual file                                           expected   <int> <chr>   <chr>     <chr>  <chr>                                          actual 1 88850 stop_WU an integ… known  '/Volumes/CCG8/processed_data/brca_tcga/data_… file 2 88850 X54     a double  BCR    '/Volumes/CCG8/processed_data/brca_tcga/data_… row 3 88851 stop_WU an integ… known  '/Volumes/CCG8/processed_data/brca_tcga/data_… col 4 88851 X54     a double  BCR    '/Volumes/CCG8/processed_data/brca_tcga/data_… expected 5 88852 stop_WU an integ… known  '/Volumes/CCG8/processed_data/brca_tcga/data_…\n",
      "... ................. ... ............................................................................... ........ ............................................................................... ...... ............................................................................... .... ............................................................................... ... ............................................................................... ... ............................................................................... ........ ...............................................................................\n",
      "See problems(...) for more details.\n",
      "”"
     ]
    }
   ],
   "source": [
    "new_data <- read_tsv(\"/Volumes/CCG8/processed_data/brca_tcga/data_mutations_extended.txt\")\n"
   ]
  },
  {
   "cell_type": "code",
   "execution_count": 17,
   "metadata": {},
   "outputs": [],
   "source": [
    "windows <- paste0(\"Window_\", 1:(ncol(training_matrix)-2))\n",
    "formula <- as.formula(paste(\"TMB ~\", paste(windows, collapse = \"+\")))\n",
    "tcga_brca_fit <- lm(formula, training_matrix)"
   ]
  },
  {
   "cell_type": "code",
   "execution_count": 18,
   "metadata": {},
   "outputs": [
    {
     "data": {
      "text/plain": [
       "\n",
       "Call:\n",
       "lm(formula = formula, data = training_matrix)\n",
       "\n",
       "Residuals:\n",
       "   Min     1Q Median     3Q    Max \n",
       "-1.739 -1.106 -0.773 -0.006 34.261 \n",
       "\n",
       "Coefficients: (7 not defined because of singularities)\n",
       "            Estimate Std. Error t value Pr(>|t|)    \n",
       "(Intercept)   1.7728     0.1003   17.68   <2e-16 ***\n",
       "Window_1          NA         NA      NA       NA    \n",
       "Window_2          NA         NA      NA       NA    \n",
       "Window_3          NA         NA      NA       NA    \n",
       "Window_4          NA         NA      NA       NA    \n",
       "Window_5    114.1272     3.1377   36.37   <2e-16 ***\n",
       "Window_6     66.5939     3.1377   21.22   <2e-16 ***\n",
       "Window_7          NA         NA      NA       NA    \n",
       "Window_8          NA         NA      NA       NA    \n",
       "Window_9          NA         NA      NA       NA    \n",
       "Window_10    76.8000     4.4351   17.32   <2e-16 ***\n",
       "---\n",
       "Signif. codes:  0 ‘***’ 0.001 ‘**’ 0.01 ‘*’ 0.05 ‘.’ 0.1 ‘ ’ 1\n",
       "\n",
       "Residual standard error: 3.136 on 977 degrees of freedom\n",
       "Multiple R-squared:  0.7978,\tAdjusted R-squared:  0.7972 \n",
       "F-statistic:  1285 on 3 and 977 DF,  p-value: < 2.2e-16\n"
      ]
     },
     "metadata": {},
     "output_type": "display_data"
    }
   ],
   "source": [
    "summary(tcga_brca_fit)"
   ]
  },
  {
   "cell_type": "code",
   "execution_count": 9,
   "metadata": {
    "collapsed": true
   },
   "outputs": [
    {
     "name": "stderr",
     "output_type": "stream",
     "text": [
      "Warning message:\n",
      "“Unknown columns: `Start_position`”Warning message:\n",
      "“Unknown columns: `End_position`”Warning message:\n",
      "“Unknown columns: `Start_position`”Warning message:\n",
      "“Unknown columns: `End_position`”"
     ]
    },
    {
     "name": "stdout",
     "output_type": "stream",
     "text": [
      "[1] \"1\"\n"
     ]
    },
    {
     "name": "stderr",
     "output_type": "stream",
     "text": [
      "Warning message:\n",
      "“Unknown columns: `Start_position`”Warning message:\n",
      "“Unknown columns: `End_position`”"
     ]
    },
    {
     "name": "stdout",
     "output_type": "stream",
     "text": [
      "[1] \"2\"\n"
     ]
    },
    {
     "name": "stderr",
     "output_type": "stream",
     "text": [
      "Warning message:\n",
      "“Unknown columns: `Start_position`”Warning message:\n",
      "“Unknown columns: `End_position`”"
     ]
    },
    {
     "name": "stdout",
     "output_type": "stream",
     "text": [
      "[1] \"3\"\n"
     ]
    },
    {
     "name": "stderr",
     "output_type": "stream",
     "text": [
      "Warning message:\n",
      "“Unknown columns: `Start_position`”Warning message:\n",
      "“Unknown columns: `End_position`”"
     ]
    },
    {
     "name": "stdout",
     "output_type": "stream",
     "text": [
      "[1] \"4\"\n"
     ]
    },
    {
     "name": "stderr",
     "output_type": "stream",
     "text": [
      "Warning message:\n",
      "“Unknown columns: `Start_position`”Warning message:\n",
      "“Unknown columns: `End_position`”"
     ]
    },
    {
     "name": "stdout",
     "output_type": "stream",
     "text": [
      "[1] \"5\"\n"
     ]
    },
    {
     "name": "stderr",
     "output_type": "stream",
     "text": [
      "Warning message:\n",
      "“Unknown columns: `Start_position`”Warning message:\n",
      "“Unknown columns: `End_position`”"
     ]
    },
    {
     "name": "stdout",
     "output_type": "stream",
     "text": [
      "[1] \"6\"\n"
     ]
    },
    {
     "name": "stderr",
     "output_type": "stream",
     "text": [
      "Warning message:\n",
      "“Unknown columns: `Start_position`”Warning message:\n",
      "“Unknown columns: `End_position`”"
     ]
    },
    {
     "name": "stdout",
     "output_type": "stream",
     "text": [
      "[1] \"7\"\n"
     ]
    },
    {
     "name": "stderr",
     "output_type": "stream",
     "text": [
      "Warning message:\n",
      "“Unknown columns: `Start_position`”Warning message:\n",
      "“Unknown columns: `End_position`”"
     ]
    },
    {
     "name": "stdout",
     "output_type": "stream",
     "text": [
      "[1] \"8\"\n"
     ]
    },
    {
     "name": "stderr",
     "output_type": "stream",
     "text": [
      "Warning message:\n",
      "“Unknown columns: `Start_position`”Warning message:\n",
      "“Unknown columns: `End_position`”"
     ]
    },
    {
     "name": "stdout",
     "output_type": "stream",
     "text": [
      "[1] \"9\"\n"
     ]
    },
    {
     "name": "stderr",
     "output_type": "stream",
     "text": [
      "Warning message:\n",
      "“Unknown columns: `Start_position`”Warning message:\n",
      "“Unknown columns: `End_position`”"
     ]
    },
    {
     "name": "stdout",
     "output_type": "stream",
     "text": [
      "[1] \"10\"\n"
     ]
    },
    {
     "name": "stderr",
     "output_type": "stream",
     "text": [
      "Warning message:\n",
      "“Unknown columns: `Start_position`”Warning message:\n",
      "“Unknown columns: `End_position`”"
     ]
    },
    {
     "name": "stdout",
     "output_type": "stream",
     "text": [
      "[1] \"11\"\n"
     ]
    },
    {
     "name": "stderr",
     "output_type": "stream",
     "text": [
      "Warning message:\n",
      "“Unknown columns: `Start_position`”Warning message:\n",
      "“Unknown columns: `End_position`”"
     ]
    },
    {
     "name": "stdout",
     "output_type": "stream",
     "text": [
      "[1] \"12\"\n"
     ]
    },
    {
     "name": "stderr",
     "output_type": "stream",
     "text": [
      "Warning message:\n",
      "“Unknown columns: `Start_position`”Warning message:\n",
      "“Unknown columns: `End_position`”"
     ]
    },
    {
     "name": "stdout",
     "output_type": "stream",
     "text": [
      "[1] \"13\"\n"
     ]
    },
    {
     "name": "stderr",
     "output_type": "stream",
     "text": [
      "Warning message:\n",
      "“Unknown columns: `Start_position`”Warning message:\n",
      "“Unknown columns: `End_position`”"
     ]
    },
    {
     "name": "stdout",
     "output_type": "stream",
     "text": [
      "[1] \"14\"\n"
     ]
    },
    {
     "name": "stderr",
     "output_type": "stream",
     "text": [
      "Warning message:\n",
      "“Unknown columns: `Start_position`”Warning message:\n",
      "“Unknown columns: `End_position`”"
     ]
    },
    {
     "name": "stdout",
     "output_type": "stream",
     "text": [
      "[1] \"15\"\n"
     ]
    },
    {
     "name": "stderr",
     "output_type": "stream",
     "text": [
      "Warning message:\n",
      "“Unknown columns: `Start_position`”Warning message:\n",
      "“Unknown columns: `End_position`”"
     ]
    },
    {
     "name": "stdout",
     "output_type": "stream",
     "text": [
      "[1] \"16\"\n"
     ]
    },
    {
     "name": "stderr",
     "output_type": "stream",
     "text": [
      "Warning message:\n",
      "“Unknown columns: `Start_position`”Warning message:\n",
      "“Unknown columns: `End_position`”"
     ]
    },
    {
     "name": "stdout",
     "output_type": "stream",
     "text": [
      "[1] \"17\"\n"
     ]
    },
    {
     "name": "stderr",
     "output_type": "stream",
     "text": [
      "Warning message:\n",
      "“Unknown columns: `Start_position`”Warning message:\n",
      "“Unknown columns: `End_position`”"
     ]
    },
    {
     "name": "stdout",
     "output_type": "stream",
     "text": [
      "[1] \"18\"\n"
     ]
    },
    {
     "name": "stderr",
     "output_type": "stream",
     "text": [
      "Warning message:\n",
      "“Unknown columns: `Start_position`”Warning message:\n",
      "“Unknown columns: `End_position`”"
     ]
    },
    {
     "name": "stdout",
     "output_type": "stream",
     "text": [
      "[1] \"19\"\n"
     ]
    },
    {
     "name": "stderr",
     "output_type": "stream",
     "text": [
      "Warning message:\n",
      "“Unknown columns: `Start_position`”Warning message:\n",
      "“Unknown columns: `End_position`”"
     ]
    },
    {
     "name": "stdout",
     "output_type": "stream",
     "text": [
      "[1] \"20\"\n"
     ]
    },
    {
     "name": "stderr",
     "output_type": "stream",
     "text": [
      "Warning message:\n",
      "“Unknown columns: `Start_position`”Warning message:\n",
      "“Unknown columns: `End_position`”"
     ]
    },
    {
     "name": "stdout",
     "output_type": "stream",
     "text": [
      "[1] \"21\"\n"
     ]
    },
    {
     "name": "stderr",
     "output_type": "stream",
     "text": [
      "Warning message:\n",
      "“Unknown columns: `Start_position`”Warning message:\n",
      "“Unknown columns: `End_position`”"
     ]
    },
    {
     "name": "stdout",
     "output_type": "stream",
     "text": [
      "[1] \"22\"\n"
     ]
    },
    {
     "name": "stderr",
     "output_type": "stream",
     "text": [
      "Warning message:\n",
      "“Unknown columns: `Start_position`”Warning message:\n",
      "“Unknown columns: `End_position`”"
     ]
    },
    {
     "name": "stdout",
     "output_type": "stream",
     "text": [
      "[1] \"X\"\n"
     ]
    },
    {
     "name": "stderr",
     "output_type": "stream",
     "text": [
      "Warning message:\n",
      "“Unknown columns: `Start_position`”Warning message:\n",
      "“Unknown columns: `End_position`”"
     ]
    },
    {
     "name": "stdout",
     "output_type": "stream",
     "text": [
      "[1] \"Y\"\n"
     ]
    },
    {
     "name": "stderr",
     "output_type": "stream",
     "text": [
      "Warning message:\n",
      "“Unknown columns: `Start_position`”Warning message:\n",
      "“Unknown columns: `End_position`”Warning message:\n",
      "“Unknown columns: `Start_position`”Warning message:\n",
      "“Unknown columns: `End_position`”"
     ]
    },
    {
     "name": "stdout",
     "output_type": "stream",
     "text": [
      "[1] \"1\"\n"
     ]
    },
    {
     "name": "stderr",
     "output_type": "stream",
     "text": [
      "Warning message:\n",
      "“Unknown columns: `Start_position`”Warning message:\n",
      "“Unknown columns: `End_position`”Warning message:\n",
      "“Unknown columns: `Start_position`”Warning message:\n",
      "“Unknown columns: `End_position`”"
     ]
    },
    {
     "name": "stdout",
     "output_type": "stream",
     "text": [
      "[1] \"2\"\n"
     ]
    },
    {
     "name": "stderr",
     "output_type": "stream",
     "text": [
      "Warning message:\n",
      "“Unknown columns: `Start_position`”Warning message:\n",
      "“Unknown columns: `End_position`”Warning message:\n",
      "“Unknown columns: `Start_position`”Warning message:\n",
      "“Unknown columns: `End_position`”"
     ]
    },
    {
     "name": "stdout",
     "output_type": "stream",
     "text": [
      "[1] \"3\"\n"
     ]
    },
    {
     "name": "stderr",
     "output_type": "stream",
     "text": [
      "Warning message:\n",
      "“Unknown columns: `Start_position`”Warning message:\n",
      "“Unknown columns: `End_position`”Warning message:\n",
      "“Unknown columns: `Start_position`”Warning message:\n",
      "“Unknown columns: `End_position`”"
     ]
    },
    {
     "name": "stdout",
     "output_type": "stream",
     "text": [
      "[1] \"4\"\n"
     ]
    },
    {
     "name": "stderr",
     "output_type": "stream",
     "text": [
      "Warning message:\n",
      "“Unknown columns: `Start_position`”Warning message:\n",
      "“Unknown columns: `End_position`”Warning message:\n",
      "“Unknown columns: `Start_position`”Warning message:\n",
      "“Unknown columns: `End_position`”"
     ]
    },
    {
     "name": "stdout",
     "output_type": "stream",
     "text": [
      "[1] \"5\"\n"
     ]
    },
    {
     "name": "stderr",
     "output_type": "stream",
     "text": [
      "Warning message:\n",
      "“Unknown columns: `Start_position`”Warning message:\n",
      "“Unknown columns: `End_position`”Warning message:\n",
      "“Unknown columns: `Start_position`”Warning message:\n",
      "“Unknown columns: `End_position`”"
     ]
    },
    {
     "name": "stdout",
     "output_type": "stream",
     "text": [
      "[1] \"6\"\n"
     ]
    },
    {
     "name": "stderr",
     "output_type": "stream",
     "text": [
      "Warning message:\n",
      "“Unknown columns: `Start_position`”Warning message:\n",
      "“Unknown columns: `End_position`”Warning message:\n",
      "“Unknown columns: `Start_position`”Warning message:\n",
      "“Unknown columns: `End_position`”"
     ]
    },
    {
     "name": "stdout",
     "output_type": "stream",
     "text": [
      "[1] \"7\"\n"
     ]
    },
    {
     "name": "stderr",
     "output_type": "stream",
     "text": [
      "Warning message:\n",
      "“Unknown columns: `Start_position`”Warning message:\n",
      "“Unknown columns: `End_position`”Warning message:\n",
      "“Unknown columns: `Start_position`”Warning message:\n",
      "“Unknown columns: `End_position`”"
     ]
    },
    {
     "name": "stdout",
     "output_type": "stream",
     "text": [
      "[1] \"8\"\n"
     ]
    },
    {
     "name": "stderr",
     "output_type": "stream",
     "text": [
      "Warning message:\n",
      "“Unknown columns: `Start_position`”Warning message:\n",
      "“Unknown columns: `End_position`”Warning message:\n",
      "“Unknown columns: `Start_position`”Warning message:\n",
      "“Unknown columns: `End_position`”"
     ]
    },
    {
     "name": "stdout",
     "output_type": "stream",
     "text": [
      "[1] \"9\"\n"
     ]
    },
    {
     "name": "stderr",
     "output_type": "stream",
     "text": [
      "Warning message:\n",
      "“Unknown columns: `Start_position`”Warning message:\n",
      "“Unknown columns: `End_position`”Warning message:\n",
      "“Unknown columns: `Start_position`”Warning message:\n",
      "“Unknown columns: `End_position`”"
     ]
    },
    {
     "name": "stdout",
     "output_type": "stream",
     "text": [
      "[1] \"10\"\n"
     ]
    },
    {
     "name": "stderr",
     "output_type": "stream",
     "text": [
      "Warning message:\n",
      "“Unknown columns: `Start_position`”Warning message:\n",
      "“Unknown columns: `End_position`”Warning message:\n",
      "“Unknown columns: `Start_position`”Warning message:\n",
      "“Unknown columns: `End_position`”"
     ]
    },
    {
     "name": "stdout",
     "output_type": "stream",
     "text": [
      "[1] \"11\"\n"
     ]
    },
    {
     "name": "stderr",
     "output_type": "stream",
     "text": [
      "Warning message:\n",
      "“Unknown columns: `Start_position`”Warning message:\n",
      "“Unknown columns: `End_position`”Warning message:\n",
      "“Unknown columns: `Start_position`”Warning message:\n",
      "“Unknown columns: `End_position`”"
     ]
    },
    {
     "name": "stdout",
     "output_type": "stream",
     "text": [
      "[1] \"12\"\n"
     ]
    },
    {
     "name": "stderr",
     "output_type": "stream",
     "text": [
      "Warning message:\n",
      "“Unknown columns: `Start_position`”Warning message:\n",
      "“Unknown columns: `End_position`”Warning message:\n",
      "“Unknown columns: `Start_position`”Warning message:\n",
      "“Unknown columns: `End_position`”"
     ]
    },
    {
     "name": "stdout",
     "output_type": "stream",
     "text": [
      "[1] \"13\"\n"
     ]
    },
    {
     "name": "stderr",
     "output_type": "stream",
     "text": [
      "Warning message:\n",
      "“Unknown columns: `Start_position`”Warning message:\n",
      "“Unknown columns: `End_position`”Warning message:\n",
      "“Unknown columns: `Start_position`”Warning message:\n",
      "“Unknown columns: `End_position`”"
     ]
    },
    {
     "name": "stdout",
     "output_type": "stream",
     "text": [
      "[1] \"14\"\n"
     ]
    },
    {
     "name": "stderr",
     "output_type": "stream",
     "text": [
      "Warning message:\n",
      "“Unknown columns: `Start_position`”Warning message:\n",
      "“Unknown columns: `End_position`”Warning message:\n",
      "“Unknown columns: `Start_position`”Warning message:\n",
      "“Unknown columns: `End_position`”"
     ]
    },
    {
     "name": "stdout",
     "output_type": "stream",
     "text": [
      "[1] \"15\"\n"
     ]
    },
    {
     "name": "stderr",
     "output_type": "stream",
     "text": [
      "Warning message:\n",
      "“Unknown columns: `Start_position`”Warning message:\n",
      "“Unknown columns: `End_position`”Warning message:\n",
      "“Unknown columns: `Start_position`”Warning message:\n",
      "“Unknown columns: `End_position`”"
     ]
    },
    {
     "name": "stdout",
     "output_type": "stream",
     "text": [
      "[1] \"16\"\n"
     ]
    },
    {
     "name": "stderr",
     "output_type": "stream",
     "text": [
      "Warning message:\n",
      "“Unknown columns: `Start_position`”Warning message:\n",
      "“Unknown columns: `End_position`”Warning message:\n",
      "“Unknown columns: `Start_position`”Warning message:\n",
      "“Unknown columns: `End_position`”"
     ]
    },
    {
     "name": "stdout",
     "output_type": "stream",
     "text": [
      "[1] \"17\"\n"
     ]
    },
    {
     "name": "stderr",
     "output_type": "stream",
     "text": [
      "Warning message:\n",
      "“Unknown columns: `Start_position`”Warning message:\n",
      "“Unknown columns: `End_position`”Warning message:\n",
      "“Unknown columns: `Start_position`”Warning message:\n",
      "“Unknown columns: `End_position`”"
     ]
    },
    {
     "name": "stdout",
     "output_type": "stream",
     "text": [
      "[1] \"18\"\n"
     ]
    },
    {
     "name": "stderr",
     "output_type": "stream",
     "text": [
      "Warning message:\n",
      "“Unknown columns: `Start_position`”Warning message:\n",
      "“Unknown columns: `End_position`”Warning message:\n",
      "“Unknown columns: `Start_position`”Warning message:\n",
      "“Unknown columns: `End_position`”"
     ]
    },
    {
     "name": "stdout",
     "output_type": "stream",
     "text": [
      "[1] \"19\"\n"
     ]
    },
    {
     "name": "stderr",
     "output_type": "stream",
     "text": [
      "Warning message:\n",
      "“Unknown columns: `Start_position`”Warning message:\n",
      "“Unknown columns: `End_position`”Warning message:\n",
      "“Unknown columns: `Start_position`”Warning message:\n",
      "“Unknown columns: `End_position`”"
     ]
    },
    {
     "name": "stdout",
     "output_type": "stream",
     "text": [
      "[1] \"20\"\n"
     ]
    },
    {
     "name": "stderr",
     "output_type": "stream",
     "text": [
      "Warning message:\n",
      "“Unknown columns: `Start_position`”Warning message:\n",
      "“Unknown columns: `End_position`”Warning message:\n",
      "“Unknown columns: `Start_position`”Warning message:\n",
      "“Unknown columns: `End_position`”"
     ]
    },
    {
     "name": "stdout",
     "output_type": "stream",
     "text": [
      "[1] \"21\"\n"
     ]
    },
    {
     "name": "stderr",
     "output_type": "stream",
     "text": [
      "Warning message:\n",
      "“Unknown columns: `Start_position`”Warning message:\n",
      "“Unknown columns: `End_position`”Warning message:\n",
      "“Unknown columns: `Start_position`”Warning message:\n",
      "“Unknown columns: `End_position`”"
     ]
    },
    {
     "name": "stdout",
     "output_type": "stream",
     "text": [
      "[1] \"22\"\n"
     ]
    },
    {
     "name": "stderr",
     "output_type": "stream",
     "text": [
      "Warning message:\n",
      "“Unknown columns: `Start_position`”Warning message:\n",
      "“Unknown columns: `End_position`”Warning message:\n",
      "“Unknown columns: `Start_position`”Warning message:\n",
      "“Unknown columns: `End_position`”"
     ]
    },
    {
     "name": "stdout",
     "output_type": "stream",
     "text": [
      "[1] \"X\"\n"
     ]
    },
    {
     "name": "stderr",
     "output_type": "stream",
     "text": [
      "Warning message:\n",
      "“Unknown columns: `Start_position`”Warning message:\n",
      "“Unknown columns: `End_position`”Warning message:\n",
      "“Unknown columns: `Start_position`”Warning message:\n",
      "“Unknown columns: `End_position`”"
     ]
    },
    {
     "name": "stdout",
     "output_type": "stream",
     "text": [
      "[1] \"Y\"\n"
     ]
    },
    {
     "name": "stderr",
     "output_type": "stream",
     "text": [
      "Warning message:\n",
      "“Unknown columns: `Start_position`”Warning message:\n",
      "“Unknown columns: `End_position`”Warning message:\n",
      "“Unknown columns: `Start_position`”Warning message:\n",
      "“Unknown columns: `End_position`”Warning message:\n",
      "“Unknown columns: `Start_position`”Warning message:\n",
      "“Unknown columns: `End_position`”"
     ]
    },
    {
     "name": "stdout",
     "output_type": "stream",
     "text": [
      "[1] \"1\"\n"
     ]
    },
    {
     "name": "stderr",
     "output_type": "stream",
     "text": [
      "Warning message:\n",
      "“Unknown columns: `Start_position`”Warning message:\n",
      "“Unknown columns: `End_position`”Warning message:\n",
      "“Unknown columns: `Start_position`”Warning message:\n",
      "“Unknown columns: `End_position`”"
     ]
    },
    {
     "name": "stdout",
     "output_type": "stream",
     "text": [
      "[1] \"2\"\n"
     ]
    },
    {
     "name": "stderr",
     "output_type": "stream",
     "text": [
      "Warning message:\n",
      "“Unknown columns: `Start_position`”Warning message:\n",
      "“Unknown columns: `End_position`”Warning message:\n",
      "“Unknown columns: `Start_position`”Warning message:\n",
      "“Unknown columns: `End_position`”"
     ]
    },
    {
     "name": "stdout",
     "output_type": "stream",
     "text": [
      "[1] \"3\"\n"
     ]
    },
    {
     "name": "stderr",
     "output_type": "stream",
     "text": [
      "Warning message:\n",
      "“Unknown columns: `Start_position`”Warning message:\n",
      "“Unknown columns: `End_position`”Warning message:\n",
      "“Unknown columns: `Start_position`”Warning message:\n",
      "“Unknown columns: `End_position`”"
     ]
    },
    {
     "name": "stdout",
     "output_type": "stream",
     "text": [
      "[1] \"4\"\n"
     ]
    },
    {
     "name": "stderr",
     "output_type": "stream",
     "text": [
      "Warning message:\n",
      "“Unknown columns: `Start_position`”Warning message:\n",
      "“Unknown columns: `End_position`”Warning message:\n",
      "“Unknown columns: `Start_position`”Warning message:\n",
      "“Unknown columns: `End_position`”"
     ]
    },
    {
     "name": "stdout",
     "output_type": "stream",
     "text": [
      "[1] \"5\"\n"
     ]
    },
    {
     "name": "stderr",
     "output_type": "stream",
     "text": [
      "Warning message:\n",
      "“Unknown columns: `Start_position`”Warning message:\n",
      "“Unknown columns: `End_position`”Warning message:\n",
      "“Unknown columns: `Start_position`”Warning message:\n",
      "“Unknown columns: `End_position`”"
     ]
    },
    {
     "name": "stdout",
     "output_type": "stream",
     "text": [
      "[1] \"6\"\n"
     ]
    },
    {
     "name": "stderr",
     "output_type": "stream",
     "text": [
      "Warning message:\n",
      "“Unknown columns: `Start_position`”Warning message:\n",
      "“Unknown columns: `End_position`”Warning message:\n",
      "“Unknown columns: `Start_position`”Warning message:\n",
      "“Unknown columns: `End_position`”"
     ]
    },
    {
     "name": "stdout",
     "output_type": "stream",
     "text": [
      "[1] \"7\"\n"
     ]
    },
    {
     "name": "stderr",
     "output_type": "stream",
     "text": [
      "Warning message:\n",
      "“Unknown columns: `Start_position`”Warning message:\n",
      "“Unknown columns: `End_position`”Warning message:\n",
      "“Unknown columns: `Start_position`”Warning message:\n",
      "“Unknown columns: `End_position`”"
     ]
    },
    {
     "name": "stdout",
     "output_type": "stream",
     "text": [
      "[1] \"8\"\n"
     ]
    },
    {
     "name": "stderr",
     "output_type": "stream",
     "text": [
      "Warning message:\n",
      "“Unknown columns: `Start_position`”Warning message:\n",
      "“Unknown columns: `End_position`”Warning message:\n",
      "“Unknown columns: `Start_position`”Warning message:\n",
      "“Unknown columns: `End_position`”"
     ]
    },
    {
     "name": "stdout",
     "output_type": "stream",
     "text": [
      "[1] \"9\"\n"
     ]
    },
    {
     "name": "stderr",
     "output_type": "stream",
     "text": [
      "Warning message:\n",
      "“Unknown columns: `Start_position`”Warning message:\n",
      "“Unknown columns: `End_position`”Warning message:\n",
      "“Unknown columns: `Start_position`”Warning message:\n",
      "“Unknown columns: `End_position`”"
     ]
    },
    {
     "name": "stdout",
     "output_type": "stream",
     "text": [
      "[1] \"10\"\n"
     ]
    },
    {
     "name": "stderr",
     "output_type": "stream",
     "text": [
      "Warning message:\n",
      "“Unknown columns: `Start_position`”Warning message:\n",
      "“Unknown columns: `End_position`”Warning message:\n",
      "“Unknown columns: `Start_position`”Warning message:\n",
      "“Unknown columns: `End_position`”"
     ]
    },
    {
     "name": "stdout",
     "output_type": "stream",
     "text": [
      "[1] \"11\"\n"
     ]
    },
    {
     "name": "stderr",
     "output_type": "stream",
     "text": [
      "Warning message:\n",
      "“Unknown columns: `Start_position`”Warning message:\n",
      "“Unknown columns: `End_position`”Warning message:\n",
      "“Unknown columns: `Start_position`”Warning message:\n",
      "“Unknown columns: `End_position`”"
     ]
    },
    {
     "name": "stdout",
     "output_type": "stream",
     "text": [
      "[1] \"12\"\n"
     ]
    },
    {
     "name": "stderr",
     "output_type": "stream",
     "text": [
      "Warning message:\n",
      "“Unknown columns: `Start_position`”Warning message:\n",
      "“Unknown columns: `End_position`”Warning message:\n",
      "“Unknown columns: `Start_position`”Warning message:\n",
      "“Unknown columns: `End_position`”"
     ]
    },
    {
     "name": "stdout",
     "output_type": "stream",
     "text": [
      "[1] \"13\"\n"
     ]
    },
    {
     "name": "stderr",
     "output_type": "stream",
     "text": [
      "Warning message:\n",
      "“Unknown columns: `Start_position`”Warning message:\n",
      "“Unknown columns: `End_position`”Warning message:\n",
      "“Unknown columns: `Start_position`”Warning message:\n",
      "“Unknown columns: `End_position`”"
     ]
    },
    {
     "name": "stdout",
     "output_type": "stream",
     "text": [
      "[1] \"14\"\n"
     ]
    },
    {
     "name": "stderr",
     "output_type": "stream",
     "text": [
      "Warning message:\n",
      "“Unknown columns: `Start_position`”Warning message:\n",
      "“Unknown columns: `End_position`”Warning message:\n",
      "“Unknown columns: `Start_position`”Warning message:\n",
      "“Unknown columns: `End_position`”"
     ]
    },
    {
     "name": "stdout",
     "output_type": "stream",
     "text": [
      "[1] \"15\"\n"
     ]
    },
    {
     "name": "stderr",
     "output_type": "stream",
     "text": [
      "Warning message:\n",
      "“Unknown columns: `Start_position`”Warning message:\n",
      "“Unknown columns: `End_position`”Warning message:\n",
      "“Unknown columns: `Start_position`”Warning message:\n",
      "“Unknown columns: `End_position`”"
     ]
    },
    {
     "name": "stdout",
     "output_type": "stream",
     "text": [
      "[1] \"16\"\n"
     ]
    },
    {
     "name": "stderr",
     "output_type": "stream",
     "text": [
      "Warning message:\n",
      "“Unknown columns: `Start_position`”Warning message:\n",
      "“Unknown columns: `End_position`”Warning message:\n",
      "“Unknown columns: `Start_position`”Warning message:\n",
      "“Unknown columns: `End_position`”"
     ]
    },
    {
     "name": "stdout",
     "output_type": "stream",
     "text": [
      "[1] \"17\"\n"
     ]
    },
    {
     "name": "stderr",
     "output_type": "stream",
     "text": [
      "Warning message:\n",
      "“Unknown columns: `Start_position`”Warning message:\n",
      "“Unknown columns: `End_position`”Warning message:\n",
      "“Unknown columns: `Start_position`”Warning message:\n",
      "“Unknown columns: `End_position`”"
     ]
    },
    {
     "name": "stdout",
     "output_type": "stream",
     "text": [
      "[1] \"18\"\n"
     ]
    },
    {
     "name": "stderr",
     "output_type": "stream",
     "text": [
      "Warning message:\n",
      "“Unknown columns: `Start_position`”Warning message:\n",
      "“Unknown columns: `End_position`”Warning message:\n",
      "“Unknown columns: `Start_position`”Warning message:\n",
      "“Unknown columns: `End_position`”"
     ]
    },
    {
     "name": "stdout",
     "output_type": "stream",
     "text": [
      "[1] \"19\"\n"
     ]
    },
    {
     "name": "stderr",
     "output_type": "stream",
     "text": [
      "Warning message:\n",
      "“Unknown columns: `Start_position`”Warning message:\n",
      "“Unknown columns: `End_position`”Warning message:\n",
      "“Unknown columns: `Start_position`”Warning message:\n",
      "“Unknown columns: `End_position`”"
     ]
    },
    {
     "name": "stdout",
     "output_type": "stream",
     "text": [
      "[1] \"20\"\n"
     ]
    },
    {
     "name": "stderr",
     "output_type": "stream",
     "text": [
      "Warning message:\n",
      "“Unknown columns: `Start_position`”Warning message:\n",
      "“Unknown columns: `End_position`”Warning message:\n",
      "“Unknown columns: `Start_position`”Warning message:\n",
      "“Unknown columns: `End_position`”"
     ]
    },
    {
     "name": "stdout",
     "output_type": "stream",
     "text": [
      "[1] \"21\"\n"
     ]
    },
    {
     "name": "stderr",
     "output_type": "stream",
     "text": [
      "Warning message:\n",
      "“Unknown columns: `Start_position`”Warning message:\n",
      "“Unknown columns: `End_position`”Warning message:\n",
      "“Unknown columns: `Start_position`”Warning message:\n",
      "“Unknown columns: `End_position`”"
     ]
    },
    {
     "name": "stdout",
     "output_type": "stream",
     "text": [
      "[1] \"22\"\n"
     ]
    },
    {
     "name": "stderr",
     "output_type": "stream",
     "text": [
      "Warning message:\n",
      "“Unknown columns: `Start_position`”Warning message:\n",
      "“Unknown columns: `End_position`”Warning message:\n",
      "“Unknown columns: `Start_position`”Warning message:\n",
      "“Unknown columns: `End_position`”"
     ]
    },
    {
     "name": "stdout",
     "output_type": "stream",
     "text": [
      "[1] \"X\"\n"
     ]
    },
    {
     "name": "stderr",
     "output_type": "stream",
     "text": [
      "Warning message:\n",
      "“Unknown columns: `Start_position`”Warning message:\n",
      "“Unknown columns: `End_position`”Warning message:\n",
      "“Unknown columns: `Start_position`”Warning message:\n",
      "“Unknown columns: `End_position`”"
     ]
    },
    {
     "name": "stdout",
     "output_type": "stream",
     "text": [
      "[1] \"Y\"\n"
     ]
    },
    {
     "name": "stderr",
     "output_type": "stream",
     "text": [
      "Warning message:\n",
      "“Unknown columns: `Start_position`”Warning message:\n",
      "“Unknown columns: `End_position`”Warning message:\n",
      "“Unknown columns: `Start_position`”Warning message:\n",
      "“Unknown columns: `End_position`”Warning message:\n",
      "“Unknown columns: `Start_position`”Warning message:\n",
      "“Unknown columns: `End_position`”"
     ]
    },
    {
     "name": "stdout",
     "output_type": "stream",
     "text": [
      "[1] \"1\"\n"
     ]
    },
    {
     "name": "stderr",
     "output_type": "stream",
     "text": [
      "Warning message:\n",
      "“Unknown columns: `Start_position`”Warning message:\n",
      "“Unknown columns: `End_position`”Warning message:\n",
      "“Unknown columns: `Start_position`”Warning message:\n",
      "“Unknown columns: `End_position`”"
     ]
    },
    {
     "name": "stdout",
     "output_type": "stream",
     "text": [
      "[1] \"2\"\n"
     ]
    },
    {
     "name": "stderr",
     "output_type": "stream",
     "text": [
      "Warning message:\n",
      "“Unknown columns: `Start_position`”Warning message:\n",
      "“Unknown columns: `End_position`”Warning message:\n",
      "“Unknown columns: `Start_position`”Warning message:\n",
      "“Unknown columns: `End_position`”"
     ]
    },
    {
     "name": "stdout",
     "output_type": "stream",
     "text": [
      "[1] \"3\"\n"
     ]
    },
    {
     "name": "stderr",
     "output_type": "stream",
     "text": [
      "Warning message:\n",
      "“Unknown columns: `Start_position`”Warning message:\n",
      "“Unknown columns: `End_position`”Warning message:\n",
      "“Unknown columns: `Start_position`”Warning message:\n",
      "“Unknown columns: `End_position`”"
     ]
    },
    {
     "name": "stdout",
     "output_type": "stream",
     "text": [
      "[1] \"4\"\n"
     ]
    },
    {
     "name": "stderr",
     "output_type": "stream",
     "text": [
      "Warning message:\n",
      "“Unknown columns: `Start_position`”Warning message:\n",
      "“Unknown columns: `End_position`”Warning message:\n",
      "“Unknown columns: `Start_position`”Warning message:\n",
      "“Unknown columns: `End_position`”"
     ]
    },
    {
     "name": "stdout",
     "output_type": "stream",
     "text": [
      "[1] \"5\"\n"
     ]
    },
    {
     "name": "stderr",
     "output_type": "stream",
     "text": [
      "Warning message:\n",
      "“Unknown columns: `Start_position`”Warning message:\n",
      "“Unknown columns: `End_position`”Warning message:\n",
      "“Unknown columns: `Start_position`”Warning message:\n",
      "“Unknown columns: `End_position`”"
     ]
    },
    {
     "name": "stdout",
     "output_type": "stream",
     "text": [
      "[1] \"6\"\n"
     ]
    },
    {
     "name": "stderr",
     "output_type": "stream",
     "text": [
      "Warning message:\n",
      "“Unknown columns: `Start_position`”Warning message:\n",
      "“Unknown columns: `End_position`”Warning message:\n",
      "“Unknown columns: `Start_position`”Warning message:\n",
      "“Unknown columns: `End_position`”"
     ]
    },
    {
     "name": "stdout",
     "output_type": "stream",
     "text": [
      "[1] \"7\"\n"
     ]
    },
    {
     "name": "stderr",
     "output_type": "stream",
     "text": [
      "Warning message:\n",
      "“Unknown columns: `Start_position`”Warning message:\n",
      "“Unknown columns: `End_position`”Warning message:\n",
      "“Unknown columns: `Start_position`”Warning message:\n",
      "“Unknown columns: `End_position`”"
     ]
    },
    {
     "name": "stdout",
     "output_type": "stream",
     "text": [
      "[1] \"8\"\n"
     ]
    },
    {
     "name": "stderr",
     "output_type": "stream",
     "text": [
      "Warning message:\n",
      "“Unknown columns: `Start_position`”Warning message:\n",
      "“Unknown columns: `End_position`”Warning message:\n",
      "“Unknown columns: `Start_position`”Warning message:\n",
      "“Unknown columns: `End_position`”"
     ]
    },
    {
     "name": "stdout",
     "output_type": "stream",
     "text": [
      "[1] \"9\"\n"
     ]
    },
    {
     "name": "stderr",
     "output_type": "stream",
     "text": [
      "Warning message:\n",
      "“Unknown columns: `Start_position`”Warning message:\n",
      "“Unknown columns: `End_position`”Warning message:\n",
      "“Unknown columns: `Start_position`”Warning message:\n",
      "“Unknown columns: `End_position`”"
     ]
    },
    {
     "name": "stdout",
     "output_type": "stream",
     "text": [
      "[1] \"10\"\n"
     ]
    },
    {
     "name": "stderr",
     "output_type": "stream",
     "text": [
      "Warning message:\n",
      "“Unknown columns: `Start_position`”Warning message:\n",
      "“Unknown columns: `End_position`”Warning message:\n",
      "“Unknown columns: `Start_position`”Warning message:\n",
      "“Unknown columns: `End_position`”"
     ]
    },
    {
     "name": "stdout",
     "output_type": "stream",
     "text": [
      "[1] \"11\"\n"
     ]
    },
    {
     "name": "stderr",
     "output_type": "stream",
     "text": [
      "Warning message:\n",
      "“Unknown columns: `Start_position`”Warning message:\n",
      "“Unknown columns: `End_position`”Warning message:\n",
      "“Unknown columns: `Start_position`”Warning message:\n",
      "“Unknown columns: `End_position`”"
     ]
    },
    {
     "name": "stdout",
     "output_type": "stream",
     "text": [
      "[1] \"12\"\n"
     ]
    },
    {
     "name": "stderr",
     "output_type": "stream",
     "text": [
      "Warning message:\n",
      "“Unknown columns: `Start_position`”Warning message:\n",
      "“Unknown columns: `End_position`”Warning message:\n",
      "“Unknown columns: `Start_position`”Warning message:\n",
      "“Unknown columns: `End_position`”"
     ]
    },
    {
     "name": "stdout",
     "output_type": "stream",
     "text": [
      "[1] \"13\"\n"
     ]
    },
    {
     "name": "stderr",
     "output_type": "stream",
     "text": [
      "Warning message:\n",
      "“Unknown columns: `Start_position`”Warning message:\n",
      "“Unknown columns: `End_position`”Warning message:\n",
      "“Unknown columns: `Start_position`”Warning message:\n",
      "“Unknown columns: `End_position`”"
     ]
    },
    {
     "name": "stdout",
     "output_type": "stream",
     "text": [
      "[1] \"14\"\n"
     ]
    },
    {
     "name": "stderr",
     "output_type": "stream",
     "text": [
      "Warning message:\n",
      "“Unknown columns: `Start_position`”Warning message:\n",
      "“Unknown columns: `End_position`”Warning message:\n",
      "“Unknown columns: `Start_position`”Warning message:\n",
      "“Unknown columns: `End_position`”"
     ]
    },
    {
     "name": "stdout",
     "output_type": "stream",
     "text": [
      "[1] \"15\"\n"
     ]
    },
    {
     "name": "stderr",
     "output_type": "stream",
     "text": [
      "Warning message:\n",
      "“Unknown columns: `Start_position`”Warning message:\n",
      "“Unknown columns: `End_position`”Warning message:\n",
      "“Unknown columns: `Start_position`”Warning message:\n",
      "“Unknown columns: `End_position`”"
     ]
    },
    {
     "name": "stdout",
     "output_type": "stream",
     "text": [
      "[1] \"16\"\n"
     ]
    },
    {
     "name": "stderr",
     "output_type": "stream",
     "text": [
      "Warning message:\n",
      "“Unknown columns: `Start_position`”Warning message:\n",
      "“Unknown columns: `End_position`”Warning message:\n",
      "“Unknown columns: `Start_position`”Warning message:\n",
      "“Unknown columns: `End_position`”"
     ]
    },
    {
     "name": "stdout",
     "output_type": "stream",
     "text": [
      "[1] \"17\"\n"
     ]
    },
    {
     "name": "stderr",
     "output_type": "stream",
     "text": [
      "Warning message:\n",
      "“Unknown columns: `Start_position`”Warning message:\n",
      "“Unknown columns: `End_position`”Warning message:\n",
      "“Unknown columns: `Start_position`”Warning message:\n",
      "“Unknown columns: `End_position`”"
     ]
    },
    {
     "name": "stdout",
     "output_type": "stream",
     "text": [
      "[1] \"18\"\n"
     ]
    },
    {
     "name": "stderr",
     "output_type": "stream",
     "text": [
      "Warning message:\n",
      "“Unknown columns: `Start_position`”Warning message:\n",
      "“Unknown columns: `End_position`”Warning message:\n",
      "“Unknown columns: `Start_position`”Warning message:\n",
      "“Unknown columns: `End_position`”"
     ]
    },
    {
     "name": "stdout",
     "output_type": "stream",
     "text": [
      "[1] \"19\"\n"
     ]
    },
    {
     "name": "stderr",
     "output_type": "stream",
     "text": [
      "Warning message:\n",
      "“Unknown columns: `Start_position`”Warning message:\n",
      "“Unknown columns: `End_position`”Warning message:\n",
      "“Unknown columns: `Start_position`”Warning message:\n",
      "“Unknown columns: `End_position`”"
     ]
    },
    {
     "name": "stdout",
     "output_type": "stream",
     "text": [
      "[1] \"20\"\n"
     ]
    },
    {
     "name": "stderr",
     "output_type": "stream",
     "text": [
      "Warning message:\n",
      "“Unknown columns: `Start_position`”Warning message:\n",
      "“Unknown columns: `End_position`”Warning message:\n",
      "“Unknown columns: `Start_position`”Warning message:\n",
      "“Unknown columns: `End_position`”"
     ]
    },
    {
     "name": "stdout",
     "output_type": "stream",
     "text": [
      "[1] \"21\"\n"
     ]
    },
    {
     "name": "stderr",
     "output_type": "stream",
     "text": [
      "Warning message:\n",
      "“Unknown columns: `Start_position`”Warning message:\n",
      "“Unknown columns: `End_position`”Warning message:\n",
      "“Unknown columns: `Start_position`”Warning message:\n",
      "“Unknown columns: `End_position`”"
     ]
    },
    {
     "name": "stdout",
     "output_type": "stream",
     "text": [
      "[1] \"22\"\n"
     ]
    },
    {
     "name": "stderr",
     "output_type": "stream",
     "text": [
      "Warning message:\n",
      "“Unknown columns: `Start_position`”Warning message:\n",
      "“Unknown columns: `End_position`”Warning message:\n",
      "“Unknown columns: `Start_position`”Warning message:\n",
      "“Unknown columns: `End_position`”"
     ]
    },
    {
     "name": "stdout",
     "output_type": "stream",
     "text": [
      "[1] \"X\"\n"
     ]
    },
    {
     "name": "stderr",
     "output_type": "stream",
     "text": [
      "Warning message:\n",
      "“Unknown columns: `Start_position`”Warning message:\n",
      "“Unknown columns: `End_position`”Warning message:\n",
      "“Unknown columns: `Start_position`”Warning message:\n",
      "“Unknown columns: `End_position`”"
     ]
    },
    {
     "name": "stdout",
     "output_type": "stream",
     "text": [
      "[1] \"Y\"\n"
     ]
    },
    {
     "name": "stderr",
     "output_type": "stream",
     "text": [
      "Warning message:\n",
      "“Unknown columns: `Start_position`”Warning message:\n",
      "“Unknown columns: `End_position`”Warning message:\n",
      "“Unknown columns: `Start_position`”Warning message:\n",
      "“Unknown columns: `End_position`”"
     ]
    }
   ],
   "source": [
    "tcga_brca_windows <- RLL_slide(maf_file = new_data, starting_window = 1000000, iterations = 4, zoom = 10, coverage = 1)\n",
    "write_tsv(path = '/Users/jacobbradley/Documents/CCG/Data/tcga_brca_windows', tcga_brca_windows %>% unnest())\n",
    "#tcga_brca_windows <- read_tsv(\"/Users/jacobbradley/Documents/CCG/Data/tcga_brca_windows\", col_types = list(col_guess(), col_guess(), col_character(), col_guess(), col_guess(), col_guess())) %>% \n",
    "#    group_by(iteration) %>% \n",
    "#    nest()"
   ]
  },
  {
   "cell_type": "code",
   "execution_count": 45,
   "metadata": {},
   "outputs": [
    {
     "name": "stderr",
     "output_type": "stream",
     "text": [
      "Warning message:\n",
      "“Unknown columns: `Start_position`”Warning message:\n",
      "“Unknown columns: `End_position`”Warning message:\n",
      "“Unknown columns: `Start_position`”Warning message:\n",
      "“Unknown columns: `End_position`”Warning message:\n",
      "“Unknown columns: `Start_position`”Warning message:\n",
      "“Unknown columns: `End_position`”Warning message:\n",
      "“Unknown columns: `Start_position`”Warning message:\n",
      "“Unknown columns: `End_position`”Warning message:\n",
      "“Unknown columns: `Start_position`”Warning message:\n",
      "“Unknown columns: `End_position`”Warning message:\n",
      "“Unknown columns: `Start_position`”Warning message:\n",
      "“Unknown columns: `End_position`”Warning message:\n",
      "“Unknown columns: `Start_position`”Warning message:\n",
      "“Unknown columns: `End_position`”Warning message:\n",
      "“Unknown columns: `Start_position`”Warning message:\n",
      "“Unknown columns: `End_position`”"
     ]
    },
    {
     "data": {
      "text/html": [
       "<ol>\n",
       "\t<li><table>\n",
       "<thead><tr><th scope=col>Tumor_Sample_Barcode</th><th scope=col>TMB</th><th scope=col>Window_1</th></tr></thead>\n",
       "<tbody>\n",
       "\t<tr><td>TCGA-A1-A0SB-01</td><td>0.5333333      </td><td>0              </td></tr>\n",
       "\t<tr><td>TCGA-A1-A0SD-01</td><td>0.8000000      </td><td>0              </td></tr>\n",
       "\t<tr><td>TCGA-A1-A0SE-01</td><td>0.6000000      </td><td>0              </td></tr>\n",
       "\t<tr><td>TCGA-A1-A0SF-01</td><td>1.1000000      </td><td>0              </td></tr>\n",
       "\t<tr><td>TCGA-A1-A0SG-01</td><td>0.8666667      </td><td>0              </td></tr>\n",
       "\t<tr><td>TCGA-A1-A0SH-01</td><td>2.4000000      </td><td>0              </td></tr>\n",
       "\t<tr><td>TCGA-A1-A0SI-01</td><td>4.5333333      </td><td>0              </td></tr>\n",
       "\t<tr><td>TCGA-A1-A0SJ-01</td><td>0.8333333      </td><td>0              </td></tr>\n",
       "\t<tr><td>TCGA-A1-A0SK-01</td><td>2.9666667      </td><td>0              </td></tr>\n",
       "\t<tr><td>TCGA-A1-A0SM-01</td><td>0.7000000      </td><td>0              </td></tr>\n",
       "\t<tr><td>TCGA-A1-A0SN-01</td><td>1.2666667      </td><td>0              </td></tr>\n",
       "\t<tr><td>TCGA-A1-A0SP-01</td><td>1.1333333      </td><td>0              </td></tr>\n",
       "\t<tr><td>TCGA-A1-A0SQ-01</td><td>0.6333333      </td><td>0              </td></tr>\n",
       "\t<tr><td>TCGA-A2-A04N-01</td><td>1.0666667      </td><td>0              </td></tr>\n",
       "\t<tr><td>TCGA-A2-A04P-01</td><td>2.8666667      </td><td>0              </td></tr>\n",
       "\t<tr><td>TCGA-A2-A04Q-01</td><td>0.2666667      </td><td>0              </td></tr>\n",
       "\t<tr><td>TCGA-A2-A04R-01</td><td>2.1000000      </td><td>0              </td></tr>\n",
       "\t<tr><td>TCGA-A2-A04T-01</td><td>2.1666667      </td><td>0              </td></tr>\n",
       "\t<tr><td>TCGA-A2-A04U-01</td><td>1.5666667      </td><td>0              </td></tr>\n",
       "\t<tr><td>TCGA-A2-A04V-01</td><td>0.8333333      </td><td>0              </td></tr>\n",
       "\t<tr><td>TCGA-A2-A04W-01</td><td>2.6666667      </td><td>1              </td></tr>\n",
       "\t<tr><td>TCGA-A2-A04X-01</td><td>0.6333333      </td><td>0              </td></tr>\n",
       "\t<tr><td>TCGA-A2-A04Y-01</td><td>1.5333333      </td><td>0              </td></tr>\n",
       "\t<tr><td>TCGA-A2-A0CK-01</td><td>0.3666667      </td><td>0              </td></tr>\n",
       "\t<tr><td>TCGA-A2-A0CL-01</td><td>0.5333333      </td><td>0              </td></tr>\n",
       "\t<tr><td>TCGA-A2-A0CM-01</td><td>1.4333333      </td><td>0              </td></tr>\n",
       "\t<tr><td>TCGA-A2-A0CO-01</td><td>0.6000000      </td><td>0              </td></tr>\n",
       "\t<tr><td>TCGA-A2-A0CP-01</td><td>2.5000000      </td><td>0              </td></tr>\n",
       "\t<tr><td>TCGA-A2-A0CQ-01</td><td>0.9000000      </td><td>0              </td></tr>\n",
       "\t<tr><td>TCGA-A2-A0CR-01</td><td>3.0000000      </td><td>0              </td></tr>\n",
       "\t<tr><td>⋮</td><td>⋮</td><td>⋮</td></tr>\n",
       "\t<tr><td>TCGA-JL-A3YX-01</td><td>0.9000000      </td><td>0              </td></tr>\n",
       "\t<tr><td>TCGA-LL-A440-01</td><td>0.2000000      </td><td>0              </td></tr>\n",
       "\t<tr><td>TCGA-LL-A441-01</td><td>1.4333333      </td><td>0              </td></tr>\n",
       "\t<tr><td>TCGA-LL-A50Y-01</td><td>0.8333333      </td><td>0              </td></tr>\n",
       "\t<tr><td>TCGA-LL-A5YL-01</td><td>1.7666667      </td><td>0              </td></tr>\n",
       "\t<tr><td>TCGA-LL-A5YM-01</td><td>0.6333333      </td><td>0              </td></tr>\n",
       "\t<tr><td>TCGA-LL-A5YN-01</td><td>0.7666667      </td><td>0              </td></tr>\n",
       "\t<tr><td>TCGA-LL-A5YO-01</td><td>0.9333333      </td><td>0              </td></tr>\n",
       "\t<tr><td>TCGA-LL-A5YP-01</td><td>2.1333333      </td><td>0              </td></tr>\n",
       "\t<tr><td>TCGA-LQ-A4E4-01</td><td>2.1333333      </td><td>0              </td></tr>\n",
       "\t<tr><td>TCGA-MS-A51U-01</td><td>0.3666667      </td><td>0              </td></tr>\n",
       "\t<tr><td>TCGA-OK-A5Q2-01</td><td>0.7333333      </td><td>0              </td></tr>\n",
       "\t<tr><td>TCGA-OL-A5D6-01</td><td>0.9666667      </td><td>0              </td></tr>\n",
       "\t<tr><td>TCGA-OL-A5D7-01</td><td>1.2666667      </td><td>0              </td></tr>\n",
       "\t<tr><td>TCGA-OL-A5D8-01</td><td>0.7666667      </td><td>0              </td></tr>\n",
       "\t<tr><td>TCGA-OL-A5DA-01</td><td>1.4000000      </td><td>0              </td></tr>\n",
       "\t<tr><td>TCGA-OL-A5RU-01</td><td>0.7333333      </td><td>0              </td></tr>\n",
       "\t<tr><td>TCGA-OL-A5RV-01</td><td>0.4000000      </td><td>0              </td></tr>\n",
       "\t<tr><td>TCGA-OL-A5RW-01</td><td>4.0666667      </td><td>0              </td></tr>\n",
       "\t<tr><td>TCGA-OL-A5RX-01</td><td>0.6666667      </td><td>0              </td></tr>\n",
       "\t<tr><td>TCGA-OL-A5RY-01</td><td>0.2666667      </td><td>0              </td></tr>\n",
       "\t<tr><td>TCGA-OL-A5RZ-01</td><td>2.6333333      </td><td>0              </td></tr>\n",
       "\t<tr><td>TCGA-OL-A5S0-01</td><td>1.0000000      </td><td>0              </td></tr>\n",
       "\t<tr><td>TCGA-OL-A66H-01</td><td>0.6333333      </td><td>0              </td></tr>\n",
       "\t<tr><td>TCGA-OL-A66I-01</td><td>0.8000000      </td><td>0              </td></tr>\n",
       "\t<tr><td>TCGA-OL-A66J-01</td><td>1.5000000      </td><td>0              </td></tr>\n",
       "\t<tr><td>TCGA-OL-A66K-01</td><td>0.6333333      </td><td>0              </td></tr>\n",
       "\t<tr><td>TCGA-PE-A5DC-01</td><td>2.6333333      </td><td>0              </td></tr>\n",
       "\t<tr><td>TCGA-PE-A5DD-01</td><td>1.4333333      </td><td>0              </td></tr>\n",
       "\t<tr><td>TCGA-PE-A5DE-01</td><td>9.0666667      </td><td>0              </td></tr>\n",
       "</tbody>\n",
       "</table>\n",
       "</li>\n",
       "\t<li><table>\n",
       "<thead><tr><th scope=col>Tumor_Sample_Barcode</th><th scope=col>TMB</th><th scope=col>Window_1</th><th scope=col>Window_2</th><th scope=col>Window_3</th><th scope=col>Window_4</th><th scope=col>Window_5</th><th scope=col>Window_6</th><th scope=col>Window_7</th><th scope=col>Window_8</th><th scope=col>Window_9</th><th scope=col>Window_10</th></tr></thead>\n",
       "<tbody>\n",
       "\t<tr><td>TCGA-A1-A0SB-01</td><td>0.5333333      </td><td>0              </td><td>0              </td><td>0              </td><td>0              </td><td>0              </td><td>0              </td><td>0              </td><td>0              </td><td>0              </td><td>0              </td></tr>\n",
       "\t<tr><td>TCGA-A1-A0SD-01</td><td>0.8000000      </td><td>0              </td><td>0              </td><td>0              </td><td>0              </td><td>0              </td><td>0              </td><td>0              </td><td>0              </td><td>0              </td><td>1              </td></tr>\n",
       "\t<tr><td>TCGA-A1-A0SE-01</td><td>0.6000000      </td><td>0              </td><td>0              </td><td>0              </td><td>0              </td><td>0              </td><td>0              </td><td>0              </td><td>0              </td><td>0              </td><td>0              </td></tr>\n",
       "\t<tr><td>TCGA-A1-A0SF-01</td><td>1.1000000      </td><td>0              </td><td>0              </td><td>0              </td><td>0              </td><td>0              </td><td>0              </td><td>0              </td><td>0              </td><td>0              </td><td>0              </td></tr>\n",
       "\t<tr><td>TCGA-A1-A0SG-01</td><td>0.8666667      </td><td>0              </td><td>0              </td><td>0              </td><td>0              </td><td>0              </td><td>0              </td><td>0              </td><td>0              </td><td>0              </td><td>0              </td></tr>\n",
       "\t<tr><td>TCGA-A1-A0SH-01</td><td>2.4000000      </td><td>0              </td><td>0              </td><td>0              </td><td>0              </td><td>0              </td><td>0              </td><td>0              </td><td>0              </td><td>0              </td><td>0              </td></tr>\n",
       "\t<tr><td>TCGA-A1-A0SI-01</td><td>4.5333333      </td><td>0              </td><td>0              </td><td>0              </td><td>0              </td><td>0              </td><td>0              </td><td>0              </td><td>0              </td><td>0              </td><td>0              </td></tr>\n",
       "\t<tr><td>TCGA-A1-A0SJ-01</td><td>0.8333333      </td><td>0              </td><td>0              </td><td>0              </td><td>0              </td><td>0              </td><td>0              </td><td>0              </td><td>0              </td><td>0              </td><td>0              </td></tr>\n",
       "\t<tr><td>TCGA-A1-A0SK-01</td><td>2.9666667      </td><td>0              </td><td>0              </td><td>0              </td><td>0              </td><td>0              </td><td>0              </td><td>0              </td><td>0              </td><td>0              </td><td>0              </td></tr>\n",
       "\t<tr><td>TCGA-A1-A0SM-01</td><td>0.7000000      </td><td>0              </td><td>0              </td><td>0              </td><td>0              </td><td>0              </td><td>0              </td><td>0              </td><td>0              </td><td>0              </td><td>0              </td></tr>\n",
       "\t<tr><td>TCGA-A1-A0SN-01</td><td>1.2666667      </td><td>0              </td><td>0              </td><td>0              </td><td>0              </td><td>0              </td><td>0              </td><td>0              </td><td>0              </td><td>0              </td><td>0              </td></tr>\n",
       "\t<tr><td>TCGA-A1-A0SP-01</td><td>1.1333333      </td><td>0              </td><td>0              </td><td>0              </td><td>0              </td><td>0              </td><td>0              </td><td>0              </td><td>0              </td><td>0              </td><td>0              </td></tr>\n",
       "\t<tr><td>TCGA-A1-A0SQ-01</td><td>0.6333333      </td><td>0              </td><td>0              </td><td>0              </td><td>0              </td><td>0              </td><td>0              </td><td>0              </td><td>0              </td><td>0              </td><td>0              </td></tr>\n",
       "\t<tr><td>TCGA-A2-A04N-01</td><td>1.0666667      </td><td>0              </td><td>0              </td><td>0              </td><td>0              </td><td>0              </td><td>0              </td><td>0              </td><td>0              </td><td>0              </td><td>0              </td></tr>\n",
       "\t<tr><td>TCGA-A2-A04P-01</td><td>2.8666667      </td><td>0              </td><td>0              </td><td>0              </td><td>0              </td><td>0              </td><td>0              </td><td>0              </td><td>0              </td><td>0              </td><td>1              </td></tr>\n",
       "\t<tr><td>TCGA-A2-A04Q-01</td><td>0.2666667      </td><td>0              </td><td>0              </td><td>0              </td><td>0              </td><td>0              </td><td>0              </td><td>0              </td><td>0              </td><td>0              </td><td>0              </td></tr>\n",
       "\t<tr><td>TCGA-A2-A04R-01</td><td>2.1000000      </td><td>0              </td><td>0              </td><td>0              </td><td>0              </td><td>0              </td><td>0              </td><td>0              </td><td>0              </td><td>0              </td><td>0              </td></tr>\n",
       "\t<tr><td>TCGA-A2-A04T-01</td><td>2.1666667      </td><td>0              </td><td>0              </td><td>0              </td><td>0              </td><td>0              </td><td>0              </td><td>0              </td><td>0              </td><td>0              </td><td>0              </td></tr>\n",
       "\t<tr><td>TCGA-A2-A04U-01</td><td>1.5666667      </td><td>0              </td><td>0              </td><td>0              </td><td>0              </td><td>0              </td><td>0              </td><td>0              </td><td>0              </td><td>0              </td><td>0              </td></tr>\n",
       "\t<tr><td>TCGA-A2-A04V-01</td><td>0.8333333      </td><td>0              </td><td>0              </td><td>0              </td><td>0              </td><td>0              </td><td>0              </td><td>0              </td><td>0              </td><td>0              </td><td>0              </td></tr>\n",
       "\t<tr><td>TCGA-A2-A04W-01</td><td>2.6666667      </td><td>0              </td><td>0              </td><td>0              </td><td>0              </td><td>0              </td><td>0              </td><td>0              </td><td>0              </td><td>0              </td><td>1              </td></tr>\n",
       "\t<tr><td>TCGA-A2-A04X-01</td><td>0.6333333      </td><td>0              </td><td>0              </td><td>0              </td><td>0              </td><td>0              </td><td>0              </td><td>0              </td><td>0              </td><td>0              </td><td>0              </td></tr>\n",
       "\t<tr><td>TCGA-A2-A04Y-01</td><td>1.5333333      </td><td>0              </td><td>0              </td><td>0              </td><td>0              </td><td>0              </td><td>0              </td><td>0              </td><td>0              </td><td>0              </td><td>0              </td></tr>\n",
       "\t<tr><td>TCGA-A2-A0CK-01</td><td>0.3666667      </td><td>0              </td><td>0              </td><td>0              </td><td>0              </td><td>0              </td><td>0              </td><td>0              </td><td>0              </td><td>0              </td><td>0              </td></tr>\n",
       "\t<tr><td>TCGA-A2-A0CL-01</td><td>0.5333333      </td><td>0              </td><td>0              </td><td>0              </td><td>0              </td><td>0              </td><td>0              </td><td>0              </td><td>0              </td><td>0              </td><td>0              </td></tr>\n",
       "\t<tr><td>TCGA-A2-A0CM-01</td><td>1.4333333      </td><td>0              </td><td>0              </td><td>0              </td><td>0              </td><td>0              </td><td>0              </td><td>0              </td><td>0              </td><td>0              </td><td>0              </td></tr>\n",
       "\t<tr><td>TCGA-A2-A0CO-01</td><td>0.6000000      </td><td>0              </td><td>0              </td><td>0              </td><td>0              </td><td>0              </td><td>0              </td><td>0              </td><td>0              </td><td>0              </td><td>0              </td></tr>\n",
       "\t<tr><td>TCGA-A2-A0CP-01</td><td>2.5000000      </td><td>0              </td><td>0              </td><td>0              </td><td>0              </td><td>0              </td><td>0              </td><td>0              </td><td>0              </td><td>0              </td><td>0              </td></tr>\n",
       "\t<tr><td>TCGA-A2-A0CQ-01</td><td>0.9000000      </td><td>0              </td><td>0              </td><td>0              </td><td>0              </td><td>0              </td><td>0              </td><td>0              </td><td>0              </td><td>0              </td><td>0              </td></tr>\n",
       "\t<tr><td>TCGA-A2-A0CR-01</td><td>3.0000000      </td><td>0              </td><td>0              </td><td>0              </td><td>0              </td><td>0              </td><td>0              </td><td>0              </td><td>0              </td><td>0              </td><td>0              </td></tr>\n",
       "\t<tr><td>⋮</td><td>⋮</td><td>⋮</td><td>⋮</td><td>⋮</td><td>⋮</td><td>⋮</td><td>⋮</td><td>⋮</td><td>⋮</td><td>⋮</td><td>⋮</td></tr>\n",
       "\t<tr><td>TCGA-JL-A3YX-01</td><td>0.9000000      </td><td>0              </td><td>0              </td><td>0              </td><td>0              </td><td>0              </td><td>0              </td><td>0              </td><td>0              </td><td>0              </td><td>0              </td></tr>\n",
       "\t<tr><td>TCGA-LL-A440-01</td><td>0.2000000      </td><td>0              </td><td>0              </td><td>0              </td><td>0              </td><td>0              </td><td>0              </td><td>0              </td><td>0              </td><td>0              </td><td>0              </td></tr>\n",
       "\t<tr><td>TCGA-LL-A441-01</td><td>1.4333333      </td><td>1              </td><td>0              </td><td>0              </td><td>0              </td><td>0              </td><td>0              </td><td>0              </td><td>0              </td><td>0              </td><td>0              </td></tr>\n",
       "\t<tr><td>TCGA-LL-A50Y-01</td><td>0.8333333      </td><td>0              </td><td>0              </td><td>0              </td><td>0              </td><td>0              </td><td>0              </td><td>0              </td><td>0              </td><td>0              </td><td>0              </td></tr>\n",
       "\t<tr><td>TCGA-LL-A5YL-01</td><td>1.7666667      </td><td>0              </td><td>0              </td><td>0              </td><td>0              </td><td>0              </td><td>0              </td><td>0              </td><td>1              </td><td>0              </td><td>0              </td></tr>\n",
       "\t<tr><td>TCGA-LL-A5YM-01</td><td>0.6333333      </td><td>0              </td><td>0              </td><td>0              </td><td>0              </td><td>0              </td><td>0              </td><td>0              </td><td>0              </td><td>0              </td><td>0              </td></tr>\n",
       "\t<tr><td>TCGA-LL-A5YN-01</td><td>0.7666667      </td><td>0              </td><td>0              </td><td>0              </td><td>0              </td><td>0              </td><td>0              </td><td>0              </td><td>0              </td><td>0              </td><td>0              </td></tr>\n",
       "\t<tr><td>TCGA-LL-A5YO-01</td><td>0.9333333      </td><td>0              </td><td>0              </td><td>0              </td><td>0              </td><td>0              </td><td>0              </td><td>0              </td><td>0              </td><td>0              </td><td>0              </td></tr>\n",
       "\t<tr><td>TCGA-LL-A5YP-01</td><td>2.1333333      </td><td>0              </td><td>0              </td><td>0              </td><td>0              </td><td>0              </td><td>0              </td><td>0              </td><td>0              </td><td>0              </td><td>0              </td></tr>\n",
       "\t<tr><td>TCGA-LQ-A4E4-01</td><td>2.1333333      </td><td>0              </td><td>0              </td><td>0              </td><td>0              </td><td>0              </td><td>0              </td><td>0              </td><td>0              </td><td>0              </td><td>0              </td></tr>\n",
       "\t<tr><td>TCGA-MS-A51U-01</td><td>0.3666667      </td><td>0              </td><td>0              </td><td>0              </td><td>0              </td><td>0              </td><td>0              </td><td>0              </td><td>0              </td><td>0              </td><td>0              </td></tr>\n",
       "\t<tr><td>TCGA-OK-A5Q2-01</td><td>0.7333333      </td><td>0              </td><td>0              </td><td>0              </td><td>0              </td><td>0              </td><td>0              </td><td>0              </td><td>0              </td><td>0              </td><td>0              </td></tr>\n",
       "\t<tr><td>TCGA-OL-A5D6-01</td><td>0.9666667      </td><td>0              </td><td>0              </td><td>0              </td><td>0              </td><td>0              </td><td>0              </td><td>0              </td><td>0              </td><td>0              </td><td>1              </td></tr>\n",
       "\t<tr><td>TCGA-OL-A5D7-01</td><td>1.2666667      </td><td>0              </td><td>0              </td><td>0              </td><td>0              </td><td>0              </td><td>0              </td><td>0              </td><td>0              </td><td>0              </td><td>0              </td></tr>\n",
       "\t<tr><td>TCGA-OL-A5D8-01</td><td>0.7666667      </td><td>0              </td><td>0              </td><td>0              </td><td>0              </td><td>0              </td><td>0              </td><td>0              </td><td>0              </td><td>0              </td><td>0              </td></tr>\n",
       "\t<tr><td>TCGA-OL-A5DA-01</td><td>1.4000000      </td><td>0              </td><td>0              </td><td>0              </td><td>0              </td><td>0              </td><td>0              </td><td>0              </td><td>0              </td><td>0              </td><td>0              </td></tr>\n",
       "\t<tr><td>TCGA-OL-A5RU-01</td><td>0.7333333      </td><td>0              </td><td>0              </td><td>0              </td><td>0              </td><td>0              </td><td>0              </td><td>0              </td><td>0              </td><td>0              </td><td>0              </td></tr>\n",
       "\t<tr><td>TCGA-OL-A5RV-01</td><td>0.4000000      </td><td>0              </td><td>0              </td><td>0              </td><td>0              </td><td>0              </td><td>0              </td><td>0              </td><td>0              </td><td>0              </td><td>0              </td></tr>\n",
       "\t<tr><td>TCGA-OL-A5RW-01</td><td>4.0666667      </td><td>0              </td><td>0              </td><td>0              </td><td>0              </td><td>0              </td><td>0              </td><td>0              </td><td>0              </td><td>0              </td><td>0              </td></tr>\n",
       "\t<tr><td>TCGA-OL-A5RX-01</td><td>0.6666667      </td><td>0              </td><td>0              </td><td>0              </td><td>0              </td><td>0              </td><td>0              </td><td>0              </td><td>0              </td><td>0              </td><td>0              </td></tr>\n",
       "\t<tr><td>TCGA-OL-A5RY-01</td><td>0.2666667      </td><td>0              </td><td>0              </td><td>0              </td><td>0              </td><td>0              </td><td>0              </td><td>0              </td><td>0              </td><td>0              </td><td>0              </td></tr>\n",
       "\t<tr><td>TCGA-OL-A5RZ-01</td><td>2.6333333      </td><td>0              </td><td>0              </td><td>0              </td><td>0              </td><td>0              </td><td>0              </td><td>0              </td><td>0              </td><td>1              </td><td>0              </td></tr>\n",
       "\t<tr><td>TCGA-OL-A5S0-01</td><td>1.0000000      </td><td>0              </td><td>0              </td><td>0              </td><td>0              </td><td>0              </td><td>0              </td><td>0              </td><td>0              </td><td>0              </td><td>0              </td></tr>\n",
       "\t<tr><td>TCGA-OL-A66H-01</td><td>0.6333333      </td><td>0              </td><td>0              </td><td>0              </td><td>0              </td><td>0              </td><td>0              </td><td>0              </td><td>0              </td><td>0              </td><td>0              </td></tr>\n",
       "\t<tr><td>TCGA-OL-A66I-01</td><td>0.8000000      </td><td>0              </td><td>0              </td><td>0              </td><td>0              </td><td>0              </td><td>0              </td><td>0              </td><td>0              </td><td>0              </td><td>1              </td></tr>\n",
       "\t<tr><td>TCGA-OL-A66J-01</td><td>1.5000000      </td><td>0              </td><td>0              </td><td>0              </td><td>0              </td><td>0              </td><td>0              </td><td>0              </td><td>0              </td><td>0              </td><td>0              </td></tr>\n",
       "\t<tr><td>TCGA-OL-A66K-01</td><td>0.6333333      </td><td>0              </td><td>0              </td><td>0              </td><td>0              </td><td>0              </td><td>0              </td><td>0              </td><td>0              </td><td>0              </td><td>0              </td></tr>\n",
       "\t<tr><td>TCGA-PE-A5DC-01</td><td>2.6333333      </td><td>0              </td><td>0              </td><td>0              </td><td>0              </td><td>0              </td><td>0              </td><td>0              </td><td>0              </td><td>0              </td><td>0              </td></tr>\n",
       "\t<tr><td>TCGA-PE-A5DD-01</td><td>1.4333333      </td><td>0              </td><td>0              </td><td>0              </td><td>0              </td><td>0              </td><td>0              </td><td>0              </td><td>0              </td><td>0              </td><td>0              </td></tr>\n",
       "\t<tr><td>TCGA-PE-A5DE-01</td><td>9.0666667      </td><td>0              </td><td>0              </td><td>0              </td><td>0              </td><td>0              </td><td>0              </td><td>0              </td><td>0              </td><td>0              </td><td>0              </td></tr>\n",
       "</tbody>\n",
       "</table>\n",
       "</li>\n",
       "\t<li><table>\n",
       "<thead><tr><th scope=col>Tumor_Sample_Barcode</th><th scope=col>TMB</th><th scope=col>Window_1</th><th scope=col>Window_2</th><th scope=col>Window_3</th><th scope=col>Window_4</th><th scope=col>Window_5</th><th scope=col>Window_6</th><th scope=col>Window_7</th><th scope=col>Window_8</th><th scope=col>⋯</th><th scope=col>Window_91</th><th scope=col>Window_92</th><th scope=col>Window_93</th><th scope=col>Window_94</th><th scope=col>Window_95</th><th scope=col>Window_96</th><th scope=col>Window_97</th><th scope=col>Window_98</th><th scope=col>Window_99</th><th scope=col>Window_100</th></tr></thead>\n",
       "<tbody>\n",
       "\t<tr><td>TCGA-A1-A0SB-01</td><td>0.5333333      </td><td>0              </td><td>0              </td><td>0              </td><td>0              </td><td>0              </td><td>0              </td><td>0              </td><td>0              </td><td>⋯              </td><td>0              </td><td>0              </td><td>0              </td><td>0              </td><td>0              </td><td>0              </td><td>0              </td><td>0              </td><td>0              </td><td>0              </td></tr>\n",
       "\t<tr><td>TCGA-A1-A0SD-01</td><td>0.8000000      </td><td>0              </td><td>0              </td><td>0              </td><td>0              </td><td>0              </td><td>0              </td><td>0              </td><td>0              </td><td>⋯              </td><td>0              </td><td>0              </td><td>0              </td><td>0              </td><td>0              </td><td>0              </td><td>0              </td><td>0              </td><td>0              </td><td>0              </td></tr>\n",
       "\t<tr><td>TCGA-A1-A0SE-01</td><td>0.6000000      </td><td>0              </td><td>0              </td><td>0              </td><td>0              </td><td>0              </td><td>0              </td><td>0              </td><td>0              </td><td>⋯              </td><td>0              </td><td>0              </td><td>0              </td><td>0              </td><td>0              </td><td>0              </td><td>0              </td><td>0              </td><td>0              </td><td>0              </td></tr>\n",
       "\t<tr><td>TCGA-A1-A0SF-01</td><td>1.1000000      </td><td>0              </td><td>0              </td><td>0              </td><td>0              </td><td>0              </td><td>0              </td><td>0              </td><td>0              </td><td>⋯              </td><td>0              </td><td>0              </td><td>0              </td><td>0              </td><td>0              </td><td>0              </td><td>0              </td><td>0              </td><td>0              </td><td>0              </td></tr>\n",
       "\t<tr><td>TCGA-A1-A0SG-01</td><td>0.8666667      </td><td>0              </td><td>0              </td><td>0              </td><td>0              </td><td>0              </td><td>0              </td><td>0              </td><td>0              </td><td>⋯              </td><td>0              </td><td>0              </td><td>0              </td><td>0              </td><td>0              </td><td>0              </td><td>0              </td><td>0              </td><td>0              </td><td>0              </td></tr>\n",
       "\t<tr><td>TCGA-A1-A0SH-01</td><td>2.4000000      </td><td>0              </td><td>0              </td><td>0              </td><td>0              </td><td>0              </td><td>0              </td><td>0              </td><td>0              </td><td>⋯              </td><td>0              </td><td>0              </td><td>0              </td><td>0              </td><td>0              </td><td>0              </td><td>0              </td><td>0              </td><td>0              </td><td>0              </td></tr>\n",
       "\t<tr><td>TCGA-A1-A0SI-01</td><td>4.5333333      </td><td>0              </td><td>0              </td><td>0              </td><td>0              </td><td>0              </td><td>0              </td><td>0              </td><td>0              </td><td>⋯              </td><td>0              </td><td>0              </td><td>0              </td><td>0              </td><td>0              </td><td>0              </td><td>0              </td><td>0              </td><td>0              </td><td>0              </td></tr>\n",
       "\t<tr><td>TCGA-A1-A0SJ-01</td><td>0.8333333      </td><td>0              </td><td>0              </td><td>0              </td><td>0              </td><td>0              </td><td>0              </td><td>0              </td><td>0              </td><td>⋯              </td><td>0              </td><td>0              </td><td>0              </td><td>0              </td><td>0              </td><td>0              </td><td>0              </td><td>0              </td><td>0              </td><td>0              </td></tr>\n",
       "\t<tr><td>TCGA-A1-A0SK-01</td><td>2.9666667      </td><td>0              </td><td>0              </td><td>0              </td><td>0              </td><td>0              </td><td>0              </td><td>0              </td><td>0              </td><td>⋯              </td><td>0              </td><td>0              </td><td>0              </td><td>0              </td><td>0              </td><td>0              </td><td>0              </td><td>0              </td><td>0              </td><td>0              </td></tr>\n",
       "\t<tr><td>TCGA-A1-A0SM-01</td><td>0.7000000      </td><td>0              </td><td>0              </td><td>0              </td><td>0              </td><td>0              </td><td>0              </td><td>0              </td><td>0              </td><td>⋯              </td><td>0              </td><td>0              </td><td>0              </td><td>0              </td><td>0              </td><td>0              </td><td>0              </td><td>0              </td><td>0              </td><td>0              </td></tr>\n",
       "\t<tr><td>TCGA-A1-A0SN-01</td><td>1.2666667      </td><td>0              </td><td>0              </td><td>0              </td><td>0              </td><td>0              </td><td>0              </td><td>0              </td><td>0              </td><td>⋯              </td><td>0              </td><td>0              </td><td>0              </td><td>0              </td><td>0              </td><td>0              </td><td>0              </td><td>0              </td><td>0              </td><td>0              </td></tr>\n",
       "\t<tr><td>TCGA-A1-A0SP-01</td><td>1.1333333      </td><td>0              </td><td>0              </td><td>0              </td><td>0              </td><td>0              </td><td>0              </td><td>0              </td><td>0              </td><td>⋯              </td><td>0              </td><td>0              </td><td>0              </td><td>0              </td><td>0              </td><td>0              </td><td>0              </td><td>0              </td><td>0              </td><td>0              </td></tr>\n",
       "\t<tr><td>TCGA-A1-A0SQ-01</td><td>0.6333333      </td><td>0              </td><td>0              </td><td>0              </td><td>0              </td><td>0              </td><td>0              </td><td>0              </td><td>0              </td><td>⋯              </td><td>0              </td><td>0              </td><td>0              </td><td>0              </td><td>0              </td><td>0              </td><td>0              </td><td>0              </td><td>0              </td><td>0              </td></tr>\n",
       "\t<tr><td>TCGA-A2-A04N-01</td><td>1.0666667      </td><td>0              </td><td>0              </td><td>0              </td><td>0              </td><td>0              </td><td>0              </td><td>0              </td><td>0              </td><td>⋯              </td><td>0              </td><td>0              </td><td>0              </td><td>0              </td><td>0              </td><td>0              </td><td>0              </td><td>0              </td><td>0              </td><td>0              </td></tr>\n",
       "\t<tr><td>TCGA-A2-A04P-01</td><td>2.8666667      </td><td>0              </td><td>0              </td><td>0              </td><td>0              </td><td>0              </td><td>0              </td><td>0              </td><td>0              </td><td>⋯              </td><td>0              </td><td>0              </td><td>0              </td><td>0              </td><td>0              </td><td>0              </td><td>0              </td><td>0              </td><td>0              </td><td>0              </td></tr>\n",
       "\t<tr><td>TCGA-A2-A04Q-01</td><td>0.2666667      </td><td>0              </td><td>0              </td><td>0              </td><td>0              </td><td>0              </td><td>0              </td><td>0              </td><td>0              </td><td>⋯              </td><td>0              </td><td>0              </td><td>0              </td><td>0              </td><td>0              </td><td>0              </td><td>0              </td><td>0              </td><td>0              </td><td>0              </td></tr>\n",
       "\t<tr><td>TCGA-A2-A04R-01</td><td>2.1000000      </td><td>0              </td><td>0              </td><td>0              </td><td>0              </td><td>0              </td><td>0              </td><td>0              </td><td>0              </td><td>⋯              </td><td>0              </td><td>0              </td><td>0              </td><td>0              </td><td>0              </td><td>0              </td><td>0              </td><td>0              </td><td>0              </td><td>0              </td></tr>\n",
       "\t<tr><td>TCGA-A2-A04T-01</td><td>2.1666667      </td><td>0              </td><td>0              </td><td>0              </td><td>0              </td><td>0              </td><td>0              </td><td>0              </td><td>0              </td><td>⋯              </td><td>0              </td><td>0              </td><td>0              </td><td>0              </td><td>0              </td><td>0              </td><td>0              </td><td>0              </td><td>0              </td><td>0              </td></tr>\n",
       "\t<tr><td>TCGA-A2-A04U-01</td><td>1.5666667      </td><td>0              </td><td>0              </td><td>0              </td><td>0              </td><td>0              </td><td>0              </td><td>0              </td><td>0              </td><td>⋯              </td><td>0              </td><td>0              </td><td>0              </td><td>0              </td><td>0              </td><td>0              </td><td>0              </td><td>0              </td><td>0              </td><td>0              </td></tr>\n",
       "\t<tr><td>TCGA-A2-A04V-01</td><td>0.8333333      </td><td>0              </td><td>0              </td><td>0              </td><td>0              </td><td>0              </td><td>0              </td><td>0              </td><td>0              </td><td>⋯              </td><td>0              </td><td>0              </td><td>0              </td><td>0              </td><td>0              </td><td>0              </td><td>0              </td><td>0              </td><td>0              </td><td>0              </td></tr>\n",
       "\t<tr><td>TCGA-A2-A04W-01</td><td>2.6666667      </td><td>0              </td><td>0              </td><td>0              </td><td>0              </td><td>0              </td><td>0              </td><td>0              </td><td>0              </td><td>⋯              </td><td>0              </td><td>0              </td><td>0              </td><td>0              </td><td>0              </td><td>0              </td><td>0              </td><td>0              </td><td>0              </td><td>0              </td></tr>\n",
       "\t<tr><td>TCGA-A2-A04X-01</td><td>0.6333333      </td><td>0              </td><td>0              </td><td>0              </td><td>0              </td><td>0              </td><td>0              </td><td>0              </td><td>0              </td><td>⋯              </td><td>0              </td><td>0              </td><td>0              </td><td>0              </td><td>0              </td><td>0              </td><td>0              </td><td>0              </td><td>0              </td><td>0              </td></tr>\n",
       "\t<tr><td>TCGA-A2-A04Y-01</td><td>1.5333333      </td><td>0              </td><td>0              </td><td>0              </td><td>0              </td><td>0              </td><td>0              </td><td>0              </td><td>0              </td><td>⋯              </td><td>0              </td><td>0              </td><td>0              </td><td>0              </td><td>0              </td><td>0              </td><td>0              </td><td>0              </td><td>0              </td><td>0              </td></tr>\n",
       "\t<tr><td>TCGA-A2-A0CK-01</td><td>0.3666667      </td><td>0              </td><td>0              </td><td>0              </td><td>0              </td><td>0              </td><td>0              </td><td>0              </td><td>0              </td><td>⋯              </td><td>0              </td><td>0              </td><td>0              </td><td>0              </td><td>0              </td><td>0              </td><td>0              </td><td>0              </td><td>0              </td><td>0              </td></tr>\n",
       "\t<tr><td>TCGA-A2-A0CL-01</td><td>0.5333333      </td><td>0              </td><td>0              </td><td>0              </td><td>0              </td><td>0              </td><td>0              </td><td>0              </td><td>0              </td><td>⋯              </td><td>0              </td><td>0              </td><td>0              </td><td>0              </td><td>0              </td><td>0              </td><td>0              </td><td>0              </td><td>0              </td><td>0              </td></tr>\n",
       "\t<tr><td>TCGA-A2-A0CM-01</td><td>1.4333333      </td><td>0              </td><td>0              </td><td>0              </td><td>0              </td><td>0              </td><td>0              </td><td>0              </td><td>0              </td><td>⋯              </td><td>0              </td><td>0              </td><td>0              </td><td>0              </td><td>0              </td><td>0              </td><td>0              </td><td>0              </td><td>0              </td><td>0              </td></tr>\n",
       "\t<tr><td>TCGA-A2-A0CO-01</td><td>0.6000000      </td><td>0              </td><td>0              </td><td>0              </td><td>0              </td><td>0              </td><td>0              </td><td>0              </td><td>0              </td><td>⋯              </td><td>0              </td><td>0              </td><td>0              </td><td>0              </td><td>0              </td><td>0              </td><td>0              </td><td>0              </td><td>0              </td><td>0              </td></tr>\n",
       "\t<tr><td>TCGA-A2-A0CP-01</td><td>2.5000000      </td><td>0              </td><td>0              </td><td>0              </td><td>0              </td><td>0              </td><td>0              </td><td>0              </td><td>0              </td><td>⋯              </td><td>0              </td><td>0              </td><td>0              </td><td>0              </td><td>0              </td><td>0              </td><td>0              </td><td>0              </td><td>0              </td><td>0              </td></tr>\n",
       "\t<tr><td>TCGA-A2-A0CQ-01</td><td>0.9000000      </td><td>0              </td><td>0              </td><td>0              </td><td>0              </td><td>0              </td><td>0              </td><td>0              </td><td>0              </td><td>⋯              </td><td>0              </td><td>0              </td><td>0              </td><td>0              </td><td>0              </td><td>0              </td><td>0              </td><td>0              </td><td>0              </td><td>0              </td></tr>\n",
       "\t<tr><td>TCGA-A2-A0CR-01</td><td>3.0000000      </td><td>0              </td><td>0              </td><td>0              </td><td>0              </td><td>0              </td><td>0              </td><td>0              </td><td>0              </td><td>⋯              </td><td>0              </td><td>0              </td><td>0              </td><td>0              </td><td>0              </td><td>0              </td><td>0              </td><td>0              </td><td>0              </td><td>0              </td></tr>\n",
       "\t<tr><td>⋮</td><td>⋮</td><td>⋮</td><td>⋮</td><td>⋮</td><td>⋮</td><td>⋮</td><td>⋮</td><td>⋮</td><td>⋮</td><td>⋱</td><td>⋮</td><td>⋮</td><td>⋮</td><td>⋮</td><td>⋮</td><td>⋮</td><td>⋮</td><td>⋮</td><td>⋮</td><td>⋮</td></tr>\n",
       "\t<tr><td>TCGA-JL-A3YX-01</td><td>0.9000000      </td><td>0              </td><td>0              </td><td>0              </td><td>0              </td><td>0              </td><td>0              </td><td>0              </td><td>0              </td><td>⋯              </td><td>0              </td><td>0              </td><td>0              </td><td>0              </td><td>0              </td><td>0              </td><td>0              </td><td>0              </td><td>0              </td><td>0              </td></tr>\n",
       "\t<tr><td>TCGA-LL-A440-01</td><td>0.2000000      </td><td>0              </td><td>0              </td><td>0              </td><td>0              </td><td>0              </td><td>0              </td><td>0              </td><td>0              </td><td>⋯              </td><td>0              </td><td>0              </td><td>0              </td><td>0              </td><td>0              </td><td>0              </td><td>0              </td><td>0              </td><td>0              </td><td>0              </td></tr>\n",
       "\t<tr><td>TCGA-LL-A441-01</td><td>1.4333333      </td><td>0              </td><td>0              </td><td>0              </td><td>0              </td><td>0              </td><td>0              </td><td>0              </td><td>0              </td><td>⋯              </td><td>0              </td><td>0              </td><td>0              </td><td>0              </td><td>0              </td><td>0              </td><td>0              </td><td>0              </td><td>0              </td><td>0              </td></tr>\n",
       "\t<tr><td>TCGA-LL-A50Y-01</td><td>0.8333333      </td><td>0              </td><td>0              </td><td>0              </td><td>0              </td><td>0              </td><td>0              </td><td>0              </td><td>0              </td><td>⋯              </td><td>0              </td><td>0              </td><td>0              </td><td>0              </td><td>0              </td><td>0              </td><td>0              </td><td>0              </td><td>0              </td><td>0              </td></tr>\n",
       "\t<tr><td>TCGA-LL-A5YL-01</td><td>1.7666667      </td><td>0              </td><td>0              </td><td>0              </td><td>0              </td><td>0              </td><td>0              </td><td>0              </td><td>0              </td><td>⋯              </td><td>0              </td><td>0              </td><td>0              </td><td>0              </td><td>0              </td><td>0              </td><td>0              </td><td>0              </td><td>0              </td><td>0              </td></tr>\n",
       "\t<tr><td>TCGA-LL-A5YM-01</td><td>0.6333333      </td><td>0              </td><td>0              </td><td>0              </td><td>0              </td><td>0              </td><td>0              </td><td>0              </td><td>0              </td><td>⋯              </td><td>0              </td><td>0              </td><td>0              </td><td>0              </td><td>0              </td><td>0              </td><td>0              </td><td>0              </td><td>0              </td><td>0              </td></tr>\n",
       "\t<tr><td>TCGA-LL-A5YN-01</td><td>0.7666667      </td><td>0              </td><td>0              </td><td>0              </td><td>0              </td><td>0              </td><td>0              </td><td>0              </td><td>0              </td><td>⋯              </td><td>0              </td><td>0              </td><td>0              </td><td>0              </td><td>0              </td><td>0              </td><td>0              </td><td>0              </td><td>0              </td><td>0              </td></tr>\n",
       "\t<tr><td>TCGA-LL-A5YO-01</td><td>0.9333333      </td><td>0              </td><td>0              </td><td>0              </td><td>0              </td><td>0              </td><td>0              </td><td>0              </td><td>0              </td><td>⋯              </td><td>0              </td><td>0              </td><td>0              </td><td>0              </td><td>0              </td><td>0              </td><td>0              </td><td>0              </td><td>0              </td><td>0              </td></tr>\n",
       "\t<tr><td>TCGA-LL-A5YP-01</td><td>2.1333333      </td><td>0              </td><td>0              </td><td>0              </td><td>0              </td><td>0              </td><td>0              </td><td>0              </td><td>0              </td><td>⋯              </td><td>0              </td><td>0              </td><td>0              </td><td>0              </td><td>0              </td><td>0              </td><td>0              </td><td>0              </td><td>0              </td><td>0              </td></tr>\n",
       "\t<tr><td>TCGA-LQ-A4E4-01</td><td>2.1333333      </td><td>0              </td><td>0              </td><td>0              </td><td>0              </td><td>0              </td><td>0              </td><td>0              </td><td>0              </td><td>⋯              </td><td>0              </td><td>0              </td><td>0              </td><td>0              </td><td>0              </td><td>0              </td><td>0              </td><td>0              </td><td>0              </td><td>0              </td></tr>\n",
       "\t<tr><td>TCGA-MS-A51U-01</td><td>0.3666667      </td><td>0              </td><td>0              </td><td>0              </td><td>0              </td><td>0              </td><td>0              </td><td>0              </td><td>0              </td><td>⋯              </td><td>0              </td><td>0              </td><td>0              </td><td>0              </td><td>0              </td><td>0              </td><td>0              </td><td>0              </td><td>0              </td><td>0              </td></tr>\n",
       "\t<tr><td>TCGA-OK-A5Q2-01</td><td>0.7333333      </td><td>0              </td><td>0              </td><td>0              </td><td>0              </td><td>0              </td><td>0              </td><td>0              </td><td>0              </td><td>⋯              </td><td>0              </td><td>0              </td><td>0              </td><td>0              </td><td>0              </td><td>0              </td><td>0              </td><td>0              </td><td>0              </td><td>0              </td></tr>\n",
       "\t<tr><td>TCGA-OL-A5D6-01</td><td>0.9666667      </td><td>0              </td><td>0              </td><td>0              </td><td>0              </td><td>0              </td><td>0              </td><td>0              </td><td>0              </td><td>⋯              </td><td>0              </td><td>0              </td><td>0              </td><td>0              </td><td>0              </td><td>0              </td><td>0              </td><td>0              </td><td>0              </td><td>0              </td></tr>\n",
       "\t<tr><td>TCGA-OL-A5D7-01</td><td>1.2666667      </td><td>0              </td><td>0              </td><td>0              </td><td>0              </td><td>0              </td><td>0              </td><td>0              </td><td>0              </td><td>⋯              </td><td>0              </td><td>0              </td><td>0              </td><td>0              </td><td>0              </td><td>0              </td><td>0              </td><td>0              </td><td>0              </td><td>0              </td></tr>\n",
       "\t<tr><td>TCGA-OL-A5D8-01</td><td>0.7666667      </td><td>0              </td><td>0              </td><td>0              </td><td>0              </td><td>0              </td><td>0              </td><td>0              </td><td>0              </td><td>⋯              </td><td>0              </td><td>0              </td><td>0              </td><td>0              </td><td>0              </td><td>0              </td><td>0              </td><td>0              </td><td>0              </td><td>0              </td></tr>\n",
       "\t<tr><td>TCGA-OL-A5DA-01</td><td>1.4000000      </td><td>0              </td><td>0              </td><td>0              </td><td>0              </td><td>0              </td><td>0              </td><td>0              </td><td>0              </td><td>⋯              </td><td>0              </td><td>0              </td><td>0              </td><td>0              </td><td>0              </td><td>0              </td><td>0              </td><td>0              </td><td>0              </td><td>0              </td></tr>\n",
       "\t<tr><td>TCGA-OL-A5RU-01</td><td>0.7333333      </td><td>0              </td><td>0              </td><td>0              </td><td>0              </td><td>0              </td><td>0              </td><td>0              </td><td>0              </td><td>⋯              </td><td>0              </td><td>0              </td><td>0              </td><td>0              </td><td>0              </td><td>0              </td><td>0              </td><td>0              </td><td>0              </td><td>0              </td></tr>\n",
       "\t<tr><td>TCGA-OL-A5RV-01</td><td>0.4000000      </td><td>0              </td><td>0              </td><td>0              </td><td>0              </td><td>0              </td><td>0              </td><td>0              </td><td>0              </td><td>⋯              </td><td>0              </td><td>0              </td><td>0              </td><td>0              </td><td>0              </td><td>0              </td><td>0              </td><td>0              </td><td>0              </td><td>0              </td></tr>\n",
       "\t<tr><td>TCGA-OL-A5RW-01</td><td>4.0666667      </td><td>0              </td><td>0              </td><td>0              </td><td>0              </td><td>0              </td><td>0              </td><td>0              </td><td>0              </td><td>⋯              </td><td>0              </td><td>0              </td><td>0              </td><td>0              </td><td>0              </td><td>0              </td><td>0              </td><td>0              </td><td>0              </td><td>0              </td></tr>\n",
       "\t<tr><td>TCGA-OL-A5RX-01</td><td>0.6666667      </td><td>0              </td><td>0              </td><td>0              </td><td>0              </td><td>0              </td><td>0              </td><td>0              </td><td>0              </td><td>⋯              </td><td>0              </td><td>0              </td><td>0              </td><td>0              </td><td>0              </td><td>0              </td><td>0              </td><td>0              </td><td>0              </td><td>0              </td></tr>\n",
       "\t<tr><td>TCGA-OL-A5RY-01</td><td>0.2666667      </td><td>0              </td><td>0              </td><td>0              </td><td>0              </td><td>0              </td><td>0              </td><td>0              </td><td>0              </td><td>⋯              </td><td>0              </td><td>0              </td><td>0              </td><td>0              </td><td>0              </td><td>0              </td><td>0              </td><td>0              </td><td>0              </td><td>0              </td></tr>\n",
       "\t<tr><td>TCGA-OL-A5RZ-01</td><td>2.6333333      </td><td>0              </td><td>0              </td><td>0              </td><td>0              </td><td>0              </td><td>0              </td><td>0              </td><td>0              </td><td>⋯              </td><td>0              </td><td>0              </td><td>0              </td><td>0              </td><td>0              </td><td>0              </td><td>0              </td><td>0              </td><td>0              </td><td>0              </td></tr>\n",
       "\t<tr><td>TCGA-OL-A5S0-01</td><td>1.0000000      </td><td>0              </td><td>0              </td><td>0              </td><td>0              </td><td>0              </td><td>0              </td><td>0              </td><td>0              </td><td>⋯              </td><td>0              </td><td>0              </td><td>0              </td><td>0              </td><td>0              </td><td>0              </td><td>0              </td><td>0              </td><td>0              </td><td>0              </td></tr>\n",
       "\t<tr><td>TCGA-OL-A66H-01</td><td>0.6333333      </td><td>0              </td><td>0              </td><td>0              </td><td>0              </td><td>0              </td><td>0              </td><td>0              </td><td>0              </td><td>⋯              </td><td>0              </td><td>0              </td><td>0              </td><td>0              </td><td>0              </td><td>0              </td><td>0              </td><td>0              </td><td>0              </td><td>0              </td></tr>\n",
       "\t<tr><td>TCGA-OL-A66I-01</td><td>0.8000000      </td><td>0              </td><td>0              </td><td>0              </td><td>0              </td><td>0              </td><td>0              </td><td>0              </td><td>0              </td><td>⋯              </td><td>0              </td><td>0              </td><td>0              </td><td>0              </td><td>0              </td><td>0              </td><td>0              </td><td>0              </td><td>0              </td><td>0              </td></tr>\n",
       "\t<tr><td>TCGA-OL-A66J-01</td><td>1.5000000      </td><td>0              </td><td>0              </td><td>0              </td><td>0              </td><td>0              </td><td>0              </td><td>0              </td><td>0              </td><td>⋯              </td><td>0              </td><td>0              </td><td>0              </td><td>0              </td><td>0              </td><td>0              </td><td>0              </td><td>0              </td><td>0              </td><td>0              </td></tr>\n",
       "\t<tr><td>TCGA-OL-A66K-01</td><td>0.6333333      </td><td>0              </td><td>0              </td><td>0              </td><td>0              </td><td>0              </td><td>0              </td><td>0              </td><td>0              </td><td>⋯              </td><td>0              </td><td>0              </td><td>0              </td><td>0              </td><td>0              </td><td>0              </td><td>0              </td><td>0              </td><td>0              </td><td>0              </td></tr>\n",
       "\t<tr><td>TCGA-PE-A5DC-01</td><td>2.6333333      </td><td>0              </td><td>0              </td><td>0              </td><td>0              </td><td>0              </td><td>0              </td><td>0              </td><td>0              </td><td>⋯              </td><td>0              </td><td>0              </td><td>0              </td><td>0              </td><td>0              </td><td>0              </td><td>0              </td><td>0              </td><td>0              </td><td>0              </td></tr>\n",
       "\t<tr><td>TCGA-PE-A5DD-01</td><td>1.4333333      </td><td>0              </td><td>0              </td><td>0              </td><td>0              </td><td>0              </td><td>0              </td><td>0              </td><td>0              </td><td>⋯              </td><td>0              </td><td>0              </td><td>0              </td><td>0              </td><td>0              </td><td>0              </td><td>0              </td><td>0              </td><td>0              </td><td>0              </td></tr>\n",
       "\t<tr><td>TCGA-PE-A5DE-01</td><td>9.0666667      </td><td>0              </td><td>0              </td><td>0              </td><td>0              </td><td>0              </td><td>0              </td><td>0              </td><td>0              </td><td>⋯              </td><td>0              </td><td>0              </td><td>0              </td><td>0              </td><td>0              </td><td>0              </td><td>0              </td><td>0              </td><td>0              </td><td>0              </td></tr>\n",
       "</tbody>\n",
       "</table>\n",
       "</li>\n",
       "\t<li><table>\n",
       "<thead><tr><th scope=col>Tumor_Sample_Barcode</th><th scope=col>TMB</th><th scope=col>Window_1</th><th scope=col>Window_2</th><th scope=col>Window_3</th><th scope=col>Window_4</th><th scope=col>Window_5</th><th scope=col>Window_6</th><th scope=col>Window_7</th><th scope=col>Window_8</th><th scope=col>⋯</th><th scope=col>Window_991</th><th scope=col>Window_992</th><th scope=col>Window_993</th><th scope=col>Window_994</th><th scope=col>Window_995</th><th scope=col>Window_996</th><th scope=col>Window_997</th><th scope=col>Window_998</th><th scope=col>Window_999</th><th scope=col>Window_1000</th></tr></thead>\n",
       "<tbody>\n",
       "\t<tr><td>TCGA-A1-A0SB-01</td><td>0.5333333      </td><td>0              </td><td>0              </td><td>0              </td><td>0              </td><td>0              </td><td>0              </td><td>0              </td><td>0              </td><td>⋯              </td><td>0              </td><td>0              </td><td>0              </td><td>0              </td><td>0              </td><td>0              </td><td>0              </td><td>0              </td><td>0              </td><td>0              </td></tr>\n",
       "\t<tr><td>TCGA-A1-A0SD-01</td><td>0.8000000      </td><td>0              </td><td>0              </td><td>0              </td><td>0              </td><td>0              </td><td>0              </td><td>0              </td><td>0              </td><td>⋯              </td><td>0              </td><td>0              </td><td>0              </td><td>0              </td><td>0              </td><td>0              </td><td>0              </td><td>0              </td><td>0              </td><td>0              </td></tr>\n",
       "\t<tr><td>TCGA-A1-A0SE-01</td><td>0.6000000      </td><td>0              </td><td>0              </td><td>0              </td><td>0              </td><td>0              </td><td>0              </td><td>0              </td><td>0              </td><td>⋯              </td><td>0              </td><td>0              </td><td>0              </td><td>0              </td><td>0              </td><td>0              </td><td>0              </td><td>0              </td><td>0              </td><td>0              </td></tr>\n",
       "\t<tr><td>TCGA-A1-A0SF-01</td><td>1.1000000      </td><td>0              </td><td>0              </td><td>0              </td><td>0              </td><td>0              </td><td>0              </td><td>0              </td><td>0              </td><td>⋯              </td><td>0              </td><td>0              </td><td>0              </td><td>0              </td><td>0              </td><td>0              </td><td>0              </td><td>0              </td><td>0              </td><td>0              </td></tr>\n",
       "\t<tr><td>TCGA-A1-A0SG-01</td><td>0.8666667      </td><td>0              </td><td>0              </td><td>0              </td><td>0              </td><td>0              </td><td>0              </td><td>0              </td><td>0              </td><td>⋯              </td><td>0              </td><td>0              </td><td>0              </td><td>0              </td><td>0              </td><td>0              </td><td>0              </td><td>0              </td><td>0              </td><td>0              </td></tr>\n",
       "\t<tr><td>TCGA-A1-A0SH-01</td><td>2.4000000      </td><td>0              </td><td>0              </td><td>0              </td><td>0              </td><td>0              </td><td>0              </td><td>0              </td><td>0              </td><td>⋯              </td><td>0              </td><td>0              </td><td>0              </td><td>0              </td><td>0              </td><td>0              </td><td>0              </td><td>0              </td><td>0              </td><td>0              </td></tr>\n",
       "\t<tr><td>TCGA-A1-A0SI-01</td><td>4.5333333      </td><td>0              </td><td>0              </td><td>0              </td><td>0              </td><td>0              </td><td>0              </td><td>0              </td><td>0              </td><td>⋯              </td><td>0              </td><td>0              </td><td>0              </td><td>0              </td><td>0              </td><td>0              </td><td>0              </td><td>0              </td><td>0              </td><td>0              </td></tr>\n",
       "\t<tr><td>TCGA-A1-A0SJ-01</td><td>0.8333333      </td><td>0              </td><td>0              </td><td>0              </td><td>0              </td><td>0              </td><td>0              </td><td>0              </td><td>0              </td><td>⋯              </td><td>0              </td><td>0              </td><td>0              </td><td>0              </td><td>0              </td><td>0              </td><td>0              </td><td>0              </td><td>0              </td><td>0              </td></tr>\n",
       "\t<tr><td>TCGA-A1-A0SK-01</td><td>2.9666667      </td><td>0              </td><td>0              </td><td>0              </td><td>0              </td><td>0              </td><td>0              </td><td>0              </td><td>0              </td><td>⋯              </td><td>0              </td><td>0              </td><td>0              </td><td>0              </td><td>0              </td><td>0              </td><td>0              </td><td>0              </td><td>0              </td><td>0              </td></tr>\n",
       "\t<tr><td>TCGA-A1-A0SM-01</td><td>0.7000000      </td><td>0              </td><td>0              </td><td>0              </td><td>0              </td><td>0              </td><td>0              </td><td>0              </td><td>0              </td><td>⋯              </td><td>0              </td><td>0              </td><td>0              </td><td>0              </td><td>0              </td><td>0              </td><td>0              </td><td>0              </td><td>0              </td><td>0              </td></tr>\n",
       "\t<tr><td>TCGA-A1-A0SN-01</td><td>1.2666667      </td><td>0              </td><td>0              </td><td>0              </td><td>0              </td><td>0              </td><td>0              </td><td>0              </td><td>0              </td><td>⋯              </td><td>0              </td><td>0              </td><td>0              </td><td>0              </td><td>0              </td><td>0              </td><td>0              </td><td>0              </td><td>0              </td><td>0              </td></tr>\n",
       "\t<tr><td>TCGA-A1-A0SP-01</td><td>1.1333333      </td><td>0              </td><td>0              </td><td>0              </td><td>0              </td><td>0              </td><td>0              </td><td>0              </td><td>0              </td><td>⋯              </td><td>0              </td><td>0              </td><td>0              </td><td>0              </td><td>0              </td><td>0              </td><td>0              </td><td>0              </td><td>0              </td><td>0              </td></tr>\n",
       "\t<tr><td>TCGA-A1-A0SQ-01</td><td>0.6333333      </td><td>0              </td><td>0              </td><td>0              </td><td>0              </td><td>0              </td><td>0              </td><td>0              </td><td>0              </td><td>⋯              </td><td>0              </td><td>0              </td><td>0              </td><td>0              </td><td>0              </td><td>0              </td><td>0              </td><td>0              </td><td>0              </td><td>0              </td></tr>\n",
       "\t<tr><td>TCGA-A2-A04N-01</td><td>1.0666667      </td><td>0              </td><td>0              </td><td>0              </td><td>0              </td><td>0              </td><td>0              </td><td>0              </td><td>0              </td><td>⋯              </td><td>0              </td><td>0              </td><td>0              </td><td>0              </td><td>0              </td><td>0              </td><td>0              </td><td>0              </td><td>0              </td><td>0              </td></tr>\n",
       "\t<tr><td>TCGA-A2-A04P-01</td><td>2.8666667      </td><td>0              </td><td>0              </td><td>0              </td><td>0              </td><td>0              </td><td>0              </td><td>0              </td><td>0              </td><td>⋯              </td><td>0              </td><td>0              </td><td>0              </td><td>0              </td><td>0              </td><td>0              </td><td>0              </td><td>0              </td><td>0              </td><td>0              </td></tr>\n",
       "\t<tr><td>TCGA-A2-A04Q-01</td><td>0.2666667      </td><td>0              </td><td>0              </td><td>0              </td><td>0              </td><td>0              </td><td>0              </td><td>0              </td><td>0              </td><td>⋯              </td><td>0              </td><td>0              </td><td>0              </td><td>0              </td><td>0              </td><td>0              </td><td>0              </td><td>0              </td><td>0              </td><td>0              </td></tr>\n",
       "\t<tr><td>TCGA-A2-A04R-01</td><td>2.1000000      </td><td>0              </td><td>0              </td><td>0              </td><td>0              </td><td>0              </td><td>0              </td><td>0              </td><td>0              </td><td>⋯              </td><td>0              </td><td>0              </td><td>0              </td><td>0              </td><td>0              </td><td>0              </td><td>0              </td><td>0              </td><td>0              </td><td>0              </td></tr>\n",
       "\t<tr><td>TCGA-A2-A04T-01</td><td>2.1666667      </td><td>0              </td><td>0              </td><td>0              </td><td>0              </td><td>0              </td><td>0              </td><td>0              </td><td>0              </td><td>⋯              </td><td>0              </td><td>0              </td><td>0              </td><td>0              </td><td>0              </td><td>0              </td><td>0              </td><td>0              </td><td>0              </td><td>0              </td></tr>\n",
       "\t<tr><td>TCGA-A2-A04U-01</td><td>1.5666667      </td><td>0              </td><td>0              </td><td>0              </td><td>0              </td><td>0              </td><td>0              </td><td>0              </td><td>0              </td><td>⋯              </td><td>0              </td><td>0              </td><td>0              </td><td>0              </td><td>0              </td><td>0              </td><td>0              </td><td>0              </td><td>0              </td><td>0              </td></tr>\n",
       "\t<tr><td>TCGA-A2-A04V-01</td><td>0.8333333      </td><td>0              </td><td>0              </td><td>0              </td><td>0              </td><td>0              </td><td>0              </td><td>0              </td><td>0              </td><td>⋯              </td><td>0              </td><td>0              </td><td>0              </td><td>0              </td><td>0              </td><td>0              </td><td>0              </td><td>0              </td><td>0              </td><td>0              </td></tr>\n",
       "\t<tr><td>TCGA-A2-A04W-01</td><td>2.6666667      </td><td>0              </td><td>0              </td><td>0              </td><td>0              </td><td>0              </td><td>0              </td><td>0              </td><td>0              </td><td>⋯              </td><td>0              </td><td>0              </td><td>0              </td><td>0              </td><td>0              </td><td>0              </td><td>0              </td><td>0              </td><td>0              </td><td>0              </td></tr>\n",
       "\t<tr><td>TCGA-A2-A04X-01</td><td>0.6333333      </td><td>0              </td><td>0              </td><td>0              </td><td>0              </td><td>0              </td><td>0              </td><td>0              </td><td>0              </td><td>⋯              </td><td>0              </td><td>0              </td><td>0              </td><td>0              </td><td>0              </td><td>0              </td><td>0              </td><td>0              </td><td>0              </td><td>0              </td></tr>\n",
       "\t<tr><td>TCGA-A2-A04Y-01</td><td>1.5333333      </td><td>0              </td><td>0              </td><td>0              </td><td>0              </td><td>0              </td><td>0              </td><td>0              </td><td>0              </td><td>⋯              </td><td>0              </td><td>0              </td><td>0              </td><td>0              </td><td>0              </td><td>0              </td><td>0              </td><td>0              </td><td>0              </td><td>0              </td></tr>\n",
       "\t<tr><td>TCGA-A2-A0CK-01</td><td>0.3666667      </td><td>0              </td><td>0              </td><td>0              </td><td>0              </td><td>0              </td><td>0              </td><td>0              </td><td>0              </td><td>⋯              </td><td>0              </td><td>0              </td><td>0              </td><td>0              </td><td>0              </td><td>0              </td><td>0              </td><td>0              </td><td>0              </td><td>0              </td></tr>\n",
       "\t<tr><td>TCGA-A2-A0CL-01</td><td>0.5333333      </td><td>0              </td><td>0              </td><td>0              </td><td>0              </td><td>0              </td><td>0              </td><td>0              </td><td>0              </td><td>⋯              </td><td>0              </td><td>0              </td><td>0              </td><td>0              </td><td>0              </td><td>0              </td><td>0              </td><td>0              </td><td>0              </td><td>0              </td></tr>\n",
       "\t<tr><td>TCGA-A2-A0CM-01</td><td>1.4333333      </td><td>0              </td><td>0              </td><td>0              </td><td>0              </td><td>0              </td><td>0              </td><td>0              </td><td>0              </td><td>⋯              </td><td>0              </td><td>0              </td><td>0              </td><td>0              </td><td>0              </td><td>0              </td><td>0              </td><td>0              </td><td>0              </td><td>0              </td></tr>\n",
       "\t<tr><td>TCGA-A2-A0CO-01</td><td>0.6000000      </td><td>0              </td><td>0              </td><td>0              </td><td>0              </td><td>0              </td><td>0              </td><td>0              </td><td>0              </td><td>⋯              </td><td>0              </td><td>0              </td><td>0              </td><td>0              </td><td>0              </td><td>0              </td><td>0              </td><td>0              </td><td>0              </td><td>0              </td></tr>\n",
       "\t<tr><td>TCGA-A2-A0CP-01</td><td>2.5000000      </td><td>0              </td><td>0              </td><td>0              </td><td>0              </td><td>0              </td><td>0              </td><td>0              </td><td>0              </td><td>⋯              </td><td>0              </td><td>0              </td><td>0              </td><td>0              </td><td>0              </td><td>0              </td><td>0              </td><td>0              </td><td>0              </td><td>0              </td></tr>\n",
       "\t<tr><td>TCGA-A2-A0CQ-01</td><td>0.9000000      </td><td>0              </td><td>0              </td><td>0              </td><td>0              </td><td>0              </td><td>0              </td><td>0              </td><td>0              </td><td>⋯              </td><td>0              </td><td>0              </td><td>0              </td><td>0              </td><td>0              </td><td>0              </td><td>0              </td><td>0              </td><td>0              </td><td>0              </td></tr>\n",
       "\t<tr><td>TCGA-A2-A0CR-01</td><td>3.0000000      </td><td>0              </td><td>0              </td><td>0              </td><td>0              </td><td>0              </td><td>0              </td><td>0              </td><td>0              </td><td>⋯              </td><td>0              </td><td>0              </td><td>0              </td><td>0              </td><td>0              </td><td>0              </td><td>0              </td><td>0              </td><td>0              </td><td>0              </td></tr>\n",
       "\t<tr><td>⋮</td><td>⋮</td><td>⋮</td><td>⋮</td><td>⋮</td><td>⋮</td><td>⋮</td><td>⋮</td><td>⋮</td><td>⋮</td><td>⋱</td><td>⋮</td><td>⋮</td><td>⋮</td><td>⋮</td><td>⋮</td><td>⋮</td><td>⋮</td><td>⋮</td><td>⋮</td><td>⋮</td></tr>\n",
       "\t<tr><td>TCGA-JL-A3YX-01</td><td>0.9000000      </td><td>0              </td><td>0              </td><td>0              </td><td>0              </td><td>0              </td><td>0              </td><td>0              </td><td>0              </td><td>⋯              </td><td>0              </td><td>0              </td><td>0              </td><td>0              </td><td>0              </td><td>0              </td><td>0              </td><td>0              </td><td>0              </td><td>0              </td></tr>\n",
       "\t<tr><td>TCGA-LL-A440-01</td><td>0.2000000      </td><td>0              </td><td>0              </td><td>0              </td><td>0              </td><td>0              </td><td>0              </td><td>0              </td><td>0              </td><td>⋯              </td><td>0              </td><td>0              </td><td>0              </td><td>0              </td><td>0              </td><td>0              </td><td>0              </td><td>0              </td><td>0              </td><td>0              </td></tr>\n",
       "\t<tr><td>TCGA-LL-A441-01</td><td>1.4333333      </td><td>0              </td><td>0              </td><td>0              </td><td>0              </td><td>0              </td><td>0              </td><td>0              </td><td>0              </td><td>⋯              </td><td>0              </td><td>0              </td><td>0              </td><td>0              </td><td>0              </td><td>0              </td><td>0              </td><td>0              </td><td>0              </td><td>0              </td></tr>\n",
       "\t<tr><td>TCGA-LL-A50Y-01</td><td>0.8333333      </td><td>0              </td><td>0              </td><td>0              </td><td>0              </td><td>0              </td><td>0              </td><td>0              </td><td>0              </td><td>⋯              </td><td>0              </td><td>0              </td><td>0              </td><td>0              </td><td>0              </td><td>0              </td><td>0              </td><td>0              </td><td>0              </td><td>0              </td></tr>\n",
       "\t<tr><td>TCGA-LL-A5YL-01</td><td>1.7666667      </td><td>0              </td><td>0              </td><td>0              </td><td>0              </td><td>0              </td><td>0              </td><td>0              </td><td>0              </td><td>⋯              </td><td>0              </td><td>0              </td><td>0              </td><td>0              </td><td>0              </td><td>0              </td><td>0              </td><td>0              </td><td>0              </td><td>0              </td></tr>\n",
       "\t<tr><td>TCGA-LL-A5YM-01</td><td>0.6333333      </td><td>0              </td><td>0              </td><td>0              </td><td>0              </td><td>0              </td><td>0              </td><td>0              </td><td>0              </td><td>⋯              </td><td>0              </td><td>0              </td><td>0              </td><td>0              </td><td>0              </td><td>0              </td><td>0              </td><td>0              </td><td>0              </td><td>0              </td></tr>\n",
       "\t<tr><td>TCGA-LL-A5YN-01</td><td>0.7666667      </td><td>0              </td><td>0              </td><td>0              </td><td>0              </td><td>0              </td><td>0              </td><td>0              </td><td>0              </td><td>⋯              </td><td>0              </td><td>0              </td><td>0              </td><td>0              </td><td>0              </td><td>0              </td><td>0              </td><td>0              </td><td>0              </td><td>0              </td></tr>\n",
       "\t<tr><td>TCGA-LL-A5YO-01</td><td>0.9333333      </td><td>0              </td><td>0              </td><td>0              </td><td>0              </td><td>0              </td><td>0              </td><td>0              </td><td>0              </td><td>⋯              </td><td>0              </td><td>0              </td><td>0              </td><td>0              </td><td>0              </td><td>0              </td><td>0              </td><td>0              </td><td>0              </td><td>0              </td></tr>\n",
       "\t<tr><td>TCGA-LL-A5YP-01</td><td>2.1333333      </td><td>0              </td><td>0              </td><td>0              </td><td>0              </td><td>0              </td><td>0              </td><td>0              </td><td>0              </td><td>⋯              </td><td>0              </td><td>0              </td><td>0              </td><td>0              </td><td>0              </td><td>0              </td><td>0              </td><td>0              </td><td>0              </td><td>0              </td></tr>\n",
       "\t<tr><td>TCGA-LQ-A4E4-01</td><td>2.1333333      </td><td>0              </td><td>0              </td><td>0              </td><td>0              </td><td>0              </td><td>0              </td><td>0              </td><td>0              </td><td>⋯              </td><td>0              </td><td>0              </td><td>0              </td><td>0              </td><td>0              </td><td>0              </td><td>0              </td><td>0              </td><td>0              </td><td>0              </td></tr>\n",
       "\t<tr><td>TCGA-MS-A51U-01</td><td>0.3666667      </td><td>0              </td><td>0              </td><td>0              </td><td>0              </td><td>0              </td><td>0              </td><td>0              </td><td>0              </td><td>⋯              </td><td>0              </td><td>0              </td><td>0              </td><td>0              </td><td>0              </td><td>0              </td><td>0              </td><td>0              </td><td>0              </td><td>0              </td></tr>\n",
       "\t<tr><td>TCGA-OK-A5Q2-01</td><td>0.7333333      </td><td>0              </td><td>0              </td><td>0              </td><td>0              </td><td>0              </td><td>0              </td><td>0              </td><td>0              </td><td>⋯              </td><td>0              </td><td>0              </td><td>0              </td><td>0              </td><td>0              </td><td>0              </td><td>0              </td><td>0              </td><td>0              </td><td>0              </td></tr>\n",
       "\t<tr><td>TCGA-OL-A5D6-01</td><td>0.9666667      </td><td>0              </td><td>0              </td><td>0              </td><td>0              </td><td>0              </td><td>0              </td><td>0              </td><td>0              </td><td>⋯              </td><td>0              </td><td>0              </td><td>0              </td><td>0              </td><td>0              </td><td>0              </td><td>0              </td><td>0              </td><td>0              </td><td>0              </td></tr>\n",
       "\t<tr><td>TCGA-OL-A5D7-01</td><td>1.2666667      </td><td>0              </td><td>0              </td><td>0              </td><td>0              </td><td>0              </td><td>0              </td><td>0              </td><td>0              </td><td>⋯              </td><td>0              </td><td>0              </td><td>0              </td><td>0              </td><td>0              </td><td>0              </td><td>0              </td><td>0              </td><td>0              </td><td>0              </td></tr>\n",
       "\t<tr><td>TCGA-OL-A5D8-01</td><td>0.7666667      </td><td>0              </td><td>0              </td><td>0              </td><td>0              </td><td>0              </td><td>0              </td><td>0              </td><td>0              </td><td>⋯              </td><td>0              </td><td>0              </td><td>0              </td><td>0              </td><td>0              </td><td>0              </td><td>0              </td><td>0              </td><td>0              </td><td>0              </td></tr>\n",
       "\t<tr><td>TCGA-OL-A5DA-01</td><td>1.4000000      </td><td>0              </td><td>0              </td><td>0              </td><td>0              </td><td>0              </td><td>0              </td><td>0              </td><td>0              </td><td>⋯              </td><td>0              </td><td>0              </td><td>0              </td><td>0              </td><td>0              </td><td>0              </td><td>0              </td><td>0              </td><td>0              </td><td>0              </td></tr>\n",
       "\t<tr><td>TCGA-OL-A5RU-01</td><td>0.7333333      </td><td>0              </td><td>0              </td><td>0              </td><td>0              </td><td>0              </td><td>0              </td><td>0              </td><td>0              </td><td>⋯              </td><td>0              </td><td>0              </td><td>0              </td><td>0              </td><td>0              </td><td>0              </td><td>0              </td><td>0              </td><td>0              </td><td>0              </td></tr>\n",
       "\t<tr><td>TCGA-OL-A5RV-01</td><td>0.4000000      </td><td>0              </td><td>0              </td><td>0              </td><td>0              </td><td>0              </td><td>0              </td><td>0              </td><td>0              </td><td>⋯              </td><td>0              </td><td>0              </td><td>0              </td><td>0              </td><td>0              </td><td>0              </td><td>0              </td><td>0              </td><td>0              </td><td>0              </td></tr>\n",
       "\t<tr><td>TCGA-OL-A5RW-01</td><td>4.0666667      </td><td>0              </td><td>0              </td><td>0              </td><td>0              </td><td>0              </td><td>0              </td><td>0              </td><td>0              </td><td>⋯              </td><td>0              </td><td>0              </td><td>0              </td><td>0              </td><td>0              </td><td>0              </td><td>0              </td><td>0              </td><td>0              </td><td>0              </td></tr>\n",
       "\t<tr><td>TCGA-OL-A5RX-01</td><td>0.6666667      </td><td>0              </td><td>0              </td><td>0              </td><td>0              </td><td>0              </td><td>0              </td><td>0              </td><td>0              </td><td>⋯              </td><td>0              </td><td>0              </td><td>0              </td><td>0              </td><td>0              </td><td>0              </td><td>0              </td><td>0              </td><td>0              </td><td>0              </td></tr>\n",
       "\t<tr><td>TCGA-OL-A5RY-01</td><td>0.2666667      </td><td>0              </td><td>0              </td><td>0              </td><td>0              </td><td>0              </td><td>0              </td><td>0              </td><td>0              </td><td>⋯              </td><td>0              </td><td>0              </td><td>0              </td><td>0              </td><td>0              </td><td>0              </td><td>0              </td><td>0              </td><td>0              </td><td>0              </td></tr>\n",
       "\t<tr><td>TCGA-OL-A5RZ-01</td><td>2.6333333      </td><td>0              </td><td>0              </td><td>0              </td><td>0              </td><td>0              </td><td>0              </td><td>0              </td><td>0              </td><td>⋯              </td><td>0              </td><td>0              </td><td>0              </td><td>0              </td><td>0              </td><td>0              </td><td>0              </td><td>0              </td><td>0              </td><td>0              </td></tr>\n",
       "\t<tr><td>TCGA-OL-A5S0-01</td><td>1.0000000      </td><td>0              </td><td>0              </td><td>0              </td><td>0              </td><td>0              </td><td>0              </td><td>0              </td><td>0              </td><td>⋯              </td><td>0              </td><td>0              </td><td>0              </td><td>0              </td><td>0              </td><td>0              </td><td>0              </td><td>0              </td><td>0              </td><td>0              </td></tr>\n",
       "\t<tr><td>TCGA-OL-A66H-01</td><td>0.6333333      </td><td>0              </td><td>0              </td><td>0              </td><td>0              </td><td>0              </td><td>0              </td><td>0              </td><td>0              </td><td>⋯              </td><td>0              </td><td>0              </td><td>0              </td><td>0              </td><td>0              </td><td>0              </td><td>0              </td><td>0              </td><td>0              </td><td>0              </td></tr>\n",
       "\t<tr><td>TCGA-OL-A66I-01</td><td>0.8000000      </td><td>0              </td><td>0              </td><td>0              </td><td>0              </td><td>0              </td><td>0              </td><td>0              </td><td>0              </td><td>⋯              </td><td>0              </td><td>0              </td><td>0              </td><td>0              </td><td>0              </td><td>0              </td><td>0              </td><td>0              </td><td>0              </td><td>0              </td></tr>\n",
       "\t<tr><td>TCGA-OL-A66J-01</td><td>1.5000000      </td><td>0              </td><td>0              </td><td>0              </td><td>0              </td><td>0              </td><td>0              </td><td>0              </td><td>0              </td><td>⋯              </td><td>0              </td><td>0              </td><td>0              </td><td>0              </td><td>0              </td><td>0              </td><td>0              </td><td>0              </td><td>0              </td><td>0              </td></tr>\n",
       "\t<tr><td>TCGA-OL-A66K-01</td><td>0.6333333      </td><td>0              </td><td>0              </td><td>0              </td><td>0              </td><td>0              </td><td>0              </td><td>0              </td><td>0              </td><td>⋯              </td><td>0              </td><td>0              </td><td>0              </td><td>0              </td><td>0              </td><td>0              </td><td>0              </td><td>0              </td><td>0              </td><td>0              </td></tr>\n",
       "\t<tr><td>TCGA-PE-A5DC-01</td><td>2.6333333      </td><td>0              </td><td>0              </td><td>0              </td><td>0              </td><td>0              </td><td>0              </td><td>0              </td><td>0              </td><td>⋯              </td><td>0              </td><td>0              </td><td>0              </td><td>0              </td><td>0              </td><td>0              </td><td>0              </td><td>0              </td><td>0              </td><td>0              </td></tr>\n",
       "\t<tr><td>TCGA-PE-A5DD-01</td><td>1.4333333      </td><td>0              </td><td>0              </td><td>0              </td><td>0              </td><td>0              </td><td>0              </td><td>0              </td><td>0              </td><td>⋯              </td><td>0              </td><td>0              </td><td>0              </td><td>0              </td><td>0              </td><td>0              </td><td>0              </td><td>0              </td><td>0              </td><td>0              </td></tr>\n",
       "\t<tr><td>TCGA-PE-A5DE-01</td><td>9.0666667      </td><td>0              </td><td>0              </td><td>0              </td><td>0              </td><td>0              </td><td>0              </td><td>0              </td><td>0              </td><td>⋯              </td><td>0              </td><td>0              </td><td>0              </td><td>0              </td><td>0              </td><td>0              </td><td>0              </td><td>0              </td><td>0              </td><td>0              </td></tr>\n",
       "</tbody>\n",
       "</table>\n",
       "</li>\n",
       "</ol>\n"
      ],
      "text/latex": [
       "\\begin{enumerate}\n",
       "\\item \\begin{tabular}{r|lll}\n",
       " Tumor\\_Sample\\_Barcode & TMB & Window\\_1\\\\\n",
       "\\hline\n",
       "\t TCGA-A1-A0SB-01 & 0.5333333       & 0              \\\\\n",
       "\t TCGA-A1-A0SD-01 & 0.8000000       & 0              \\\\\n",
       "\t TCGA-A1-A0SE-01 & 0.6000000       & 0              \\\\\n",
       "\t TCGA-A1-A0SF-01 & 1.1000000       & 0              \\\\\n",
       "\t TCGA-A1-A0SG-01 & 0.8666667       & 0              \\\\\n",
       "\t TCGA-A1-A0SH-01 & 2.4000000       & 0              \\\\\n",
       "\t TCGA-A1-A0SI-01 & 4.5333333       & 0              \\\\\n",
       "\t TCGA-A1-A0SJ-01 & 0.8333333       & 0              \\\\\n",
       "\t TCGA-A1-A0SK-01 & 2.9666667       & 0              \\\\\n",
       "\t TCGA-A1-A0SM-01 & 0.7000000       & 0              \\\\\n",
       "\t TCGA-A1-A0SN-01 & 1.2666667       & 0              \\\\\n",
       "\t TCGA-A1-A0SP-01 & 1.1333333       & 0              \\\\\n",
       "\t TCGA-A1-A0SQ-01 & 0.6333333       & 0              \\\\\n",
       "\t TCGA-A2-A04N-01 & 1.0666667       & 0              \\\\\n",
       "\t TCGA-A2-A04P-01 & 2.8666667       & 0              \\\\\n",
       "\t TCGA-A2-A04Q-01 & 0.2666667       & 0              \\\\\n",
       "\t TCGA-A2-A04R-01 & 2.1000000       & 0              \\\\\n",
       "\t TCGA-A2-A04T-01 & 2.1666667       & 0              \\\\\n",
       "\t TCGA-A2-A04U-01 & 1.5666667       & 0              \\\\\n",
       "\t TCGA-A2-A04V-01 & 0.8333333       & 0              \\\\\n",
       "\t TCGA-A2-A04W-01 & 2.6666667       & 1              \\\\\n",
       "\t TCGA-A2-A04X-01 & 0.6333333       & 0              \\\\\n",
       "\t TCGA-A2-A04Y-01 & 1.5333333       & 0              \\\\\n",
       "\t TCGA-A2-A0CK-01 & 0.3666667       & 0              \\\\\n",
       "\t TCGA-A2-A0CL-01 & 0.5333333       & 0              \\\\\n",
       "\t TCGA-A2-A0CM-01 & 1.4333333       & 0              \\\\\n",
       "\t TCGA-A2-A0CO-01 & 0.6000000       & 0              \\\\\n",
       "\t TCGA-A2-A0CP-01 & 2.5000000       & 0              \\\\\n",
       "\t TCGA-A2-A0CQ-01 & 0.9000000       & 0              \\\\\n",
       "\t TCGA-A2-A0CR-01 & 3.0000000       & 0              \\\\\n",
       "\t ⋮ & ⋮ & ⋮\\\\\n",
       "\t TCGA-JL-A3YX-01 & 0.9000000       & 0              \\\\\n",
       "\t TCGA-LL-A440-01 & 0.2000000       & 0              \\\\\n",
       "\t TCGA-LL-A441-01 & 1.4333333       & 0              \\\\\n",
       "\t TCGA-LL-A50Y-01 & 0.8333333       & 0              \\\\\n",
       "\t TCGA-LL-A5YL-01 & 1.7666667       & 0              \\\\\n",
       "\t TCGA-LL-A5YM-01 & 0.6333333       & 0              \\\\\n",
       "\t TCGA-LL-A5YN-01 & 0.7666667       & 0              \\\\\n",
       "\t TCGA-LL-A5YO-01 & 0.9333333       & 0              \\\\\n",
       "\t TCGA-LL-A5YP-01 & 2.1333333       & 0              \\\\\n",
       "\t TCGA-LQ-A4E4-01 & 2.1333333       & 0              \\\\\n",
       "\t TCGA-MS-A51U-01 & 0.3666667       & 0              \\\\\n",
       "\t TCGA-OK-A5Q2-01 & 0.7333333       & 0              \\\\\n",
       "\t TCGA-OL-A5D6-01 & 0.9666667       & 0              \\\\\n",
       "\t TCGA-OL-A5D7-01 & 1.2666667       & 0              \\\\\n",
       "\t TCGA-OL-A5D8-01 & 0.7666667       & 0              \\\\\n",
       "\t TCGA-OL-A5DA-01 & 1.4000000       & 0              \\\\\n",
       "\t TCGA-OL-A5RU-01 & 0.7333333       & 0              \\\\\n",
       "\t TCGA-OL-A5RV-01 & 0.4000000       & 0              \\\\\n",
       "\t TCGA-OL-A5RW-01 & 4.0666667       & 0              \\\\\n",
       "\t TCGA-OL-A5RX-01 & 0.6666667       & 0              \\\\\n",
       "\t TCGA-OL-A5RY-01 & 0.2666667       & 0              \\\\\n",
       "\t TCGA-OL-A5RZ-01 & 2.6333333       & 0              \\\\\n",
       "\t TCGA-OL-A5S0-01 & 1.0000000       & 0              \\\\\n",
       "\t TCGA-OL-A66H-01 & 0.6333333       & 0              \\\\\n",
       "\t TCGA-OL-A66I-01 & 0.8000000       & 0              \\\\\n",
       "\t TCGA-OL-A66J-01 & 1.5000000       & 0              \\\\\n",
       "\t TCGA-OL-A66K-01 & 0.6333333       & 0              \\\\\n",
       "\t TCGA-PE-A5DC-01 & 2.6333333       & 0              \\\\\n",
       "\t TCGA-PE-A5DD-01 & 1.4333333       & 0              \\\\\n",
       "\t TCGA-PE-A5DE-01 & 9.0666667       & 0              \\\\\n",
       "\\end{tabular}\n",
       "\n",
       "\\item \\begin{tabular}{r|llllllllllll}\n",
       " Tumor\\_Sample\\_Barcode & TMB & Window\\_1 & Window\\_2 & Window\\_3 & Window\\_4 & Window\\_5 & Window\\_6 & Window\\_7 & Window\\_8 & Window\\_9 & Window\\_10\\\\\n",
       "\\hline\n",
       "\t TCGA-A1-A0SB-01 & 0.5333333       & 0               & 0               & 0               & 0               & 0               & 0               & 0               & 0               & 0               & 0              \\\\\n",
       "\t TCGA-A1-A0SD-01 & 0.8000000       & 0               & 0               & 0               & 0               & 0               & 0               & 0               & 0               & 0               & 1              \\\\\n",
       "\t TCGA-A1-A0SE-01 & 0.6000000       & 0               & 0               & 0               & 0               & 0               & 0               & 0               & 0               & 0               & 0              \\\\\n",
       "\t TCGA-A1-A0SF-01 & 1.1000000       & 0               & 0               & 0               & 0               & 0               & 0               & 0               & 0               & 0               & 0              \\\\\n",
       "\t TCGA-A1-A0SG-01 & 0.8666667       & 0               & 0               & 0               & 0               & 0               & 0               & 0               & 0               & 0               & 0              \\\\\n",
       "\t TCGA-A1-A0SH-01 & 2.4000000       & 0               & 0               & 0               & 0               & 0               & 0               & 0               & 0               & 0               & 0              \\\\\n",
       "\t TCGA-A1-A0SI-01 & 4.5333333       & 0               & 0               & 0               & 0               & 0               & 0               & 0               & 0               & 0               & 0              \\\\\n",
       "\t TCGA-A1-A0SJ-01 & 0.8333333       & 0               & 0               & 0               & 0               & 0               & 0               & 0               & 0               & 0               & 0              \\\\\n",
       "\t TCGA-A1-A0SK-01 & 2.9666667       & 0               & 0               & 0               & 0               & 0               & 0               & 0               & 0               & 0               & 0              \\\\\n",
       "\t TCGA-A1-A0SM-01 & 0.7000000       & 0               & 0               & 0               & 0               & 0               & 0               & 0               & 0               & 0               & 0              \\\\\n",
       "\t TCGA-A1-A0SN-01 & 1.2666667       & 0               & 0               & 0               & 0               & 0               & 0               & 0               & 0               & 0               & 0              \\\\\n",
       "\t TCGA-A1-A0SP-01 & 1.1333333       & 0               & 0               & 0               & 0               & 0               & 0               & 0               & 0               & 0               & 0              \\\\\n",
       "\t TCGA-A1-A0SQ-01 & 0.6333333       & 0               & 0               & 0               & 0               & 0               & 0               & 0               & 0               & 0               & 0              \\\\\n",
       "\t TCGA-A2-A04N-01 & 1.0666667       & 0               & 0               & 0               & 0               & 0               & 0               & 0               & 0               & 0               & 0              \\\\\n",
       "\t TCGA-A2-A04P-01 & 2.8666667       & 0               & 0               & 0               & 0               & 0               & 0               & 0               & 0               & 0               & 1              \\\\\n",
       "\t TCGA-A2-A04Q-01 & 0.2666667       & 0               & 0               & 0               & 0               & 0               & 0               & 0               & 0               & 0               & 0              \\\\\n",
       "\t TCGA-A2-A04R-01 & 2.1000000       & 0               & 0               & 0               & 0               & 0               & 0               & 0               & 0               & 0               & 0              \\\\\n",
       "\t TCGA-A2-A04T-01 & 2.1666667       & 0               & 0               & 0               & 0               & 0               & 0               & 0               & 0               & 0               & 0              \\\\\n",
       "\t TCGA-A2-A04U-01 & 1.5666667       & 0               & 0               & 0               & 0               & 0               & 0               & 0               & 0               & 0               & 0              \\\\\n",
       "\t TCGA-A2-A04V-01 & 0.8333333       & 0               & 0               & 0               & 0               & 0               & 0               & 0               & 0               & 0               & 0              \\\\\n",
       "\t TCGA-A2-A04W-01 & 2.6666667       & 0               & 0               & 0               & 0               & 0               & 0               & 0               & 0               & 0               & 1              \\\\\n",
       "\t TCGA-A2-A04X-01 & 0.6333333       & 0               & 0               & 0               & 0               & 0               & 0               & 0               & 0               & 0               & 0              \\\\\n",
       "\t TCGA-A2-A04Y-01 & 1.5333333       & 0               & 0               & 0               & 0               & 0               & 0               & 0               & 0               & 0               & 0              \\\\\n",
       "\t TCGA-A2-A0CK-01 & 0.3666667       & 0               & 0               & 0               & 0               & 0               & 0               & 0               & 0               & 0               & 0              \\\\\n",
       "\t TCGA-A2-A0CL-01 & 0.5333333       & 0               & 0               & 0               & 0               & 0               & 0               & 0               & 0               & 0               & 0              \\\\\n",
       "\t TCGA-A2-A0CM-01 & 1.4333333       & 0               & 0               & 0               & 0               & 0               & 0               & 0               & 0               & 0               & 0              \\\\\n",
       "\t TCGA-A2-A0CO-01 & 0.6000000       & 0               & 0               & 0               & 0               & 0               & 0               & 0               & 0               & 0               & 0              \\\\\n",
       "\t TCGA-A2-A0CP-01 & 2.5000000       & 0               & 0               & 0               & 0               & 0               & 0               & 0               & 0               & 0               & 0              \\\\\n",
       "\t TCGA-A2-A0CQ-01 & 0.9000000       & 0               & 0               & 0               & 0               & 0               & 0               & 0               & 0               & 0               & 0              \\\\\n",
       "\t TCGA-A2-A0CR-01 & 3.0000000       & 0               & 0               & 0               & 0               & 0               & 0               & 0               & 0               & 0               & 0              \\\\\n",
       "\t ⋮ & ⋮ & ⋮ & ⋮ & ⋮ & ⋮ & ⋮ & ⋮ & ⋮ & ⋮ & ⋮ & ⋮\\\\\n",
       "\t TCGA-JL-A3YX-01 & 0.9000000       & 0               & 0               & 0               & 0               & 0               & 0               & 0               & 0               & 0               & 0              \\\\\n",
       "\t TCGA-LL-A440-01 & 0.2000000       & 0               & 0               & 0               & 0               & 0               & 0               & 0               & 0               & 0               & 0              \\\\\n",
       "\t TCGA-LL-A441-01 & 1.4333333       & 1               & 0               & 0               & 0               & 0               & 0               & 0               & 0               & 0               & 0              \\\\\n",
       "\t TCGA-LL-A50Y-01 & 0.8333333       & 0               & 0               & 0               & 0               & 0               & 0               & 0               & 0               & 0               & 0              \\\\\n",
       "\t TCGA-LL-A5YL-01 & 1.7666667       & 0               & 0               & 0               & 0               & 0               & 0               & 0               & 1               & 0               & 0              \\\\\n",
       "\t TCGA-LL-A5YM-01 & 0.6333333       & 0               & 0               & 0               & 0               & 0               & 0               & 0               & 0               & 0               & 0              \\\\\n",
       "\t TCGA-LL-A5YN-01 & 0.7666667       & 0               & 0               & 0               & 0               & 0               & 0               & 0               & 0               & 0               & 0              \\\\\n",
       "\t TCGA-LL-A5YO-01 & 0.9333333       & 0               & 0               & 0               & 0               & 0               & 0               & 0               & 0               & 0               & 0              \\\\\n",
       "\t TCGA-LL-A5YP-01 & 2.1333333       & 0               & 0               & 0               & 0               & 0               & 0               & 0               & 0               & 0               & 0              \\\\\n",
       "\t TCGA-LQ-A4E4-01 & 2.1333333       & 0               & 0               & 0               & 0               & 0               & 0               & 0               & 0               & 0               & 0              \\\\\n",
       "\t TCGA-MS-A51U-01 & 0.3666667       & 0               & 0               & 0               & 0               & 0               & 0               & 0               & 0               & 0               & 0              \\\\\n",
       "\t TCGA-OK-A5Q2-01 & 0.7333333       & 0               & 0               & 0               & 0               & 0               & 0               & 0               & 0               & 0               & 0              \\\\\n",
       "\t TCGA-OL-A5D6-01 & 0.9666667       & 0               & 0               & 0               & 0               & 0               & 0               & 0               & 0               & 0               & 1              \\\\\n",
       "\t TCGA-OL-A5D7-01 & 1.2666667       & 0               & 0               & 0               & 0               & 0               & 0               & 0               & 0               & 0               & 0              \\\\\n",
       "\t TCGA-OL-A5D8-01 & 0.7666667       & 0               & 0               & 0               & 0               & 0               & 0               & 0               & 0               & 0               & 0              \\\\\n",
       "\t TCGA-OL-A5DA-01 & 1.4000000       & 0               & 0               & 0               & 0               & 0               & 0               & 0               & 0               & 0               & 0              \\\\\n",
       "\t TCGA-OL-A5RU-01 & 0.7333333       & 0               & 0               & 0               & 0               & 0               & 0               & 0               & 0               & 0               & 0              \\\\\n",
       "\t TCGA-OL-A5RV-01 & 0.4000000       & 0               & 0               & 0               & 0               & 0               & 0               & 0               & 0               & 0               & 0              \\\\\n",
       "\t TCGA-OL-A5RW-01 & 4.0666667       & 0               & 0               & 0               & 0               & 0               & 0               & 0               & 0               & 0               & 0              \\\\\n",
       "\t TCGA-OL-A5RX-01 & 0.6666667       & 0               & 0               & 0               & 0               & 0               & 0               & 0               & 0               & 0               & 0              \\\\\n",
       "\t TCGA-OL-A5RY-01 & 0.2666667       & 0               & 0               & 0               & 0               & 0               & 0               & 0               & 0               & 0               & 0              \\\\\n",
       "\t TCGA-OL-A5RZ-01 & 2.6333333       & 0               & 0               & 0               & 0               & 0               & 0               & 0               & 0               & 1               & 0              \\\\\n",
       "\t TCGA-OL-A5S0-01 & 1.0000000       & 0               & 0               & 0               & 0               & 0               & 0               & 0               & 0               & 0               & 0              \\\\\n",
       "\t TCGA-OL-A66H-01 & 0.6333333       & 0               & 0               & 0               & 0               & 0               & 0               & 0               & 0               & 0               & 0              \\\\\n",
       "\t TCGA-OL-A66I-01 & 0.8000000       & 0               & 0               & 0               & 0               & 0               & 0               & 0               & 0               & 0               & 1              \\\\\n",
       "\t TCGA-OL-A66J-01 & 1.5000000       & 0               & 0               & 0               & 0               & 0               & 0               & 0               & 0               & 0               & 0              \\\\\n",
       "\t TCGA-OL-A66K-01 & 0.6333333       & 0               & 0               & 0               & 0               & 0               & 0               & 0               & 0               & 0               & 0              \\\\\n",
       "\t TCGA-PE-A5DC-01 & 2.6333333       & 0               & 0               & 0               & 0               & 0               & 0               & 0               & 0               & 0               & 0              \\\\\n",
       "\t TCGA-PE-A5DD-01 & 1.4333333       & 0               & 0               & 0               & 0               & 0               & 0               & 0               & 0               & 0               & 0              \\\\\n",
       "\t TCGA-PE-A5DE-01 & 9.0666667       & 0               & 0               & 0               & 0               & 0               & 0               & 0               & 0               & 0               & 0              \\\\\n",
       "\\end{tabular}\n",
       "\n",
       "\\item \\begin{tabular}{r|llllllllllllllllllllllllllllllllllllllllllllllllllllllllllllllllllllllllllllllllllllllllllllllllllllll}\n",
       " Tumor\\_Sample\\_Barcode & TMB & Window\\_1 & Window\\_2 & Window\\_3 & Window\\_4 & Window\\_5 & Window\\_6 & Window\\_7 & Window\\_8 & ⋯ & Window\\_91 & Window\\_92 & Window\\_93 & Window\\_94 & Window\\_95 & Window\\_96 & Window\\_97 & Window\\_98 & Window\\_99 & Window\\_100\\\\\n",
       "\\hline\n",
       "\t TCGA-A1-A0SB-01 & 0.5333333       & 0               & 0               & 0               & 0               & 0               & 0               & 0               & 0               & ⋯               & 0               & 0               & 0               & 0               & 0               & 0               & 0               & 0               & 0               & 0              \\\\\n",
       "\t TCGA-A1-A0SD-01 & 0.8000000       & 0               & 0               & 0               & 0               & 0               & 0               & 0               & 0               & ⋯               & 0               & 0               & 0               & 0               & 0               & 0               & 0               & 0               & 0               & 0              \\\\\n",
       "\t TCGA-A1-A0SE-01 & 0.6000000       & 0               & 0               & 0               & 0               & 0               & 0               & 0               & 0               & ⋯               & 0               & 0               & 0               & 0               & 0               & 0               & 0               & 0               & 0               & 0              \\\\\n",
       "\t TCGA-A1-A0SF-01 & 1.1000000       & 0               & 0               & 0               & 0               & 0               & 0               & 0               & 0               & ⋯               & 0               & 0               & 0               & 0               & 0               & 0               & 0               & 0               & 0               & 0              \\\\\n",
       "\t TCGA-A1-A0SG-01 & 0.8666667       & 0               & 0               & 0               & 0               & 0               & 0               & 0               & 0               & ⋯               & 0               & 0               & 0               & 0               & 0               & 0               & 0               & 0               & 0               & 0              \\\\\n",
       "\t TCGA-A1-A0SH-01 & 2.4000000       & 0               & 0               & 0               & 0               & 0               & 0               & 0               & 0               & ⋯               & 0               & 0               & 0               & 0               & 0               & 0               & 0               & 0               & 0               & 0              \\\\\n",
       "\t TCGA-A1-A0SI-01 & 4.5333333       & 0               & 0               & 0               & 0               & 0               & 0               & 0               & 0               & ⋯               & 0               & 0               & 0               & 0               & 0               & 0               & 0               & 0               & 0               & 0              \\\\\n",
       "\t TCGA-A1-A0SJ-01 & 0.8333333       & 0               & 0               & 0               & 0               & 0               & 0               & 0               & 0               & ⋯               & 0               & 0               & 0               & 0               & 0               & 0               & 0               & 0               & 0               & 0              \\\\\n",
       "\t TCGA-A1-A0SK-01 & 2.9666667       & 0               & 0               & 0               & 0               & 0               & 0               & 0               & 0               & ⋯               & 0               & 0               & 0               & 0               & 0               & 0               & 0               & 0               & 0               & 0              \\\\\n",
       "\t TCGA-A1-A0SM-01 & 0.7000000       & 0               & 0               & 0               & 0               & 0               & 0               & 0               & 0               & ⋯               & 0               & 0               & 0               & 0               & 0               & 0               & 0               & 0               & 0               & 0              \\\\\n",
       "\t TCGA-A1-A0SN-01 & 1.2666667       & 0               & 0               & 0               & 0               & 0               & 0               & 0               & 0               & ⋯               & 0               & 0               & 0               & 0               & 0               & 0               & 0               & 0               & 0               & 0              \\\\\n",
       "\t TCGA-A1-A0SP-01 & 1.1333333       & 0               & 0               & 0               & 0               & 0               & 0               & 0               & 0               & ⋯               & 0               & 0               & 0               & 0               & 0               & 0               & 0               & 0               & 0               & 0              \\\\\n",
       "\t TCGA-A1-A0SQ-01 & 0.6333333       & 0               & 0               & 0               & 0               & 0               & 0               & 0               & 0               & ⋯               & 0               & 0               & 0               & 0               & 0               & 0               & 0               & 0               & 0               & 0              \\\\\n",
       "\t TCGA-A2-A04N-01 & 1.0666667       & 0               & 0               & 0               & 0               & 0               & 0               & 0               & 0               & ⋯               & 0               & 0               & 0               & 0               & 0               & 0               & 0               & 0               & 0               & 0              \\\\\n",
       "\t TCGA-A2-A04P-01 & 2.8666667       & 0               & 0               & 0               & 0               & 0               & 0               & 0               & 0               & ⋯               & 0               & 0               & 0               & 0               & 0               & 0               & 0               & 0               & 0               & 0              \\\\\n",
       "\t TCGA-A2-A04Q-01 & 0.2666667       & 0               & 0               & 0               & 0               & 0               & 0               & 0               & 0               & ⋯               & 0               & 0               & 0               & 0               & 0               & 0               & 0               & 0               & 0               & 0              \\\\\n",
       "\t TCGA-A2-A04R-01 & 2.1000000       & 0               & 0               & 0               & 0               & 0               & 0               & 0               & 0               & ⋯               & 0               & 0               & 0               & 0               & 0               & 0               & 0               & 0               & 0               & 0              \\\\\n",
       "\t TCGA-A2-A04T-01 & 2.1666667       & 0               & 0               & 0               & 0               & 0               & 0               & 0               & 0               & ⋯               & 0               & 0               & 0               & 0               & 0               & 0               & 0               & 0               & 0               & 0              \\\\\n",
       "\t TCGA-A2-A04U-01 & 1.5666667       & 0               & 0               & 0               & 0               & 0               & 0               & 0               & 0               & ⋯               & 0               & 0               & 0               & 0               & 0               & 0               & 0               & 0               & 0               & 0              \\\\\n",
       "\t TCGA-A2-A04V-01 & 0.8333333       & 0               & 0               & 0               & 0               & 0               & 0               & 0               & 0               & ⋯               & 0               & 0               & 0               & 0               & 0               & 0               & 0               & 0               & 0               & 0              \\\\\n",
       "\t TCGA-A2-A04W-01 & 2.6666667       & 0               & 0               & 0               & 0               & 0               & 0               & 0               & 0               & ⋯               & 0               & 0               & 0               & 0               & 0               & 0               & 0               & 0               & 0               & 0              \\\\\n",
       "\t TCGA-A2-A04X-01 & 0.6333333       & 0               & 0               & 0               & 0               & 0               & 0               & 0               & 0               & ⋯               & 0               & 0               & 0               & 0               & 0               & 0               & 0               & 0               & 0               & 0              \\\\\n",
       "\t TCGA-A2-A04Y-01 & 1.5333333       & 0               & 0               & 0               & 0               & 0               & 0               & 0               & 0               & ⋯               & 0               & 0               & 0               & 0               & 0               & 0               & 0               & 0               & 0               & 0              \\\\\n",
       "\t TCGA-A2-A0CK-01 & 0.3666667       & 0               & 0               & 0               & 0               & 0               & 0               & 0               & 0               & ⋯               & 0               & 0               & 0               & 0               & 0               & 0               & 0               & 0               & 0               & 0              \\\\\n",
       "\t TCGA-A2-A0CL-01 & 0.5333333       & 0               & 0               & 0               & 0               & 0               & 0               & 0               & 0               & ⋯               & 0               & 0               & 0               & 0               & 0               & 0               & 0               & 0               & 0               & 0              \\\\\n",
       "\t TCGA-A2-A0CM-01 & 1.4333333       & 0               & 0               & 0               & 0               & 0               & 0               & 0               & 0               & ⋯               & 0               & 0               & 0               & 0               & 0               & 0               & 0               & 0               & 0               & 0              \\\\\n",
       "\t TCGA-A2-A0CO-01 & 0.6000000       & 0               & 0               & 0               & 0               & 0               & 0               & 0               & 0               & ⋯               & 0               & 0               & 0               & 0               & 0               & 0               & 0               & 0               & 0               & 0              \\\\\n",
       "\t TCGA-A2-A0CP-01 & 2.5000000       & 0               & 0               & 0               & 0               & 0               & 0               & 0               & 0               & ⋯               & 0               & 0               & 0               & 0               & 0               & 0               & 0               & 0               & 0               & 0              \\\\\n",
       "\t TCGA-A2-A0CQ-01 & 0.9000000       & 0               & 0               & 0               & 0               & 0               & 0               & 0               & 0               & ⋯               & 0               & 0               & 0               & 0               & 0               & 0               & 0               & 0               & 0               & 0              \\\\\n",
       "\t TCGA-A2-A0CR-01 & 3.0000000       & 0               & 0               & 0               & 0               & 0               & 0               & 0               & 0               & ⋯               & 0               & 0               & 0               & 0               & 0               & 0               & 0               & 0               & 0               & 0              \\\\\n",
       "\t ⋮ & ⋮ & ⋮ & ⋮ & ⋮ & ⋮ & ⋮ & ⋮ & ⋮ & ⋮ & ⋱ & ⋮ & ⋮ & ⋮ & ⋮ & ⋮ & ⋮ & ⋮ & ⋮ & ⋮ & ⋮\\\\\n",
       "\t TCGA-JL-A3YX-01 & 0.9000000       & 0               & 0               & 0               & 0               & 0               & 0               & 0               & 0               & ⋯               & 0               & 0               & 0               & 0               & 0               & 0               & 0               & 0               & 0               & 0              \\\\\n",
       "\t TCGA-LL-A440-01 & 0.2000000       & 0               & 0               & 0               & 0               & 0               & 0               & 0               & 0               & ⋯               & 0               & 0               & 0               & 0               & 0               & 0               & 0               & 0               & 0               & 0              \\\\\n",
       "\t TCGA-LL-A441-01 & 1.4333333       & 0               & 0               & 0               & 0               & 0               & 0               & 0               & 0               & ⋯               & 0               & 0               & 0               & 0               & 0               & 0               & 0               & 0               & 0               & 0              \\\\\n",
       "\t TCGA-LL-A50Y-01 & 0.8333333       & 0               & 0               & 0               & 0               & 0               & 0               & 0               & 0               & ⋯               & 0               & 0               & 0               & 0               & 0               & 0               & 0               & 0               & 0               & 0              \\\\\n",
       "\t TCGA-LL-A5YL-01 & 1.7666667       & 0               & 0               & 0               & 0               & 0               & 0               & 0               & 0               & ⋯               & 0               & 0               & 0               & 0               & 0               & 0               & 0               & 0               & 0               & 0              \\\\\n",
       "\t TCGA-LL-A5YM-01 & 0.6333333       & 0               & 0               & 0               & 0               & 0               & 0               & 0               & 0               & ⋯               & 0               & 0               & 0               & 0               & 0               & 0               & 0               & 0               & 0               & 0              \\\\\n",
       "\t TCGA-LL-A5YN-01 & 0.7666667       & 0               & 0               & 0               & 0               & 0               & 0               & 0               & 0               & ⋯               & 0               & 0               & 0               & 0               & 0               & 0               & 0               & 0               & 0               & 0              \\\\\n",
       "\t TCGA-LL-A5YO-01 & 0.9333333       & 0               & 0               & 0               & 0               & 0               & 0               & 0               & 0               & ⋯               & 0               & 0               & 0               & 0               & 0               & 0               & 0               & 0               & 0               & 0              \\\\\n",
       "\t TCGA-LL-A5YP-01 & 2.1333333       & 0               & 0               & 0               & 0               & 0               & 0               & 0               & 0               & ⋯               & 0               & 0               & 0               & 0               & 0               & 0               & 0               & 0               & 0               & 0              \\\\\n",
       "\t TCGA-LQ-A4E4-01 & 2.1333333       & 0               & 0               & 0               & 0               & 0               & 0               & 0               & 0               & ⋯               & 0               & 0               & 0               & 0               & 0               & 0               & 0               & 0               & 0               & 0              \\\\\n",
       "\t TCGA-MS-A51U-01 & 0.3666667       & 0               & 0               & 0               & 0               & 0               & 0               & 0               & 0               & ⋯               & 0               & 0               & 0               & 0               & 0               & 0               & 0               & 0               & 0               & 0              \\\\\n",
       "\t TCGA-OK-A5Q2-01 & 0.7333333       & 0               & 0               & 0               & 0               & 0               & 0               & 0               & 0               & ⋯               & 0               & 0               & 0               & 0               & 0               & 0               & 0               & 0               & 0               & 0              \\\\\n",
       "\t TCGA-OL-A5D6-01 & 0.9666667       & 0               & 0               & 0               & 0               & 0               & 0               & 0               & 0               & ⋯               & 0               & 0               & 0               & 0               & 0               & 0               & 0               & 0               & 0               & 0              \\\\\n",
       "\t TCGA-OL-A5D7-01 & 1.2666667       & 0               & 0               & 0               & 0               & 0               & 0               & 0               & 0               & ⋯               & 0               & 0               & 0               & 0               & 0               & 0               & 0               & 0               & 0               & 0              \\\\\n",
       "\t TCGA-OL-A5D8-01 & 0.7666667       & 0               & 0               & 0               & 0               & 0               & 0               & 0               & 0               & ⋯               & 0               & 0               & 0               & 0               & 0               & 0               & 0               & 0               & 0               & 0              \\\\\n",
       "\t TCGA-OL-A5DA-01 & 1.4000000       & 0               & 0               & 0               & 0               & 0               & 0               & 0               & 0               & ⋯               & 0               & 0               & 0               & 0               & 0               & 0               & 0               & 0               & 0               & 0              \\\\\n",
       "\t TCGA-OL-A5RU-01 & 0.7333333       & 0               & 0               & 0               & 0               & 0               & 0               & 0               & 0               & ⋯               & 0               & 0               & 0               & 0               & 0               & 0               & 0               & 0               & 0               & 0              \\\\\n",
       "\t TCGA-OL-A5RV-01 & 0.4000000       & 0               & 0               & 0               & 0               & 0               & 0               & 0               & 0               & ⋯               & 0               & 0               & 0               & 0               & 0               & 0               & 0               & 0               & 0               & 0              \\\\\n",
       "\t TCGA-OL-A5RW-01 & 4.0666667       & 0               & 0               & 0               & 0               & 0               & 0               & 0               & 0               & ⋯               & 0               & 0               & 0               & 0               & 0               & 0               & 0               & 0               & 0               & 0              \\\\\n",
       "\t TCGA-OL-A5RX-01 & 0.6666667       & 0               & 0               & 0               & 0               & 0               & 0               & 0               & 0               & ⋯               & 0               & 0               & 0               & 0               & 0               & 0               & 0               & 0               & 0               & 0              \\\\\n",
       "\t TCGA-OL-A5RY-01 & 0.2666667       & 0               & 0               & 0               & 0               & 0               & 0               & 0               & 0               & ⋯               & 0               & 0               & 0               & 0               & 0               & 0               & 0               & 0               & 0               & 0              \\\\\n",
       "\t TCGA-OL-A5RZ-01 & 2.6333333       & 0               & 0               & 0               & 0               & 0               & 0               & 0               & 0               & ⋯               & 0               & 0               & 0               & 0               & 0               & 0               & 0               & 0               & 0               & 0              \\\\\n",
       "\t TCGA-OL-A5S0-01 & 1.0000000       & 0               & 0               & 0               & 0               & 0               & 0               & 0               & 0               & ⋯               & 0               & 0               & 0               & 0               & 0               & 0               & 0               & 0               & 0               & 0              \\\\\n",
       "\t TCGA-OL-A66H-01 & 0.6333333       & 0               & 0               & 0               & 0               & 0               & 0               & 0               & 0               & ⋯               & 0               & 0               & 0               & 0               & 0               & 0               & 0               & 0               & 0               & 0              \\\\\n",
       "\t TCGA-OL-A66I-01 & 0.8000000       & 0               & 0               & 0               & 0               & 0               & 0               & 0               & 0               & ⋯               & 0               & 0               & 0               & 0               & 0               & 0               & 0               & 0               & 0               & 0              \\\\\n",
       "\t TCGA-OL-A66J-01 & 1.5000000       & 0               & 0               & 0               & 0               & 0               & 0               & 0               & 0               & ⋯               & 0               & 0               & 0               & 0               & 0               & 0               & 0               & 0               & 0               & 0              \\\\\n",
       "\t TCGA-OL-A66K-01 & 0.6333333       & 0               & 0               & 0               & 0               & 0               & 0               & 0               & 0               & ⋯               & 0               & 0               & 0               & 0               & 0               & 0               & 0               & 0               & 0               & 0              \\\\\n",
       "\t TCGA-PE-A5DC-01 & 2.6333333       & 0               & 0               & 0               & 0               & 0               & 0               & 0               & 0               & ⋯               & 0               & 0               & 0               & 0               & 0               & 0               & 0               & 0               & 0               & 0              \\\\\n",
       "\t TCGA-PE-A5DD-01 & 1.4333333       & 0               & 0               & 0               & 0               & 0               & 0               & 0               & 0               & ⋯               & 0               & 0               & 0               & 0               & 0               & 0               & 0               & 0               & 0               & 0              \\\\\n",
       "\t TCGA-PE-A5DE-01 & 9.0666667       & 0               & 0               & 0               & 0               & 0               & 0               & 0               & 0               & ⋯               & 0               & 0               & 0               & 0               & 0               & 0               & 0               & 0               & 0               & 0              \\\\\n",
       "\\end{tabular}\n",
       "\n",
       "\\item \\begin{tabular}{r|llllllllllllllllllllllllllllllllllllllllllllllllllllllllllllllllllllllllllllllllllllllllllllllllllllllllllllllllllllllllllllllllllllllllllllllllllllllllllllllllllllllllllllllllllllllllllllllllllllllllllllllllllllllllllllllllllllllllllllllllllllllllllllllllllllllllllllllllllllllllllllllllllllllllllllllllllllllllllllllllllllllllllllllllllllllllllllllllllllllllllllllllllllllllllllllllllllllllllllllllllllllllllllllllllllllllllllllllllllllllllllllllllllllllllllllllllllllllllllllllllllllllllllllllllllllllllllllllllllllllllllllllllllllllllllllllllllllllllllllllllllllllllllllllllllllllllllllllllllllllllllllllllllllllllllllllllllllllllllllllllllllllllllllllllllllllllllllllllllllllllllllllllllllllllllllllllllllllllllllllllllllllllllllllllllllllllllllllllllllllllllllllllllllllllllllllllllllllllllllllllllllllllllllllllllllllllllllllllllllllllllllllllllllllllllllllllllllllllllllllllllllllllllllllllllllllllllllllllllllllllllllllllllllllllllllllllllllllllllllllllllllllllllllllllllllllllllllllllllllllll}\n",
       " Tumor\\_Sample\\_Barcode & TMB & Window\\_1 & Window\\_2 & Window\\_3 & Window\\_4 & Window\\_5 & Window\\_6 & Window\\_7 & Window\\_8 & ⋯ & Window\\_991 & Window\\_992 & Window\\_993 & Window\\_994 & Window\\_995 & Window\\_996 & Window\\_997 & Window\\_998 & Window\\_999 & Window\\_1000\\\\\n",
       "\\hline\n",
       "\t TCGA-A1-A0SB-01 & 0.5333333       & 0               & 0               & 0               & 0               & 0               & 0               & 0               & 0               & ⋯               & 0               & 0               & 0               & 0               & 0               & 0               & 0               & 0               & 0               & 0              \\\\\n",
       "\t TCGA-A1-A0SD-01 & 0.8000000       & 0               & 0               & 0               & 0               & 0               & 0               & 0               & 0               & ⋯               & 0               & 0               & 0               & 0               & 0               & 0               & 0               & 0               & 0               & 0              \\\\\n",
       "\t TCGA-A1-A0SE-01 & 0.6000000       & 0               & 0               & 0               & 0               & 0               & 0               & 0               & 0               & ⋯               & 0               & 0               & 0               & 0               & 0               & 0               & 0               & 0               & 0               & 0              \\\\\n",
       "\t TCGA-A1-A0SF-01 & 1.1000000       & 0               & 0               & 0               & 0               & 0               & 0               & 0               & 0               & ⋯               & 0               & 0               & 0               & 0               & 0               & 0               & 0               & 0               & 0               & 0              \\\\\n",
       "\t TCGA-A1-A0SG-01 & 0.8666667       & 0               & 0               & 0               & 0               & 0               & 0               & 0               & 0               & ⋯               & 0               & 0               & 0               & 0               & 0               & 0               & 0               & 0               & 0               & 0              \\\\\n",
       "\t TCGA-A1-A0SH-01 & 2.4000000       & 0               & 0               & 0               & 0               & 0               & 0               & 0               & 0               & ⋯               & 0               & 0               & 0               & 0               & 0               & 0               & 0               & 0               & 0               & 0              \\\\\n",
       "\t TCGA-A1-A0SI-01 & 4.5333333       & 0               & 0               & 0               & 0               & 0               & 0               & 0               & 0               & ⋯               & 0               & 0               & 0               & 0               & 0               & 0               & 0               & 0               & 0               & 0              \\\\\n",
       "\t TCGA-A1-A0SJ-01 & 0.8333333       & 0               & 0               & 0               & 0               & 0               & 0               & 0               & 0               & ⋯               & 0               & 0               & 0               & 0               & 0               & 0               & 0               & 0               & 0               & 0              \\\\\n",
       "\t TCGA-A1-A0SK-01 & 2.9666667       & 0               & 0               & 0               & 0               & 0               & 0               & 0               & 0               & ⋯               & 0               & 0               & 0               & 0               & 0               & 0               & 0               & 0               & 0               & 0              \\\\\n",
       "\t TCGA-A1-A0SM-01 & 0.7000000       & 0               & 0               & 0               & 0               & 0               & 0               & 0               & 0               & ⋯               & 0               & 0               & 0               & 0               & 0               & 0               & 0               & 0               & 0               & 0              \\\\\n",
       "\t TCGA-A1-A0SN-01 & 1.2666667       & 0               & 0               & 0               & 0               & 0               & 0               & 0               & 0               & ⋯               & 0               & 0               & 0               & 0               & 0               & 0               & 0               & 0               & 0               & 0              \\\\\n",
       "\t TCGA-A1-A0SP-01 & 1.1333333       & 0               & 0               & 0               & 0               & 0               & 0               & 0               & 0               & ⋯               & 0               & 0               & 0               & 0               & 0               & 0               & 0               & 0               & 0               & 0              \\\\\n",
       "\t TCGA-A1-A0SQ-01 & 0.6333333       & 0               & 0               & 0               & 0               & 0               & 0               & 0               & 0               & ⋯               & 0               & 0               & 0               & 0               & 0               & 0               & 0               & 0               & 0               & 0              \\\\\n",
       "\t TCGA-A2-A04N-01 & 1.0666667       & 0               & 0               & 0               & 0               & 0               & 0               & 0               & 0               & ⋯               & 0               & 0               & 0               & 0               & 0               & 0               & 0               & 0               & 0               & 0              \\\\\n",
       "\t TCGA-A2-A04P-01 & 2.8666667       & 0               & 0               & 0               & 0               & 0               & 0               & 0               & 0               & ⋯               & 0               & 0               & 0               & 0               & 0               & 0               & 0               & 0               & 0               & 0              \\\\\n",
       "\t TCGA-A2-A04Q-01 & 0.2666667       & 0               & 0               & 0               & 0               & 0               & 0               & 0               & 0               & ⋯               & 0               & 0               & 0               & 0               & 0               & 0               & 0               & 0               & 0               & 0              \\\\\n",
       "\t TCGA-A2-A04R-01 & 2.1000000       & 0               & 0               & 0               & 0               & 0               & 0               & 0               & 0               & ⋯               & 0               & 0               & 0               & 0               & 0               & 0               & 0               & 0               & 0               & 0              \\\\\n",
       "\t TCGA-A2-A04T-01 & 2.1666667       & 0               & 0               & 0               & 0               & 0               & 0               & 0               & 0               & ⋯               & 0               & 0               & 0               & 0               & 0               & 0               & 0               & 0               & 0               & 0              \\\\\n",
       "\t TCGA-A2-A04U-01 & 1.5666667       & 0               & 0               & 0               & 0               & 0               & 0               & 0               & 0               & ⋯               & 0               & 0               & 0               & 0               & 0               & 0               & 0               & 0               & 0               & 0              \\\\\n",
       "\t TCGA-A2-A04V-01 & 0.8333333       & 0               & 0               & 0               & 0               & 0               & 0               & 0               & 0               & ⋯               & 0               & 0               & 0               & 0               & 0               & 0               & 0               & 0               & 0               & 0              \\\\\n",
       "\t TCGA-A2-A04W-01 & 2.6666667       & 0               & 0               & 0               & 0               & 0               & 0               & 0               & 0               & ⋯               & 0               & 0               & 0               & 0               & 0               & 0               & 0               & 0               & 0               & 0              \\\\\n",
       "\t TCGA-A2-A04X-01 & 0.6333333       & 0               & 0               & 0               & 0               & 0               & 0               & 0               & 0               & ⋯               & 0               & 0               & 0               & 0               & 0               & 0               & 0               & 0               & 0               & 0              \\\\\n",
       "\t TCGA-A2-A04Y-01 & 1.5333333       & 0               & 0               & 0               & 0               & 0               & 0               & 0               & 0               & ⋯               & 0               & 0               & 0               & 0               & 0               & 0               & 0               & 0               & 0               & 0              \\\\\n",
       "\t TCGA-A2-A0CK-01 & 0.3666667       & 0               & 0               & 0               & 0               & 0               & 0               & 0               & 0               & ⋯               & 0               & 0               & 0               & 0               & 0               & 0               & 0               & 0               & 0               & 0              \\\\\n",
       "\t TCGA-A2-A0CL-01 & 0.5333333       & 0               & 0               & 0               & 0               & 0               & 0               & 0               & 0               & ⋯               & 0               & 0               & 0               & 0               & 0               & 0               & 0               & 0               & 0               & 0              \\\\\n",
       "\t TCGA-A2-A0CM-01 & 1.4333333       & 0               & 0               & 0               & 0               & 0               & 0               & 0               & 0               & ⋯               & 0               & 0               & 0               & 0               & 0               & 0               & 0               & 0               & 0               & 0              \\\\\n",
       "\t TCGA-A2-A0CO-01 & 0.6000000       & 0               & 0               & 0               & 0               & 0               & 0               & 0               & 0               & ⋯               & 0               & 0               & 0               & 0               & 0               & 0               & 0               & 0               & 0               & 0              \\\\\n",
       "\t TCGA-A2-A0CP-01 & 2.5000000       & 0               & 0               & 0               & 0               & 0               & 0               & 0               & 0               & ⋯               & 0               & 0               & 0               & 0               & 0               & 0               & 0               & 0               & 0               & 0              \\\\\n",
       "\t TCGA-A2-A0CQ-01 & 0.9000000       & 0               & 0               & 0               & 0               & 0               & 0               & 0               & 0               & ⋯               & 0               & 0               & 0               & 0               & 0               & 0               & 0               & 0               & 0               & 0              \\\\\n",
       "\t TCGA-A2-A0CR-01 & 3.0000000       & 0               & 0               & 0               & 0               & 0               & 0               & 0               & 0               & ⋯               & 0               & 0               & 0               & 0               & 0               & 0               & 0               & 0               & 0               & 0              \\\\\n",
       "\t ⋮ & ⋮ & ⋮ & ⋮ & ⋮ & ⋮ & ⋮ & ⋮ & ⋮ & ⋮ & ⋱ & ⋮ & ⋮ & ⋮ & ⋮ & ⋮ & ⋮ & ⋮ & ⋮ & ⋮ & ⋮\\\\\n",
       "\t TCGA-JL-A3YX-01 & 0.9000000       & 0               & 0               & 0               & 0               & 0               & 0               & 0               & 0               & ⋯               & 0               & 0               & 0               & 0               & 0               & 0               & 0               & 0               & 0               & 0              \\\\\n",
       "\t TCGA-LL-A440-01 & 0.2000000       & 0               & 0               & 0               & 0               & 0               & 0               & 0               & 0               & ⋯               & 0               & 0               & 0               & 0               & 0               & 0               & 0               & 0               & 0               & 0              \\\\\n",
       "\t TCGA-LL-A441-01 & 1.4333333       & 0               & 0               & 0               & 0               & 0               & 0               & 0               & 0               & ⋯               & 0               & 0               & 0               & 0               & 0               & 0               & 0               & 0               & 0               & 0              \\\\\n",
       "\t TCGA-LL-A50Y-01 & 0.8333333       & 0               & 0               & 0               & 0               & 0               & 0               & 0               & 0               & ⋯               & 0               & 0               & 0               & 0               & 0               & 0               & 0               & 0               & 0               & 0              \\\\\n",
       "\t TCGA-LL-A5YL-01 & 1.7666667       & 0               & 0               & 0               & 0               & 0               & 0               & 0               & 0               & ⋯               & 0               & 0               & 0               & 0               & 0               & 0               & 0               & 0               & 0               & 0              \\\\\n",
       "\t TCGA-LL-A5YM-01 & 0.6333333       & 0               & 0               & 0               & 0               & 0               & 0               & 0               & 0               & ⋯               & 0               & 0               & 0               & 0               & 0               & 0               & 0               & 0               & 0               & 0              \\\\\n",
       "\t TCGA-LL-A5YN-01 & 0.7666667       & 0               & 0               & 0               & 0               & 0               & 0               & 0               & 0               & ⋯               & 0               & 0               & 0               & 0               & 0               & 0               & 0               & 0               & 0               & 0              \\\\\n",
       "\t TCGA-LL-A5YO-01 & 0.9333333       & 0               & 0               & 0               & 0               & 0               & 0               & 0               & 0               & ⋯               & 0               & 0               & 0               & 0               & 0               & 0               & 0               & 0               & 0               & 0              \\\\\n",
       "\t TCGA-LL-A5YP-01 & 2.1333333       & 0               & 0               & 0               & 0               & 0               & 0               & 0               & 0               & ⋯               & 0               & 0               & 0               & 0               & 0               & 0               & 0               & 0               & 0               & 0              \\\\\n",
       "\t TCGA-LQ-A4E4-01 & 2.1333333       & 0               & 0               & 0               & 0               & 0               & 0               & 0               & 0               & ⋯               & 0               & 0               & 0               & 0               & 0               & 0               & 0               & 0               & 0               & 0              \\\\\n",
       "\t TCGA-MS-A51U-01 & 0.3666667       & 0               & 0               & 0               & 0               & 0               & 0               & 0               & 0               & ⋯               & 0               & 0               & 0               & 0               & 0               & 0               & 0               & 0               & 0               & 0              \\\\\n",
       "\t TCGA-OK-A5Q2-01 & 0.7333333       & 0               & 0               & 0               & 0               & 0               & 0               & 0               & 0               & ⋯               & 0               & 0               & 0               & 0               & 0               & 0               & 0               & 0               & 0               & 0              \\\\\n",
       "\t TCGA-OL-A5D6-01 & 0.9666667       & 0               & 0               & 0               & 0               & 0               & 0               & 0               & 0               & ⋯               & 0               & 0               & 0               & 0               & 0               & 0               & 0               & 0               & 0               & 0              \\\\\n",
       "\t TCGA-OL-A5D7-01 & 1.2666667       & 0               & 0               & 0               & 0               & 0               & 0               & 0               & 0               & ⋯               & 0               & 0               & 0               & 0               & 0               & 0               & 0               & 0               & 0               & 0              \\\\\n",
       "\t TCGA-OL-A5D8-01 & 0.7666667       & 0               & 0               & 0               & 0               & 0               & 0               & 0               & 0               & ⋯               & 0               & 0               & 0               & 0               & 0               & 0               & 0               & 0               & 0               & 0              \\\\\n",
       "\t TCGA-OL-A5DA-01 & 1.4000000       & 0               & 0               & 0               & 0               & 0               & 0               & 0               & 0               & ⋯               & 0               & 0               & 0               & 0               & 0               & 0               & 0               & 0               & 0               & 0              \\\\\n",
       "\t TCGA-OL-A5RU-01 & 0.7333333       & 0               & 0               & 0               & 0               & 0               & 0               & 0               & 0               & ⋯               & 0               & 0               & 0               & 0               & 0               & 0               & 0               & 0               & 0               & 0              \\\\\n",
       "\t TCGA-OL-A5RV-01 & 0.4000000       & 0               & 0               & 0               & 0               & 0               & 0               & 0               & 0               & ⋯               & 0               & 0               & 0               & 0               & 0               & 0               & 0               & 0               & 0               & 0              \\\\\n",
       "\t TCGA-OL-A5RW-01 & 4.0666667       & 0               & 0               & 0               & 0               & 0               & 0               & 0               & 0               & ⋯               & 0               & 0               & 0               & 0               & 0               & 0               & 0               & 0               & 0               & 0              \\\\\n",
       "\t TCGA-OL-A5RX-01 & 0.6666667       & 0               & 0               & 0               & 0               & 0               & 0               & 0               & 0               & ⋯               & 0               & 0               & 0               & 0               & 0               & 0               & 0               & 0               & 0               & 0              \\\\\n",
       "\t TCGA-OL-A5RY-01 & 0.2666667       & 0               & 0               & 0               & 0               & 0               & 0               & 0               & 0               & ⋯               & 0               & 0               & 0               & 0               & 0               & 0               & 0               & 0               & 0               & 0              \\\\\n",
       "\t TCGA-OL-A5RZ-01 & 2.6333333       & 0               & 0               & 0               & 0               & 0               & 0               & 0               & 0               & ⋯               & 0               & 0               & 0               & 0               & 0               & 0               & 0               & 0               & 0               & 0              \\\\\n",
       "\t TCGA-OL-A5S0-01 & 1.0000000       & 0               & 0               & 0               & 0               & 0               & 0               & 0               & 0               & ⋯               & 0               & 0               & 0               & 0               & 0               & 0               & 0               & 0               & 0               & 0              \\\\\n",
       "\t TCGA-OL-A66H-01 & 0.6333333       & 0               & 0               & 0               & 0               & 0               & 0               & 0               & 0               & ⋯               & 0               & 0               & 0               & 0               & 0               & 0               & 0               & 0               & 0               & 0              \\\\\n",
       "\t TCGA-OL-A66I-01 & 0.8000000       & 0               & 0               & 0               & 0               & 0               & 0               & 0               & 0               & ⋯               & 0               & 0               & 0               & 0               & 0               & 0               & 0               & 0               & 0               & 0              \\\\\n",
       "\t TCGA-OL-A66J-01 & 1.5000000       & 0               & 0               & 0               & 0               & 0               & 0               & 0               & 0               & ⋯               & 0               & 0               & 0               & 0               & 0               & 0               & 0               & 0               & 0               & 0              \\\\\n",
       "\t TCGA-OL-A66K-01 & 0.6333333       & 0               & 0               & 0               & 0               & 0               & 0               & 0               & 0               & ⋯               & 0               & 0               & 0               & 0               & 0               & 0               & 0               & 0               & 0               & 0              \\\\\n",
       "\t TCGA-PE-A5DC-01 & 2.6333333       & 0               & 0               & 0               & 0               & 0               & 0               & 0               & 0               & ⋯               & 0               & 0               & 0               & 0               & 0               & 0               & 0               & 0               & 0               & 0              \\\\\n",
       "\t TCGA-PE-A5DD-01 & 1.4333333       & 0               & 0               & 0               & 0               & 0               & 0               & 0               & 0               & ⋯               & 0               & 0               & 0               & 0               & 0               & 0               & 0               & 0               & 0               & 0              \\\\\n",
       "\t TCGA-PE-A5DE-01 & 9.0666667       & 0               & 0               & 0               & 0               & 0               & 0               & 0               & 0               & ⋯               & 0               & 0               & 0               & 0               & 0               & 0               & 0               & 0               & 0               & 0              \\\\\n",
       "\\end{tabular}\n",
       "\n",
       "\\end{enumerate}\n"
      ],
      "text/markdown": [
       "1. \n",
       "Tumor_Sample_Barcode | TMB | Window_1 | \n",
       "|---|---|---|---|---|---|---|---|---|---|---|---|---|---|---|---|---|---|---|---|---|---|---|---|---|---|---|---|---|---|---|---|---|---|---|---|---|---|---|---|---|---|---|---|---|---|---|---|---|---|---|---|---|---|---|---|---|---|---|---|---|\n",
       "| TCGA-A1-A0SB-01 | 0.5333333       | 0               | \n",
       "| TCGA-A1-A0SD-01 | 0.8000000       | 0               | \n",
       "| TCGA-A1-A0SE-01 | 0.6000000       | 0               | \n",
       "| TCGA-A1-A0SF-01 | 1.1000000       | 0               | \n",
       "| TCGA-A1-A0SG-01 | 0.8666667       | 0               | \n",
       "| TCGA-A1-A0SH-01 | 2.4000000       | 0               | \n",
       "| TCGA-A1-A0SI-01 | 4.5333333       | 0               | \n",
       "| TCGA-A1-A0SJ-01 | 0.8333333       | 0               | \n",
       "| TCGA-A1-A0SK-01 | 2.9666667       | 0               | \n",
       "| TCGA-A1-A0SM-01 | 0.7000000       | 0               | \n",
       "| TCGA-A1-A0SN-01 | 1.2666667       | 0               | \n",
       "| TCGA-A1-A0SP-01 | 1.1333333       | 0               | \n",
       "| TCGA-A1-A0SQ-01 | 0.6333333       | 0               | \n",
       "| TCGA-A2-A04N-01 | 1.0666667       | 0               | \n",
       "| TCGA-A2-A04P-01 | 2.8666667       | 0               | \n",
       "| TCGA-A2-A04Q-01 | 0.2666667       | 0               | \n",
       "| TCGA-A2-A04R-01 | 2.1000000       | 0               | \n",
       "| TCGA-A2-A04T-01 | 2.1666667       | 0               | \n",
       "| TCGA-A2-A04U-01 | 1.5666667       | 0               | \n",
       "| TCGA-A2-A04V-01 | 0.8333333       | 0               | \n",
       "| TCGA-A2-A04W-01 | 2.6666667       | 1               | \n",
       "| TCGA-A2-A04X-01 | 0.6333333       | 0               | \n",
       "| TCGA-A2-A04Y-01 | 1.5333333       | 0               | \n",
       "| TCGA-A2-A0CK-01 | 0.3666667       | 0               | \n",
       "| TCGA-A2-A0CL-01 | 0.5333333       | 0               | \n",
       "| TCGA-A2-A0CM-01 | 1.4333333       | 0               | \n",
       "| TCGA-A2-A0CO-01 | 0.6000000       | 0               | \n",
       "| TCGA-A2-A0CP-01 | 2.5000000       | 0               | \n",
       "| TCGA-A2-A0CQ-01 | 0.9000000       | 0               | \n",
       "| TCGA-A2-A0CR-01 | 3.0000000       | 0               | \n",
       "| ⋮ | ⋮ | ⋮ | \n",
       "| TCGA-JL-A3YX-01 | 0.9000000       | 0               | \n",
       "| TCGA-LL-A440-01 | 0.2000000       | 0               | \n",
       "| TCGA-LL-A441-01 | 1.4333333       | 0               | \n",
       "| TCGA-LL-A50Y-01 | 0.8333333       | 0               | \n",
       "| TCGA-LL-A5YL-01 | 1.7666667       | 0               | \n",
       "| TCGA-LL-A5YM-01 | 0.6333333       | 0               | \n",
       "| TCGA-LL-A5YN-01 | 0.7666667       | 0               | \n",
       "| TCGA-LL-A5YO-01 | 0.9333333       | 0               | \n",
       "| TCGA-LL-A5YP-01 | 2.1333333       | 0               | \n",
       "| TCGA-LQ-A4E4-01 | 2.1333333       | 0               | \n",
       "| TCGA-MS-A51U-01 | 0.3666667       | 0               | \n",
       "| TCGA-OK-A5Q2-01 | 0.7333333       | 0               | \n",
       "| TCGA-OL-A5D6-01 | 0.9666667       | 0               | \n",
       "| TCGA-OL-A5D7-01 | 1.2666667       | 0               | \n",
       "| TCGA-OL-A5D8-01 | 0.7666667       | 0               | \n",
       "| TCGA-OL-A5DA-01 | 1.4000000       | 0               | \n",
       "| TCGA-OL-A5RU-01 | 0.7333333       | 0               | \n",
       "| TCGA-OL-A5RV-01 | 0.4000000       | 0               | \n",
       "| TCGA-OL-A5RW-01 | 4.0666667       | 0               | \n",
       "| TCGA-OL-A5RX-01 | 0.6666667       | 0               | \n",
       "| TCGA-OL-A5RY-01 | 0.2666667       | 0               | \n",
       "| TCGA-OL-A5RZ-01 | 2.6333333       | 0               | \n",
       "| TCGA-OL-A5S0-01 | 1.0000000       | 0               | \n",
       "| TCGA-OL-A66H-01 | 0.6333333       | 0               | \n",
       "| TCGA-OL-A66I-01 | 0.8000000       | 0               | \n",
       "| TCGA-OL-A66J-01 | 1.5000000       | 0               | \n",
       "| TCGA-OL-A66K-01 | 0.6333333       | 0               | \n",
       "| TCGA-PE-A5DC-01 | 2.6333333       | 0               | \n",
       "| TCGA-PE-A5DD-01 | 1.4333333       | 0               | \n",
       "| TCGA-PE-A5DE-01 | 9.0666667       | 0               | \n",
       "\n",
       "\n",
       "\n",
       "2. \n",
       "Tumor_Sample_Barcode | TMB | Window_1 | Window_2 | Window_3 | Window_4 | Window_5 | Window_6 | Window_7 | Window_8 | Window_9 | Window_10 | \n",
       "|---|---|---|---|---|---|---|---|---|---|---|---|---|---|---|---|---|---|---|---|---|---|---|---|---|---|---|---|---|---|---|---|---|---|---|---|---|---|---|---|---|---|---|---|---|---|---|---|---|---|---|---|---|---|---|---|---|---|---|---|---|\n",
       "| TCGA-A1-A0SB-01 | 0.5333333       | 0               | 0               | 0               | 0               | 0               | 0               | 0               | 0               | 0               | 0               | \n",
       "| TCGA-A1-A0SD-01 | 0.8000000       | 0               | 0               | 0               | 0               | 0               | 0               | 0               | 0               | 0               | 1               | \n",
       "| TCGA-A1-A0SE-01 | 0.6000000       | 0               | 0               | 0               | 0               | 0               | 0               | 0               | 0               | 0               | 0               | \n",
       "| TCGA-A1-A0SF-01 | 1.1000000       | 0               | 0               | 0               | 0               | 0               | 0               | 0               | 0               | 0               | 0               | \n",
       "| TCGA-A1-A0SG-01 | 0.8666667       | 0               | 0               | 0               | 0               | 0               | 0               | 0               | 0               | 0               | 0               | \n",
       "| TCGA-A1-A0SH-01 | 2.4000000       | 0               | 0               | 0               | 0               | 0               | 0               | 0               | 0               | 0               | 0               | \n",
       "| TCGA-A1-A0SI-01 | 4.5333333       | 0               | 0               | 0               | 0               | 0               | 0               | 0               | 0               | 0               | 0               | \n",
       "| TCGA-A1-A0SJ-01 | 0.8333333       | 0               | 0               | 0               | 0               | 0               | 0               | 0               | 0               | 0               | 0               | \n",
       "| TCGA-A1-A0SK-01 | 2.9666667       | 0               | 0               | 0               | 0               | 0               | 0               | 0               | 0               | 0               | 0               | \n",
       "| TCGA-A1-A0SM-01 | 0.7000000       | 0               | 0               | 0               | 0               | 0               | 0               | 0               | 0               | 0               | 0               | \n",
       "| TCGA-A1-A0SN-01 | 1.2666667       | 0               | 0               | 0               | 0               | 0               | 0               | 0               | 0               | 0               | 0               | \n",
       "| TCGA-A1-A0SP-01 | 1.1333333       | 0               | 0               | 0               | 0               | 0               | 0               | 0               | 0               | 0               | 0               | \n",
       "| TCGA-A1-A0SQ-01 | 0.6333333       | 0               | 0               | 0               | 0               | 0               | 0               | 0               | 0               | 0               | 0               | \n",
       "| TCGA-A2-A04N-01 | 1.0666667       | 0               | 0               | 0               | 0               | 0               | 0               | 0               | 0               | 0               | 0               | \n",
       "| TCGA-A2-A04P-01 | 2.8666667       | 0               | 0               | 0               | 0               | 0               | 0               | 0               | 0               | 0               | 1               | \n",
       "| TCGA-A2-A04Q-01 | 0.2666667       | 0               | 0               | 0               | 0               | 0               | 0               | 0               | 0               | 0               | 0               | \n",
       "| TCGA-A2-A04R-01 | 2.1000000       | 0               | 0               | 0               | 0               | 0               | 0               | 0               | 0               | 0               | 0               | \n",
       "| TCGA-A2-A04T-01 | 2.1666667       | 0               | 0               | 0               | 0               | 0               | 0               | 0               | 0               | 0               | 0               | \n",
       "| TCGA-A2-A04U-01 | 1.5666667       | 0               | 0               | 0               | 0               | 0               | 0               | 0               | 0               | 0               | 0               | \n",
       "| TCGA-A2-A04V-01 | 0.8333333       | 0               | 0               | 0               | 0               | 0               | 0               | 0               | 0               | 0               | 0               | \n",
       "| TCGA-A2-A04W-01 | 2.6666667       | 0               | 0               | 0               | 0               | 0               | 0               | 0               | 0               | 0               | 1               | \n",
       "| TCGA-A2-A04X-01 | 0.6333333       | 0               | 0               | 0               | 0               | 0               | 0               | 0               | 0               | 0               | 0               | \n",
       "| TCGA-A2-A04Y-01 | 1.5333333       | 0               | 0               | 0               | 0               | 0               | 0               | 0               | 0               | 0               | 0               | \n",
       "| TCGA-A2-A0CK-01 | 0.3666667       | 0               | 0               | 0               | 0               | 0               | 0               | 0               | 0               | 0               | 0               | \n",
       "| TCGA-A2-A0CL-01 | 0.5333333       | 0               | 0               | 0               | 0               | 0               | 0               | 0               | 0               | 0               | 0               | \n",
       "| TCGA-A2-A0CM-01 | 1.4333333       | 0               | 0               | 0               | 0               | 0               | 0               | 0               | 0               | 0               | 0               | \n",
       "| TCGA-A2-A0CO-01 | 0.6000000       | 0               | 0               | 0               | 0               | 0               | 0               | 0               | 0               | 0               | 0               | \n",
       "| TCGA-A2-A0CP-01 | 2.5000000       | 0               | 0               | 0               | 0               | 0               | 0               | 0               | 0               | 0               | 0               | \n",
       "| TCGA-A2-A0CQ-01 | 0.9000000       | 0               | 0               | 0               | 0               | 0               | 0               | 0               | 0               | 0               | 0               | \n",
       "| TCGA-A2-A0CR-01 | 3.0000000       | 0               | 0               | 0               | 0               | 0               | 0               | 0               | 0               | 0               | 0               | \n",
       "| ⋮ | ⋮ | ⋮ | ⋮ | ⋮ | ⋮ | ⋮ | ⋮ | ⋮ | ⋮ | ⋮ | ⋮ | \n",
       "| TCGA-JL-A3YX-01 | 0.9000000       | 0               | 0               | 0               | 0               | 0               | 0               | 0               | 0               | 0               | 0               | \n",
       "| TCGA-LL-A440-01 | 0.2000000       | 0               | 0               | 0               | 0               | 0               | 0               | 0               | 0               | 0               | 0               | \n",
       "| TCGA-LL-A441-01 | 1.4333333       | 1               | 0               | 0               | 0               | 0               | 0               | 0               | 0               | 0               | 0               | \n",
       "| TCGA-LL-A50Y-01 | 0.8333333       | 0               | 0               | 0               | 0               | 0               | 0               | 0               | 0               | 0               | 0               | \n",
       "| TCGA-LL-A5YL-01 | 1.7666667       | 0               | 0               | 0               | 0               | 0               | 0               | 0               | 1               | 0               | 0               | \n",
       "| TCGA-LL-A5YM-01 | 0.6333333       | 0               | 0               | 0               | 0               | 0               | 0               | 0               | 0               | 0               | 0               | \n",
       "| TCGA-LL-A5YN-01 | 0.7666667       | 0               | 0               | 0               | 0               | 0               | 0               | 0               | 0               | 0               | 0               | \n",
       "| TCGA-LL-A5YO-01 | 0.9333333       | 0               | 0               | 0               | 0               | 0               | 0               | 0               | 0               | 0               | 0               | \n",
       "| TCGA-LL-A5YP-01 | 2.1333333       | 0               | 0               | 0               | 0               | 0               | 0               | 0               | 0               | 0               | 0               | \n",
       "| TCGA-LQ-A4E4-01 | 2.1333333       | 0               | 0               | 0               | 0               | 0               | 0               | 0               | 0               | 0               | 0               | \n",
       "| TCGA-MS-A51U-01 | 0.3666667       | 0               | 0               | 0               | 0               | 0               | 0               | 0               | 0               | 0               | 0               | \n",
       "| TCGA-OK-A5Q2-01 | 0.7333333       | 0               | 0               | 0               | 0               | 0               | 0               | 0               | 0               | 0               | 0               | \n",
       "| TCGA-OL-A5D6-01 | 0.9666667       | 0               | 0               | 0               | 0               | 0               | 0               | 0               | 0               | 0               | 1               | \n",
       "| TCGA-OL-A5D7-01 | 1.2666667       | 0               | 0               | 0               | 0               | 0               | 0               | 0               | 0               | 0               | 0               | \n",
       "| TCGA-OL-A5D8-01 | 0.7666667       | 0               | 0               | 0               | 0               | 0               | 0               | 0               | 0               | 0               | 0               | \n",
       "| TCGA-OL-A5DA-01 | 1.4000000       | 0               | 0               | 0               | 0               | 0               | 0               | 0               | 0               | 0               | 0               | \n",
       "| TCGA-OL-A5RU-01 | 0.7333333       | 0               | 0               | 0               | 0               | 0               | 0               | 0               | 0               | 0               | 0               | \n",
       "| TCGA-OL-A5RV-01 | 0.4000000       | 0               | 0               | 0               | 0               | 0               | 0               | 0               | 0               | 0               | 0               | \n",
       "| TCGA-OL-A5RW-01 | 4.0666667       | 0               | 0               | 0               | 0               | 0               | 0               | 0               | 0               | 0               | 0               | \n",
       "| TCGA-OL-A5RX-01 | 0.6666667       | 0               | 0               | 0               | 0               | 0               | 0               | 0               | 0               | 0               | 0               | \n",
       "| TCGA-OL-A5RY-01 | 0.2666667       | 0               | 0               | 0               | 0               | 0               | 0               | 0               | 0               | 0               | 0               | \n",
       "| TCGA-OL-A5RZ-01 | 2.6333333       | 0               | 0               | 0               | 0               | 0               | 0               | 0               | 0               | 1               | 0               | \n",
       "| TCGA-OL-A5S0-01 | 1.0000000       | 0               | 0               | 0               | 0               | 0               | 0               | 0               | 0               | 0               | 0               | \n",
       "| TCGA-OL-A66H-01 | 0.6333333       | 0               | 0               | 0               | 0               | 0               | 0               | 0               | 0               | 0               | 0               | \n",
       "| TCGA-OL-A66I-01 | 0.8000000       | 0               | 0               | 0               | 0               | 0               | 0               | 0               | 0               | 0               | 1               | \n",
       "| TCGA-OL-A66J-01 | 1.5000000       | 0               | 0               | 0               | 0               | 0               | 0               | 0               | 0               | 0               | 0               | \n",
       "| TCGA-OL-A66K-01 | 0.6333333       | 0               | 0               | 0               | 0               | 0               | 0               | 0               | 0               | 0               | 0               | \n",
       "| TCGA-PE-A5DC-01 | 2.6333333       | 0               | 0               | 0               | 0               | 0               | 0               | 0               | 0               | 0               | 0               | \n",
       "| TCGA-PE-A5DD-01 | 1.4333333       | 0               | 0               | 0               | 0               | 0               | 0               | 0               | 0               | 0               | 0               | \n",
       "| TCGA-PE-A5DE-01 | 9.0666667       | 0               | 0               | 0               | 0               | 0               | 0               | 0               | 0               | 0               | 0               | \n",
       "\n",
       "\n",
       "\n",
       "3. \n",
       "Tumor_Sample_Barcode | TMB | Window_1 | Window_2 | Window_3 | Window_4 | Window_5 | Window_6 | Window_7 | Window_8 | ⋯ | Window_91 | Window_92 | Window_93 | Window_94 | Window_95 | Window_96 | Window_97 | Window_98 | Window_99 | Window_100 | \n",
       "|---|---|---|---|---|---|---|---|---|---|---|---|---|---|---|---|---|---|---|---|---|---|---|---|---|---|---|---|---|---|---|---|---|---|---|---|---|---|---|---|---|---|---|---|---|---|---|---|---|---|---|---|---|---|---|---|---|---|---|---|---|\n",
       "| TCGA-A1-A0SB-01 | 0.5333333       | 0               | 0               | 0               | 0               | 0               | 0               | 0               | 0               | ⋯               | 0               | 0               | 0               | 0               | 0               | 0               | 0               | 0               | 0               | 0               | \n",
       "| TCGA-A1-A0SD-01 | 0.8000000       | 0               | 0               | 0               | 0               | 0               | 0               | 0               | 0               | ⋯               | 0               | 0               | 0               | 0               | 0               | 0               | 0               | 0               | 0               | 0               | \n",
       "| TCGA-A1-A0SE-01 | 0.6000000       | 0               | 0               | 0               | 0               | 0               | 0               | 0               | 0               | ⋯               | 0               | 0               | 0               | 0               | 0               | 0               | 0               | 0               | 0               | 0               | \n",
       "| TCGA-A1-A0SF-01 | 1.1000000       | 0               | 0               | 0               | 0               | 0               | 0               | 0               | 0               | ⋯               | 0               | 0               | 0               | 0               | 0               | 0               | 0               | 0               | 0               | 0               | \n",
       "| TCGA-A1-A0SG-01 | 0.8666667       | 0               | 0               | 0               | 0               | 0               | 0               | 0               | 0               | ⋯               | 0               | 0               | 0               | 0               | 0               | 0               | 0               | 0               | 0               | 0               | \n",
       "| TCGA-A1-A0SH-01 | 2.4000000       | 0               | 0               | 0               | 0               | 0               | 0               | 0               | 0               | ⋯               | 0               | 0               | 0               | 0               | 0               | 0               | 0               | 0               | 0               | 0               | \n",
       "| TCGA-A1-A0SI-01 | 4.5333333       | 0               | 0               | 0               | 0               | 0               | 0               | 0               | 0               | ⋯               | 0               | 0               | 0               | 0               | 0               | 0               | 0               | 0               | 0               | 0               | \n",
       "| TCGA-A1-A0SJ-01 | 0.8333333       | 0               | 0               | 0               | 0               | 0               | 0               | 0               | 0               | ⋯               | 0               | 0               | 0               | 0               | 0               | 0               | 0               | 0               | 0               | 0               | \n",
       "| TCGA-A1-A0SK-01 | 2.9666667       | 0               | 0               | 0               | 0               | 0               | 0               | 0               | 0               | ⋯               | 0               | 0               | 0               | 0               | 0               | 0               | 0               | 0               | 0               | 0               | \n",
       "| TCGA-A1-A0SM-01 | 0.7000000       | 0               | 0               | 0               | 0               | 0               | 0               | 0               | 0               | ⋯               | 0               | 0               | 0               | 0               | 0               | 0               | 0               | 0               | 0               | 0               | \n",
       "| TCGA-A1-A0SN-01 | 1.2666667       | 0               | 0               | 0               | 0               | 0               | 0               | 0               | 0               | ⋯               | 0               | 0               | 0               | 0               | 0               | 0               | 0               | 0               | 0               | 0               | \n",
       "| TCGA-A1-A0SP-01 | 1.1333333       | 0               | 0               | 0               | 0               | 0               | 0               | 0               | 0               | ⋯               | 0               | 0               | 0               | 0               | 0               | 0               | 0               | 0               | 0               | 0               | \n",
       "| TCGA-A1-A0SQ-01 | 0.6333333       | 0               | 0               | 0               | 0               | 0               | 0               | 0               | 0               | ⋯               | 0               | 0               | 0               | 0               | 0               | 0               | 0               | 0               | 0               | 0               | \n",
       "| TCGA-A2-A04N-01 | 1.0666667       | 0               | 0               | 0               | 0               | 0               | 0               | 0               | 0               | ⋯               | 0               | 0               | 0               | 0               | 0               | 0               | 0               | 0               | 0               | 0               | \n",
       "| TCGA-A2-A04P-01 | 2.8666667       | 0               | 0               | 0               | 0               | 0               | 0               | 0               | 0               | ⋯               | 0               | 0               | 0               | 0               | 0               | 0               | 0               | 0               | 0               | 0               | \n",
       "| TCGA-A2-A04Q-01 | 0.2666667       | 0               | 0               | 0               | 0               | 0               | 0               | 0               | 0               | ⋯               | 0               | 0               | 0               | 0               | 0               | 0               | 0               | 0               | 0               | 0               | \n",
       "| TCGA-A2-A04R-01 | 2.1000000       | 0               | 0               | 0               | 0               | 0               | 0               | 0               | 0               | ⋯               | 0               | 0               | 0               | 0               | 0               | 0               | 0               | 0               | 0               | 0               | \n",
       "| TCGA-A2-A04T-01 | 2.1666667       | 0               | 0               | 0               | 0               | 0               | 0               | 0               | 0               | ⋯               | 0               | 0               | 0               | 0               | 0               | 0               | 0               | 0               | 0               | 0               | \n",
       "| TCGA-A2-A04U-01 | 1.5666667       | 0               | 0               | 0               | 0               | 0               | 0               | 0               | 0               | ⋯               | 0               | 0               | 0               | 0               | 0               | 0               | 0               | 0               | 0               | 0               | \n",
       "| TCGA-A2-A04V-01 | 0.8333333       | 0               | 0               | 0               | 0               | 0               | 0               | 0               | 0               | ⋯               | 0               | 0               | 0               | 0               | 0               | 0               | 0               | 0               | 0               | 0               | \n",
       "| TCGA-A2-A04W-01 | 2.6666667       | 0               | 0               | 0               | 0               | 0               | 0               | 0               | 0               | ⋯               | 0               | 0               | 0               | 0               | 0               | 0               | 0               | 0               | 0               | 0               | \n",
       "| TCGA-A2-A04X-01 | 0.6333333       | 0               | 0               | 0               | 0               | 0               | 0               | 0               | 0               | ⋯               | 0               | 0               | 0               | 0               | 0               | 0               | 0               | 0               | 0               | 0               | \n",
       "| TCGA-A2-A04Y-01 | 1.5333333       | 0               | 0               | 0               | 0               | 0               | 0               | 0               | 0               | ⋯               | 0               | 0               | 0               | 0               | 0               | 0               | 0               | 0               | 0               | 0               | \n",
       "| TCGA-A2-A0CK-01 | 0.3666667       | 0               | 0               | 0               | 0               | 0               | 0               | 0               | 0               | ⋯               | 0               | 0               | 0               | 0               | 0               | 0               | 0               | 0               | 0               | 0               | \n",
       "| TCGA-A2-A0CL-01 | 0.5333333       | 0               | 0               | 0               | 0               | 0               | 0               | 0               | 0               | ⋯               | 0               | 0               | 0               | 0               | 0               | 0               | 0               | 0               | 0               | 0               | \n",
       "| TCGA-A2-A0CM-01 | 1.4333333       | 0               | 0               | 0               | 0               | 0               | 0               | 0               | 0               | ⋯               | 0               | 0               | 0               | 0               | 0               | 0               | 0               | 0               | 0               | 0               | \n",
       "| TCGA-A2-A0CO-01 | 0.6000000       | 0               | 0               | 0               | 0               | 0               | 0               | 0               | 0               | ⋯               | 0               | 0               | 0               | 0               | 0               | 0               | 0               | 0               | 0               | 0               | \n",
       "| TCGA-A2-A0CP-01 | 2.5000000       | 0               | 0               | 0               | 0               | 0               | 0               | 0               | 0               | ⋯               | 0               | 0               | 0               | 0               | 0               | 0               | 0               | 0               | 0               | 0               | \n",
       "| TCGA-A2-A0CQ-01 | 0.9000000       | 0               | 0               | 0               | 0               | 0               | 0               | 0               | 0               | ⋯               | 0               | 0               | 0               | 0               | 0               | 0               | 0               | 0               | 0               | 0               | \n",
       "| TCGA-A2-A0CR-01 | 3.0000000       | 0               | 0               | 0               | 0               | 0               | 0               | 0               | 0               | ⋯               | 0               | 0               | 0               | 0               | 0               | 0               | 0               | 0               | 0               | 0               | \n",
       "| ⋮ | ⋮ | ⋮ | ⋮ | ⋮ | ⋮ | ⋮ | ⋮ | ⋮ | ⋮ | ⋱ | ⋮ | ⋮ | ⋮ | ⋮ | ⋮ | ⋮ | ⋮ | ⋮ | ⋮ | ⋮ | \n",
       "| TCGA-JL-A3YX-01 | 0.9000000       | 0               | 0               | 0               | 0               | 0               | 0               | 0               | 0               | ⋯               | 0               | 0               | 0               | 0               | 0               | 0               | 0               | 0               | 0               | 0               | \n",
       "| TCGA-LL-A440-01 | 0.2000000       | 0               | 0               | 0               | 0               | 0               | 0               | 0               | 0               | ⋯               | 0               | 0               | 0               | 0               | 0               | 0               | 0               | 0               | 0               | 0               | \n",
       "| TCGA-LL-A441-01 | 1.4333333       | 0               | 0               | 0               | 0               | 0               | 0               | 0               | 0               | ⋯               | 0               | 0               | 0               | 0               | 0               | 0               | 0               | 0               | 0               | 0               | \n",
       "| TCGA-LL-A50Y-01 | 0.8333333       | 0               | 0               | 0               | 0               | 0               | 0               | 0               | 0               | ⋯               | 0               | 0               | 0               | 0               | 0               | 0               | 0               | 0               | 0               | 0               | \n",
       "| TCGA-LL-A5YL-01 | 1.7666667       | 0               | 0               | 0               | 0               | 0               | 0               | 0               | 0               | ⋯               | 0               | 0               | 0               | 0               | 0               | 0               | 0               | 0               | 0               | 0               | \n",
       "| TCGA-LL-A5YM-01 | 0.6333333       | 0               | 0               | 0               | 0               | 0               | 0               | 0               | 0               | ⋯               | 0               | 0               | 0               | 0               | 0               | 0               | 0               | 0               | 0               | 0               | \n",
       "| TCGA-LL-A5YN-01 | 0.7666667       | 0               | 0               | 0               | 0               | 0               | 0               | 0               | 0               | ⋯               | 0               | 0               | 0               | 0               | 0               | 0               | 0               | 0               | 0               | 0               | \n",
       "| TCGA-LL-A5YO-01 | 0.9333333       | 0               | 0               | 0               | 0               | 0               | 0               | 0               | 0               | ⋯               | 0               | 0               | 0               | 0               | 0               | 0               | 0               | 0               | 0               | 0               | \n",
       "| TCGA-LL-A5YP-01 | 2.1333333       | 0               | 0               | 0               | 0               | 0               | 0               | 0               | 0               | ⋯               | 0               | 0               | 0               | 0               | 0               | 0               | 0               | 0               | 0               | 0               | \n",
       "| TCGA-LQ-A4E4-01 | 2.1333333       | 0               | 0               | 0               | 0               | 0               | 0               | 0               | 0               | ⋯               | 0               | 0               | 0               | 0               | 0               | 0               | 0               | 0               | 0               | 0               | \n",
       "| TCGA-MS-A51U-01 | 0.3666667       | 0               | 0               | 0               | 0               | 0               | 0               | 0               | 0               | ⋯               | 0               | 0               | 0               | 0               | 0               | 0               | 0               | 0               | 0               | 0               | \n",
       "| TCGA-OK-A5Q2-01 | 0.7333333       | 0               | 0               | 0               | 0               | 0               | 0               | 0               | 0               | ⋯               | 0               | 0               | 0               | 0               | 0               | 0               | 0               | 0               | 0               | 0               | \n",
       "| TCGA-OL-A5D6-01 | 0.9666667       | 0               | 0               | 0               | 0               | 0               | 0               | 0               | 0               | ⋯               | 0               | 0               | 0               | 0               | 0               | 0               | 0               | 0               | 0               | 0               | \n",
       "| TCGA-OL-A5D7-01 | 1.2666667       | 0               | 0               | 0               | 0               | 0               | 0               | 0               | 0               | ⋯               | 0               | 0               | 0               | 0               | 0               | 0               | 0               | 0               | 0               | 0               | \n",
       "| TCGA-OL-A5D8-01 | 0.7666667       | 0               | 0               | 0               | 0               | 0               | 0               | 0               | 0               | ⋯               | 0               | 0               | 0               | 0               | 0               | 0               | 0               | 0               | 0               | 0               | \n",
       "| TCGA-OL-A5DA-01 | 1.4000000       | 0               | 0               | 0               | 0               | 0               | 0               | 0               | 0               | ⋯               | 0               | 0               | 0               | 0               | 0               | 0               | 0               | 0               | 0               | 0               | \n",
       "| TCGA-OL-A5RU-01 | 0.7333333       | 0               | 0               | 0               | 0               | 0               | 0               | 0               | 0               | ⋯               | 0               | 0               | 0               | 0               | 0               | 0               | 0               | 0               | 0               | 0               | \n",
       "| TCGA-OL-A5RV-01 | 0.4000000       | 0               | 0               | 0               | 0               | 0               | 0               | 0               | 0               | ⋯               | 0               | 0               | 0               | 0               | 0               | 0               | 0               | 0               | 0               | 0               | \n",
       "| TCGA-OL-A5RW-01 | 4.0666667       | 0               | 0               | 0               | 0               | 0               | 0               | 0               | 0               | ⋯               | 0               | 0               | 0               | 0               | 0               | 0               | 0               | 0               | 0               | 0               | \n",
       "| TCGA-OL-A5RX-01 | 0.6666667       | 0               | 0               | 0               | 0               | 0               | 0               | 0               | 0               | ⋯               | 0               | 0               | 0               | 0               | 0               | 0               | 0               | 0               | 0               | 0               | \n",
       "| TCGA-OL-A5RY-01 | 0.2666667       | 0               | 0               | 0               | 0               | 0               | 0               | 0               | 0               | ⋯               | 0               | 0               | 0               | 0               | 0               | 0               | 0               | 0               | 0               | 0               | \n",
       "| TCGA-OL-A5RZ-01 | 2.6333333       | 0               | 0               | 0               | 0               | 0               | 0               | 0               | 0               | ⋯               | 0               | 0               | 0               | 0               | 0               | 0               | 0               | 0               | 0               | 0               | \n",
       "| TCGA-OL-A5S0-01 | 1.0000000       | 0               | 0               | 0               | 0               | 0               | 0               | 0               | 0               | ⋯               | 0               | 0               | 0               | 0               | 0               | 0               | 0               | 0               | 0               | 0               | \n",
       "| TCGA-OL-A66H-01 | 0.6333333       | 0               | 0               | 0               | 0               | 0               | 0               | 0               | 0               | ⋯               | 0               | 0               | 0               | 0               | 0               | 0               | 0               | 0               | 0               | 0               | \n",
       "| TCGA-OL-A66I-01 | 0.8000000       | 0               | 0               | 0               | 0               | 0               | 0               | 0               | 0               | ⋯               | 0               | 0               | 0               | 0               | 0               | 0               | 0               | 0               | 0               | 0               | \n",
       "| TCGA-OL-A66J-01 | 1.5000000       | 0               | 0               | 0               | 0               | 0               | 0               | 0               | 0               | ⋯               | 0               | 0               | 0               | 0               | 0               | 0               | 0               | 0               | 0               | 0               | \n",
       "| TCGA-OL-A66K-01 | 0.6333333       | 0               | 0               | 0               | 0               | 0               | 0               | 0               | 0               | ⋯               | 0               | 0               | 0               | 0               | 0               | 0               | 0               | 0               | 0               | 0               | \n",
       "| TCGA-PE-A5DC-01 | 2.6333333       | 0               | 0               | 0               | 0               | 0               | 0               | 0               | 0               | ⋯               | 0               | 0               | 0               | 0               | 0               | 0               | 0               | 0               | 0               | 0               | \n",
       "| TCGA-PE-A5DD-01 | 1.4333333       | 0               | 0               | 0               | 0               | 0               | 0               | 0               | 0               | ⋯               | 0               | 0               | 0               | 0               | 0               | 0               | 0               | 0               | 0               | 0               | \n",
       "| TCGA-PE-A5DE-01 | 9.0666667       | 0               | 0               | 0               | 0               | 0               | 0               | 0               | 0               | ⋯               | 0               | 0               | 0               | 0               | 0               | 0               | 0               | 0               | 0               | 0               | \n",
       "\n",
       "\n",
       "\n",
       "4. \n",
       "Tumor_Sample_Barcode | TMB | Window_1 | Window_2 | Window_3 | Window_4 | Window_5 | Window_6 | Window_7 | Window_8 | ⋯ | Window_991 | Window_992 | Window_993 | Window_994 | Window_995 | Window_996 | Window_997 | Window_998 | Window_999 | Window_1000 | \n",
       "|---|---|---|---|---|---|---|---|---|---|---|---|---|---|---|---|---|---|---|---|---|---|---|---|---|---|---|---|---|---|---|---|---|---|---|---|---|---|---|---|---|---|---|---|---|---|---|---|---|---|---|---|---|---|---|---|---|---|---|---|---|\n",
       "| TCGA-A1-A0SB-01 | 0.5333333       | 0               | 0               | 0               | 0               | 0               | 0               | 0               | 0               | ⋯               | 0               | 0               | 0               | 0               | 0               | 0               | 0               | 0               | 0               | 0               | \n",
       "| TCGA-A1-A0SD-01 | 0.8000000       | 0               | 0               | 0               | 0               | 0               | 0               | 0               | 0               | ⋯               | 0               | 0               | 0               | 0               | 0               | 0               | 0               | 0               | 0               | 0               | \n",
       "| TCGA-A1-A0SE-01 | 0.6000000       | 0               | 0               | 0               | 0               | 0               | 0               | 0               | 0               | ⋯               | 0               | 0               | 0               | 0               | 0               | 0               | 0               | 0               | 0               | 0               | \n",
       "| TCGA-A1-A0SF-01 | 1.1000000       | 0               | 0               | 0               | 0               | 0               | 0               | 0               | 0               | ⋯               | 0               | 0               | 0               | 0               | 0               | 0               | 0               | 0               | 0               | 0               | \n",
       "| TCGA-A1-A0SG-01 | 0.8666667       | 0               | 0               | 0               | 0               | 0               | 0               | 0               | 0               | ⋯               | 0               | 0               | 0               | 0               | 0               | 0               | 0               | 0               | 0               | 0               | \n",
       "| TCGA-A1-A0SH-01 | 2.4000000       | 0               | 0               | 0               | 0               | 0               | 0               | 0               | 0               | ⋯               | 0               | 0               | 0               | 0               | 0               | 0               | 0               | 0               | 0               | 0               | \n",
       "| TCGA-A1-A0SI-01 | 4.5333333       | 0               | 0               | 0               | 0               | 0               | 0               | 0               | 0               | ⋯               | 0               | 0               | 0               | 0               | 0               | 0               | 0               | 0               | 0               | 0               | \n",
       "| TCGA-A1-A0SJ-01 | 0.8333333       | 0               | 0               | 0               | 0               | 0               | 0               | 0               | 0               | ⋯               | 0               | 0               | 0               | 0               | 0               | 0               | 0               | 0               | 0               | 0               | \n",
       "| TCGA-A1-A0SK-01 | 2.9666667       | 0               | 0               | 0               | 0               | 0               | 0               | 0               | 0               | ⋯               | 0               | 0               | 0               | 0               | 0               | 0               | 0               | 0               | 0               | 0               | \n",
       "| TCGA-A1-A0SM-01 | 0.7000000       | 0               | 0               | 0               | 0               | 0               | 0               | 0               | 0               | ⋯               | 0               | 0               | 0               | 0               | 0               | 0               | 0               | 0               | 0               | 0               | \n",
       "| TCGA-A1-A0SN-01 | 1.2666667       | 0               | 0               | 0               | 0               | 0               | 0               | 0               | 0               | ⋯               | 0               | 0               | 0               | 0               | 0               | 0               | 0               | 0               | 0               | 0               | \n",
       "| TCGA-A1-A0SP-01 | 1.1333333       | 0               | 0               | 0               | 0               | 0               | 0               | 0               | 0               | ⋯               | 0               | 0               | 0               | 0               | 0               | 0               | 0               | 0               | 0               | 0               | \n",
       "| TCGA-A1-A0SQ-01 | 0.6333333       | 0               | 0               | 0               | 0               | 0               | 0               | 0               | 0               | ⋯               | 0               | 0               | 0               | 0               | 0               | 0               | 0               | 0               | 0               | 0               | \n",
       "| TCGA-A2-A04N-01 | 1.0666667       | 0               | 0               | 0               | 0               | 0               | 0               | 0               | 0               | ⋯               | 0               | 0               | 0               | 0               | 0               | 0               | 0               | 0               | 0               | 0               | \n",
       "| TCGA-A2-A04P-01 | 2.8666667       | 0               | 0               | 0               | 0               | 0               | 0               | 0               | 0               | ⋯               | 0               | 0               | 0               | 0               | 0               | 0               | 0               | 0               | 0               | 0               | \n",
       "| TCGA-A2-A04Q-01 | 0.2666667       | 0               | 0               | 0               | 0               | 0               | 0               | 0               | 0               | ⋯               | 0               | 0               | 0               | 0               | 0               | 0               | 0               | 0               | 0               | 0               | \n",
       "| TCGA-A2-A04R-01 | 2.1000000       | 0               | 0               | 0               | 0               | 0               | 0               | 0               | 0               | ⋯               | 0               | 0               | 0               | 0               | 0               | 0               | 0               | 0               | 0               | 0               | \n",
       "| TCGA-A2-A04T-01 | 2.1666667       | 0               | 0               | 0               | 0               | 0               | 0               | 0               | 0               | ⋯               | 0               | 0               | 0               | 0               | 0               | 0               | 0               | 0               | 0               | 0               | \n",
       "| TCGA-A2-A04U-01 | 1.5666667       | 0               | 0               | 0               | 0               | 0               | 0               | 0               | 0               | ⋯               | 0               | 0               | 0               | 0               | 0               | 0               | 0               | 0               | 0               | 0               | \n",
       "| TCGA-A2-A04V-01 | 0.8333333       | 0               | 0               | 0               | 0               | 0               | 0               | 0               | 0               | ⋯               | 0               | 0               | 0               | 0               | 0               | 0               | 0               | 0               | 0               | 0               | \n",
       "| TCGA-A2-A04W-01 | 2.6666667       | 0               | 0               | 0               | 0               | 0               | 0               | 0               | 0               | ⋯               | 0               | 0               | 0               | 0               | 0               | 0               | 0               | 0               | 0               | 0               | \n",
       "| TCGA-A2-A04X-01 | 0.6333333       | 0               | 0               | 0               | 0               | 0               | 0               | 0               | 0               | ⋯               | 0               | 0               | 0               | 0               | 0               | 0               | 0               | 0               | 0               | 0               | \n",
       "| TCGA-A2-A04Y-01 | 1.5333333       | 0               | 0               | 0               | 0               | 0               | 0               | 0               | 0               | ⋯               | 0               | 0               | 0               | 0               | 0               | 0               | 0               | 0               | 0               | 0               | \n",
       "| TCGA-A2-A0CK-01 | 0.3666667       | 0               | 0               | 0               | 0               | 0               | 0               | 0               | 0               | ⋯               | 0               | 0               | 0               | 0               | 0               | 0               | 0               | 0               | 0               | 0               | \n",
       "| TCGA-A2-A0CL-01 | 0.5333333       | 0               | 0               | 0               | 0               | 0               | 0               | 0               | 0               | ⋯               | 0               | 0               | 0               | 0               | 0               | 0               | 0               | 0               | 0               | 0               | \n",
       "| TCGA-A2-A0CM-01 | 1.4333333       | 0               | 0               | 0               | 0               | 0               | 0               | 0               | 0               | ⋯               | 0               | 0               | 0               | 0               | 0               | 0               | 0               | 0               | 0               | 0               | \n",
       "| TCGA-A2-A0CO-01 | 0.6000000       | 0               | 0               | 0               | 0               | 0               | 0               | 0               | 0               | ⋯               | 0               | 0               | 0               | 0               | 0               | 0               | 0               | 0               | 0               | 0               | \n",
       "| TCGA-A2-A0CP-01 | 2.5000000       | 0               | 0               | 0               | 0               | 0               | 0               | 0               | 0               | ⋯               | 0               | 0               | 0               | 0               | 0               | 0               | 0               | 0               | 0               | 0               | \n",
       "| TCGA-A2-A0CQ-01 | 0.9000000       | 0               | 0               | 0               | 0               | 0               | 0               | 0               | 0               | ⋯               | 0               | 0               | 0               | 0               | 0               | 0               | 0               | 0               | 0               | 0               | \n",
       "| TCGA-A2-A0CR-01 | 3.0000000       | 0               | 0               | 0               | 0               | 0               | 0               | 0               | 0               | ⋯               | 0               | 0               | 0               | 0               | 0               | 0               | 0               | 0               | 0               | 0               | \n",
       "| ⋮ | ⋮ | ⋮ | ⋮ | ⋮ | ⋮ | ⋮ | ⋮ | ⋮ | ⋮ | ⋱ | ⋮ | ⋮ | ⋮ | ⋮ | ⋮ | ⋮ | ⋮ | ⋮ | ⋮ | ⋮ | \n",
       "| TCGA-JL-A3YX-01 | 0.9000000       | 0               | 0               | 0               | 0               | 0               | 0               | 0               | 0               | ⋯               | 0               | 0               | 0               | 0               | 0               | 0               | 0               | 0               | 0               | 0               | \n",
       "| TCGA-LL-A440-01 | 0.2000000       | 0               | 0               | 0               | 0               | 0               | 0               | 0               | 0               | ⋯               | 0               | 0               | 0               | 0               | 0               | 0               | 0               | 0               | 0               | 0               | \n",
       "| TCGA-LL-A441-01 | 1.4333333       | 0               | 0               | 0               | 0               | 0               | 0               | 0               | 0               | ⋯               | 0               | 0               | 0               | 0               | 0               | 0               | 0               | 0               | 0               | 0               | \n",
       "| TCGA-LL-A50Y-01 | 0.8333333       | 0               | 0               | 0               | 0               | 0               | 0               | 0               | 0               | ⋯               | 0               | 0               | 0               | 0               | 0               | 0               | 0               | 0               | 0               | 0               | \n",
       "| TCGA-LL-A5YL-01 | 1.7666667       | 0               | 0               | 0               | 0               | 0               | 0               | 0               | 0               | ⋯               | 0               | 0               | 0               | 0               | 0               | 0               | 0               | 0               | 0               | 0               | \n",
       "| TCGA-LL-A5YM-01 | 0.6333333       | 0               | 0               | 0               | 0               | 0               | 0               | 0               | 0               | ⋯               | 0               | 0               | 0               | 0               | 0               | 0               | 0               | 0               | 0               | 0               | \n",
       "| TCGA-LL-A5YN-01 | 0.7666667       | 0               | 0               | 0               | 0               | 0               | 0               | 0               | 0               | ⋯               | 0               | 0               | 0               | 0               | 0               | 0               | 0               | 0               | 0               | 0               | \n",
       "| TCGA-LL-A5YO-01 | 0.9333333       | 0               | 0               | 0               | 0               | 0               | 0               | 0               | 0               | ⋯               | 0               | 0               | 0               | 0               | 0               | 0               | 0               | 0               | 0               | 0               | \n",
       "| TCGA-LL-A5YP-01 | 2.1333333       | 0               | 0               | 0               | 0               | 0               | 0               | 0               | 0               | ⋯               | 0               | 0               | 0               | 0               | 0               | 0               | 0               | 0               | 0               | 0               | \n",
       "| TCGA-LQ-A4E4-01 | 2.1333333       | 0               | 0               | 0               | 0               | 0               | 0               | 0               | 0               | ⋯               | 0               | 0               | 0               | 0               | 0               | 0               | 0               | 0               | 0               | 0               | \n",
       "| TCGA-MS-A51U-01 | 0.3666667       | 0               | 0               | 0               | 0               | 0               | 0               | 0               | 0               | ⋯               | 0               | 0               | 0               | 0               | 0               | 0               | 0               | 0               | 0               | 0               | \n",
       "| TCGA-OK-A5Q2-01 | 0.7333333       | 0               | 0               | 0               | 0               | 0               | 0               | 0               | 0               | ⋯               | 0               | 0               | 0               | 0               | 0               | 0               | 0               | 0               | 0               | 0               | \n",
       "| TCGA-OL-A5D6-01 | 0.9666667       | 0               | 0               | 0               | 0               | 0               | 0               | 0               | 0               | ⋯               | 0               | 0               | 0               | 0               | 0               | 0               | 0               | 0               | 0               | 0               | \n",
       "| TCGA-OL-A5D7-01 | 1.2666667       | 0               | 0               | 0               | 0               | 0               | 0               | 0               | 0               | ⋯               | 0               | 0               | 0               | 0               | 0               | 0               | 0               | 0               | 0               | 0               | \n",
       "| TCGA-OL-A5D8-01 | 0.7666667       | 0               | 0               | 0               | 0               | 0               | 0               | 0               | 0               | ⋯               | 0               | 0               | 0               | 0               | 0               | 0               | 0               | 0               | 0               | 0               | \n",
       "| TCGA-OL-A5DA-01 | 1.4000000       | 0               | 0               | 0               | 0               | 0               | 0               | 0               | 0               | ⋯               | 0               | 0               | 0               | 0               | 0               | 0               | 0               | 0               | 0               | 0               | \n",
       "| TCGA-OL-A5RU-01 | 0.7333333       | 0               | 0               | 0               | 0               | 0               | 0               | 0               | 0               | ⋯               | 0               | 0               | 0               | 0               | 0               | 0               | 0               | 0               | 0               | 0               | \n",
       "| TCGA-OL-A5RV-01 | 0.4000000       | 0               | 0               | 0               | 0               | 0               | 0               | 0               | 0               | ⋯               | 0               | 0               | 0               | 0               | 0               | 0               | 0               | 0               | 0               | 0               | \n",
       "| TCGA-OL-A5RW-01 | 4.0666667       | 0               | 0               | 0               | 0               | 0               | 0               | 0               | 0               | ⋯               | 0               | 0               | 0               | 0               | 0               | 0               | 0               | 0               | 0               | 0               | \n",
       "| TCGA-OL-A5RX-01 | 0.6666667       | 0               | 0               | 0               | 0               | 0               | 0               | 0               | 0               | ⋯               | 0               | 0               | 0               | 0               | 0               | 0               | 0               | 0               | 0               | 0               | \n",
       "| TCGA-OL-A5RY-01 | 0.2666667       | 0               | 0               | 0               | 0               | 0               | 0               | 0               | 0               | ⋯               | 0               | 0               | 0               | 0               | 0               | 0               | 0               | 0               | 0               | 0               | \n",
       "| TCGA-OL-A5RZ-01 | 2.6333333       | 0               | 0               | 0               | 0               | 0               | 0               | 0               | 0               | ⋯               | 0               | 0               | 0               | 0               | 0               | 0               | 0               | 0               | 0               | 0               | \n",
       "| TCGA-OL-A5S0-01 | 1.0000000       | 0               | 0               | 0               | 0               | 0               | 0               | 0               | 0               | ⋯               | 0               | 0               | 0               | 0               | 0               | 0               | 0               | 0               | 0               | 0               | \n",
       "| TCGA-OL-A66H-01 | 0.6333333       | 0               | 0               | 0               | 0               | 0               | 0               | 0               | 0               | ⋯               | 0               | 0               | 0               | 0               | 0               | 0               | 0               | 0               | 0               | 0               | \n",
       "| TCGA-OL-A66I-01 | 0.8000000       | 0               | 0               | 0               | 0               | 0               | 0               | 0               | 0               | ⋯               | 0               | 0               | 0               | 0               | 0               | 0               | 0               | 0               | 0               | 0               | \n",
       "| TCGA-OL-A66J-01 | 1.5000000       | 0               | 0               | 0               | 0               | 0               | 0               | 0               | 0               | ⋯               | 0               | 0               | 0               | 0               | 0               | 0               | 0               | 0               | 0               | 0               | \n",
       "| TCGA-OL-A66K-01 | 0.6333333       | 0               | 0               | 0               | 0               | 0               | 0               | 0               | 0               | ⋯               | 0               | 0               | 0               | 0               | 0               | 0               | 0               | 0               | 0               | 0               | \n",
       "| TCGA-PE-A5DC-01 | 2.6333333       | 0               | 0               | 0               | 0               | 0               | 0               | 0               | 0               | ⋯               | 0               | 0               | 0               | 0               | 0               | 0               | 0               | 0               | 0               | 0               | \n",
       "| TCGA-PE-A5DD-01 | 1.4333333       | 0               | 0               | 0               | 0               | 0               | 0               | 0               | 0               | ⋯               | 0               | 0               | 0               | 0               | 0               | 0               | 0               | 0               | 0               | 0               | \n",
       "| TCGA-PE-A5DE-01 | 9.0666667       | 0               | 0               | 0               | 0               | 0               | 0               | 0               | 0               | ⋯               | 0               | 0               | 0               | 0               | 0               | 0               | 0               | 0               | 0               | 0               | \n",
       "\n",
       "\n",
       "\n",
       "\n",
       "\n"
      ],
      "text/plain": [
       "[[1]]\n",
       "# A tibble: 981 x 3\n",
       "   Tumor_Sample_Barcode   TMB Window_1\n",
       "   <chr>                <dbl>    <dbl>\n",
       " 1 TCGA-A1-A0SB-01      0.533        0\n",
       " 2 TCGA-A1-A0SD-01      0.8          0\n",
       " 3 TCGA-A1-A0SE-01      0.6          0\n",
       " 4 TCGA-A1-A0SF-01      1.1          0\n",
       " 5 TCGA-A1-A0SG-01      0.867        0\n",
       " 6 TCGA-A1-A0SH-01      2.4          0\n",
       " 7 TCGA-A1-A0SI-01      4.53         0\n",
       " 8 TCGA-A1-A0SJ-01      0.833        0\n",
       " 9 TCGA-A1-A0SK-01      2.97         0\n",
       "10 TCGA-A1-A0SM-01      0.7          0\n",
       "# ... with 971 more rows\n",
       "\n",
       "[[2]]\n",
       "# A tibble: 981 x 12\n",
       "   Tumor_Sample_Ba…   TMB Window_1 Window_2 Window_3 Window_4 Window_5 Window_6\n",
       "   <chr>            <dbl>    <dbl>    <dbl>    <dbl>    <dbl>    <dbl>    <dbl>\n",
       " 1 TCGA-A1-A0SB-01  0.533        0        0        0        0        0        0\n",
       " 2 TCGA-A1-A0SD-01  0.8          0        0        0        0        0        0\n",
       " 3 TCGA-A1-A0SE-01  0.6          0        0        0        0        0        0\n",
       " 4 TCGA-A1-A0SF-01  1.1          0        0        0        0        0        0\n",
       " 5 TCGA-A1-A0SG-01  0.867        0        0        0        0        0        0\n",
       " 6 TCGA-A1-A0SH-01  2.4          0        0        0        0        0        0\n",
       " 7 TCGA-A1-A0SI-01  4.53         0        0        0        0        0        0\n",
       " 8 TCGA-A1-A0SJ-01  0.833        0        0        0        0        0        0\n",
       " 9 TCGA-A1-A0SK-01  2.97         0        0        0        0        0        0\n",
       "10 TCGA-A1-A0SM-01  0.7          0        0        0        0        0        0\n",
       "# ... with 971 more rows, and 4 more variables: Window_7 <dbl>, Window_8 <dbl>,\n",
       "#   Window_9 <dbl>, Window_10 <dbl>\n",
       "\n",
       "[[3]]\n",
       "# A tibble: 981 x 102\n",
       "   Tumor_Sample_Ba…   TMB Window_1 Window_2 Window_3 Window_4 Window_5 Window_6\n",
       "   <chr>            <dbl>    <dbl>    <dbl>    <dbl>    <dbl>    <dbl>    <dbl>\n",
       " 1 TCGA-A1-A0SB-01  0.533        0        0        0        0        0        0\n",
       " 2 TCGA-A1-A0SD-01  0.8          0        0        0        0        0        0\n",
       " 3 TCGA-A1-A0SE-01  0.6          0        0        0        0        0        0\n",
       " 4 TCGA-A1-A0SF-01  1.1          0        0        0        0        0        0\n",
       " 5 TCGA-A1-A0SG-01  0.867        0        0        0        0        0        0\n",
       " 6 TCGA-A1-A0SH-01  2.4          0        0        0        0        0        0\n",
       " 7 TCGA-A1-A0SI-01  4.53         0        0        0        0        0        0\n",
       " 8 TCGA-A1-A0SJ-01  0.833        0        0        0        0        0        0\n",
       " 9 TCGA-A1-A0SK-01  2.97         0        0        0        0        0        0\n",
       "10 TCGA-A1-A0SM-01  0.7          0        0        0        0        0        0\n",
       "# ... with 971 more rows, and 94 more variables: Window_7 <dbl>,\n",
       "#   Window_8 <dbl>, Window_9 <dbl>, Window_10 <dbl>, Window_11 <dbl>,\n",
       "#   Window_12 <dbl>, Window_13 <dbl>, Window_14 <dbl>, Window_15 <dbl>,\n",
       "#   Window_16 <dbl>, Window_17 <dbl>, Window_18 <dbl>, Window_19 <dbl>,\n",
       "#   Window_20 <dbl>, Window_21 <dbl>, Window_22 <dbl>, Window_23 <dbl>,\n",
       "#   Window_24 <dbl>, Window_25 <dbl>, Window_26 <dbl>, Window_27 <dbl>,\n",
       "#   Window_28 <dbl>, Window_29 <dbl>, Window_30 <dbl>, Window_31 <dbl>,\n",
       "#   Window_32 <dbl>, Window_33 <dbl>, Window_34 <dbl>, Window_35 <dbl>,\n",
       "#   Window_36 <dbl>, Window_37 <dbl>, Window_38 <dbl>, Window_39 <dbl>,\n",
       "#   Window_40 <dbl>, Window_41 <dbl>, Window_42 <dbl>, Window_43 <dbl>,\n",
       "#   Window_44 <dbl>, Window_45 <dbl>, Window_46 <dbl>, Window_47 <dbl>,\n",
       "#   Window_48 <dbl>, Window_49 <dbl>, Window_50 <dbl>, Window_51 <dbl>,\n",
       "#   Window_52 <dbl>, Window_53 <dbl>, Window_54 <dbl>, Window_55 <dbl>,\n",
       "#   Window_56 <dbl>, Window_57 <dbl>, Window_58 <dbl>, Window_59 <dbl>,\n",
       "#   Window_60 <dbl>, Window_61 <dbl>, Window_62 <dbl>, Window_63 <dbl>,\n",
       "#   Window_64 <dbl>, Window_65 <dbl>, Window_66 <dbl>, Window_67 <dbl>,\n",
       "#   Window_68 <dbl>, Window_69 <dbl>, Window_70 <dbl>, Window_71 <dbl>,\n",
       "#   Window_72 <dbl>, Window_73 <dbl>, Window_74 <dbl>, Window_75 <dbl>,\n",
       "#   Window_76 <dbl>, Window_77 <dbl>, Window_78 <dbl>, Window_79 <dbl>,\n",
       "#   Window_80 <dbl>, Window_81 <dbl>, Window_82 <dbl>, Window_83 <dbl>,\n",
       "#   Window_84 <dbl>, Window_85 <dbl>, Window_86 <dbl>, Window_87 <dbl>,\n",
       "#   Window_88 <dbl>, Window_89 <dbl>, Window_90 <dbl>, Window_91 <dbl>,\n",
       "#   Window_92 <dbl>, Window_93 <dbl>, Window_94 <dbl>, Window_95 <dbl>,\n",
       "#   Window_96 <dbl>, Window_97 <dbl>, Window_98 <dbl>, Window_99 <dbl>,\n",
       "#   Window_100 <dbl>\n",
       "\n",
       "[[4]]\n",
       "# A tibble: 981 x 1,002\n",
       "   Tumor_Sample_Ba…   TMB Window_1 Window_2 Window_3 Window_4 Window_5 Window_6\n",
       "   <chr>            <dbl>    <dbl>    <dbl>    <dbl>    <dbl>    <dbl>    <dbl>\n",
       " 1 TCGA-A1-A0SB-01  0.533        0        0        0        0        0        0\n",
       " 2 TCGA-A1-A0SD-01  0.8          0        0        0        0        0        0\n",
       " 3 TCGA-A1-A0SE-01  0.6          0        0        0        0        0        0\n",
       " 4 TCGA-A1-A0SF-01  1.1          0        0        0        0        0        0\n",
       " 5 TCGA-A1-A0SG-01  0.867        0        0        0        0        0        0\n",
       " 6 TCGA-A1-A0SH-01  2.4          0        0        0        0        0        0\n",
       " 7 TCGA-A1-A0SI-01  4.53         0        0        0        0        0        0\n",
       " 8 TCGA-A1-A0SJ-01  0.833        0        0        0        0        0        0\n",
       " 9 TCGA-A1-A0SK-01  2.97         0        0        0        0        0        0\n",
       "10 TCGA-A1-A0SM-01  0.7          0        0        0        0        0        0\n",
       "# ... with 971 more rows, and 994 more variables: Window_7 <dbl>,\n",
       "#   Window_8 <dbl>, Window_9 <dbl>, Window_10 <dbl>, Window_11 <dbl>,\n",
       "#   Window_12 <dbl>, Window_13 <dbl>, Window_14 <dbl>, Window_15 <dbl>,\n",
       "#   Window_16 <dbl>, Window_17 <dbl>, Window_18 <dbl>, Window_19 <dbl>,\n",
       "#   Window_20 <dbl>, Window_21 <dbl>, Window_22 <dbl>, Window_23 <dbl>,\n",
       "#   Window_24 <dbl>, Window_25 <dbl>, Window_26 <dbl>, Window_27 <dbl>,\n",
       "#   Window_28 <dbl>, Window_29 <dbl>, Window_30 <dbl>, Window_31 <dbl>,\n",
       "#   Window_32 <dbl>, Window_33 <dbl>, Window_34 <dbl>, Window_35 <dbl>,\n",
       "#   Window_36 <dbl>, Window_37 <dbl>, Window_38 <dbl>, Window_39 <dbl>,\n",
       "#   Window_40 <dbl>, Window_41 <dbl>, Window_42 <dbl>, Window_43 <dbl>,\n",
       "#   Window_44 <dbl>, Window_45 <dbl>, Window_46 <dbl>, Window_47 <dbl>,\n",
       "#   Window_48 <dbl>, Window_49 <dbl>, Window_50 <dbl>, Window_51 <dbl>,\n",
       "#   Window_52 <dbl>, Window_53 <dbl>, Window_54 <dbl>, Window_55 <dbl>,\n",
       "#   Window_56 <dbl>, Window_57 <dbl>, Window_58 <dbl>, Window_59 <dbl>,\n",
       "#   Window_60 <dbl>, Window_61 <dbl>, Window_62 <dbl>, Window_63 <dbl>,\n",
       "#   Window_64 <dbl>, Window_65 <dbl>, Window_66 <dbl>, Window_67 <dbl>,\n",
       "#   Window_68 <dbl>, Window_69 <dbl>, Window_70 <dbl>, Window_71 <dbl>,\n",
       "#   Window_72 <dbl>, Window_73 <dbl>, Window_74 <dbl>, Window_75 <dbl>,\n",
       "#   Window_76 <dbl>, Window_77 <dbl>, Window_78 <dbl>, Window_79 <dbl>,\n",
       "#   Window_80 <dbl>, Window_81 <dbl>, Window_82 <dbl>, Window_83 <dbl>,\n",
       "#   Window_84 <dbl>, Window_85 <dbl>, Window_86 <dbl>, Window_87 <dbl>,\n",
       "#   Window_88 <dbl>, Window_89 <dbl>, Window_90 <dbl>, Window_91 <dbl>,\n",
       "#   Window_92 <dbl>, Window_93 <dbl>, Window_94 <dbl>, Window_95 <dbl>,\n",
       "#   Window_96 <dbl>, Window_97 <dbl>, Window_98 <dbl>, Window_99 <dbl>,\n",
       "#   Window_100 <dbl>, Window_101 <dbl>, Window_102 <dbl>, Window_103 <dbl>,\n",
       "#   Window_104 <dbl>, Window_105 <dbl>, Window_106 <dbl>, …\n"
      ]
     },
     "metadata": {},
     "output_type": "display_data"
    }
   ],
   "source": [
    "RLL_windows(new_data, tcga_brca_windows, 1000000, 1)$matrices"
   ]
  },
  {
   "cell_type": "code",
   "execution_count": null,
   "metadata": {},
   "outputs": [],
   "source": []
  }
 ],
 "metadata": {
  "kernelspec": {
   "display_name": "R",
   "language": "R",
   "name": "ir"
  },
  "language_info": {
   "codemirror_mode": "r",
   "file_extension": ".r",
   "mimetype": "text/x-r-source",
   "name": "R",
   "pygments_lexer": "r",
   "version": "3.5.1"
  }
 },
 "nbformat": 4,
 "nbformat_minor": 2
}
