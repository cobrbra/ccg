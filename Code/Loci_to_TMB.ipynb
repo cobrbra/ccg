{
 "cells": [
  {
   "cell_type": "markdown",
   "metadata": {},
   "source": [
    "## 4. Producing a Training Matrix"
   ]
  },
  {
   "cell_type": "markdown",
   "metadata": {},
   "source": [
    "We want to take the sliding window approaches detailed above detecting genomic loci of interest, and move towards using those regions of interest to predict TMB as accurately as possible."
   ]
  },
  {
   "cell_type": "code",
   "execution_count": 1,
   "metadata": {},
   "outputs": [],
   "source": [
    "setwd(\"/Users/jacobbradley/Documents/CCG/Code\")"
   ]
  },
  {
   "cell_type": "markdown",
   "metadata": {},
   "source": [
    "### Packages"
   ]
  },
  {
   "cell_type": "code",
   "execution_count": 2,
   "metadata": {
    "collapsed": true
   },
   "outputs": [
    {
     "name": "stdout",
     "output_type": "stream",
     "text": [
      "\n",
      "The downloaded binary packages are in\n",
      "\t/var/folders/g9/9x6m35fn5ydf88vdlm9n1vg80000gn/T//RtmpdVJOGw/downloaded_packages\n"
     ]
    },
    {
     "name": "stderr",
     "output_type": "stream",
     "text": [
      "── Attaching packages ─────────────────────────────────────── tidyverse 1.2.1 ──\n",
      "✔ ggplot2 3.1.0     ✔ purrr   0.2.5\n",
      "✔ tibble  1.4.2     ✔ dplyr   0.7.8\n",
      "✔ tidyr   0.8.2     ✔ stringr 1.3.1\n",
      "✔ readr   1.1.1     ✔ forcats 0.3.0\n",
      "── Conflicts ────────────────────────────────────────── tidyverse_conflicts() ──\n",
      "✖ dplyr::filter() masks stats::filter()\n",
      "✖ dplyr::lag()    masks stats::lag()\n",
      "Loading required namespace: BiocManager\n",
      "Bioconductor version 3.8 (BiocManager 1.30.3), R 3.5.1 (2018-07-02)\n",
      "Update old packages: 'BiocManager', 'BiocParallel', 'broom', 'circlize',\n",
      "  'edgeR', 'ELMER', 'ensembldb', 'foreign', 'gdsfmt', 'ggpubr', 'Gviz',\n",
      "  'haven', 'IRdisplay', 'lattice', 'limma', 'MASS', 'Matrix', 'mclust', 'mgcv',\n",
      "  'openssl', 'processx', 'RcppEigen', 'readr', 'repr', 'rtracklayer',\n",
      "  'survival', 'units', 'VariantAnnotation'\n",
      "Loading required package: BiocGenerics\n",
      "Loading required package: parallel\n",
      "\n",
      "Attaching package: ‘BiocGenerics’\n",
      "\n",
      "The following objects are masked from ‘package:parallel’:\n",
      "\n",
      "    clusterApply, clusterApplyLB, clusterCall, clusterEvalQ,\n",
      "    clusterExport, clusterMap, parApply, parCapply, parLapply,\n",
      "    parLapplyLB, parRapply, parSapply, parSapplyLB\n",
      "\n",
      "The following objects are masked from ‘package:dplyr’:\n",
      "\n",
      "    combine, intersect, setdiff, union\n",
      "\n",
      "The following objects are masked from ‘package:stats’:\n",
      "\n",
      "    IQR, mad, sd, var, xtabs\n",
      "\n",
      "The following objects are masked from ‘package:base’:\n",
      "\n",
      "    anyDuplicated, append, as.data.frame, basename, cbind, colMeans,\n",
      "    colnames, colSums, dirname, do.call, duplicated, eval, evalq,\n",
      "    Filter, Find, get, grep, grepl, intersect, is.unsorted, lapply,\n",
      "    lengths, Map, mapply, match, mget, order, paste, pmax, pmax.int,\n",
      "    pmin, pmin.int, Position, rank, rbind, Reduce, rowMeans, rownames,\n",
      "    rowSums, sapply, setdiff, sort, table, tapply, union, unique,\n",
      "    unsplit, which, which.max, which.min\n",
      "\n",
      "Loading required package: S4Vectors\n",
      "Loading required package: stats4\n",
      "\n",
      "Attaching package: ‘S4Vectors’\n",
      "\n",
      "The following objects are masked from ‘package:dplyr’:\n",
      "\n",
      "    first, rename\n",
      "\n",
      "The following object is masked from ‘package:tidyr’:\n",
      "\n",
      "    expand\n",
      "\n",
      "The following object is masked from ‘package:base’:\n",
      "\n",
      "    expand.grid\n",
      "\n",
      "Loading required package: IRanges\n",
      "\n",
      "Attaching package: ‘IRanges’\n",
      "\n",
      "The following objects are masked from ‘package:dplyr’:\n",
      "\n",
      "    collapse, desc, slice\n",
      "\n",
      "The following object is masked from ‘package:purrr’:\n",
      "\n",
      "    reduce\n",
      "\n",
      "Loading required package: GenomeInfoDb\n",
      "Loading required package: GenomicRanges\n",
      "Loading required package: Biostrings\n",
      "Loading required package: XVector\n",
      "\n",
      "Attaching package: ‘XVector’\n",
      "\n",
      "The following object is masked from ‘package:purrr’:\n",
      "\n",
      "    compact\n",
      "\n",
      "\n",
      "Attaching package: ‘Biostrings’\n",
      "\n",
      "The following object is masked from ‘package:base’:\n",
      "\n",
      "    strsplit\n",
      "\n",
      "Loading required package: rtracklayer\n"
     ]
    }
   ],
   "source": [
    "install.packages(\"tidyverse\")\n",
    "library(tidyverse)\n",
    "# Data Handling\n",
    "\n",
    "if (!requireNamespace(\"BiocManager\"))\n",
    "    install.packages(\"BiocManager\")\n",
    "BiocManager::install()\n",
    "library(BiocManager)\n",
    "# General bioinformatics packages\n",
    "\n",
    "library(BSgenome)\n",
    "library(BSgenome.Hsapiens.UCSC.hg19)\n",
    "# Human genome build GChr37"
   ]
  },
  {
   "cell_type": "code",
   "execution_count": 3,
   "metadata": {},
   "outputs": [],
   "source": [
    "source(\"TMB_Funcs.txt\")\n",
    "# My Stuff!"
   ]
  },
  {
   "cell_type": "markdown",
   "metadata": {},
   "source": [
    "### Producing a training matrix"
   ]
  },
  {
   "cell_type": "code",
   "execution_count": 4,
   "metadata": {},
   "outputs": [],
   "source": [
    "chromosomes <- c(1:22,\"X\",\"Y\")\n",
    "genome <- BSgenome.Hsapiens.UCSC.hg19\n",
    "\n",
    "window_size <- 1000000\n",
    "jump_length <- 100000"
   ]
  },
  {
   "cell_type": "code",
   "execution_count": 5,
   "metadata": {
    "collapsed": true
   },
   "outputs": [
    {
     "name": "stderr",
     "output_type": "stream",
     "text": [
      "Warning message:\n",
      "“Missing column names filled in: 'X54' [54]”Parsed with column specification:\n",
      "cols(\n",
      "  .default = col_character(),\n",
      "  Entrez_Gene_Id = col_integer(),\n",
      "  Start_Position = col_integer(),\n",
      "  End_Position = col_integer(),\n",
      "  Score = col_integer(),\n",
      "  t_ref_count = col_integer(),\n",
      "  t_alt_count = col_integer(),\n",
      "  Protein_position = col_integer(),\n",
      "  Hotspot = col_integer(),\n",
      "  stop_WU = col_integer(),\n",
      "  X54 = col_double(),\n",
      "  tumor_vaf = col_double(),\n",
      "  normal_ref_reads = col_integer(),\n",
      "  start_WU = col_integer(),\n",
      "  strand_WU = col_integer(),\n",
      "  tumors_var_reads = col_integer(),\n",
      "  normal_vaf = col_double(),\n",
      "  tumor_ref_reads = col_integer(),\n",
      "  normal_var_reads = col_integer()\n",
      ")\n",
      "See spec(...) for full column specifications.\n",
      "Warning message in rbind(names(probs), probs_f):\n",
      "“number of columns of result is not a multiple of vector length (arg 1)”Warning message:\n",
      "“3282 parsing failures.\n",
      "row # A tibble: 5 x 5 col     row col     expected  actual file                                           expected   <int> <chr>   <chr>     <chr>  <chr>                                          actual 1 88850 stop_WU an integ… known  '/Volumes/CCG8/processed_data/brca_tcga/data_… file 2 88850 X54     a double  BCR    '/Volumes/CCG8/processed_data/brca_tcga/data_… row 3 88851 stop_WU an integ… known  '/Volumes/CCG8/processed_data/brca_tcga/data_… col 4 88851 X54     a double  BCR    '/Volumes/CCG8/processed_data/brca_tcga/data_… expected 5 88852 stop_WU an integ… known  '/Volumes/CCG8/processed_data/brca_tcga/data_…\n",
      "... ................. ... ............................................................................... ........ ............................................................................... ...... ............................................................................... .... ............................................................................... ... ............................................................................... ... ............................................................................... ........ ...............................................................................\n",
      "See problems(...) for more details.\n",
      "”"
     ]
    }
   ],
   "source": [
    "new_data <- read_tsv(\"/Volumes/CCG8/processed_data/brca_tcga/data_mutations_extended.txt\")\n",
    "#tcga_brca_hotspots <- genome_slide(maf_file = new_data, global_tmb_table = NULL, window_size, jump_length)\n",
    "#write_tsv(path = '/Users/jacobbradley/Documents/CCG/Data/tcga_brca_hotspots', x = tcga_brca_hotspots)\n",
    "tcga_brca_hotspots <- read_tsv('/Users/jacobbradley/Documents/CCG/Data/tcga_brca_hotspots', col_types = list(col_character(), col_guess(), col_guess(), col_guess()))"
   ]
  },
  {
   "cell_type": "code",
   "execution_count": 12,
   "metadata": {},
   "outputs": [],
   "source": [
    "#tcga_brca_hotspots_new <- genome_restricted_slide(maf_file = new_data, previous_run = tcga_brca_hotspots, zoom = 10, global_tmb_table = NULL, coverage = 10)\n",
    "#write_tsv(path = '/Users/jacobbradley/Documents/CCG/Data/tcga_brca_hotspots_new', x = tcga_brca_hotspots_new)\n",
    "\n",
    "tcga_brca_hotspots_new <- read_tsv('/Users/jacobbradley/Documents/CCG/Data/tcga_brca_hotspots_new', col_types = list(col_character(), col_guess(), col_guess(), col_guess()))"
   ]
  },
  {
   "cell_type": "code",
   "execution_count": 7,
   "metadata": {},
   "outputs": [],
   "source": [
    "#tcga_brca_hotspots_new_new <- genome_restricted_slide(maf_file = new_data, previous_run = tcga_brca_hotspots_new, zoom = 10, global_tmb_table = NULL, coverage = 10)\n",
    "#write_tsv(path = '/Users/jacobbradley/Documents/CCG/Data/tcga_brca_hotspots_new_new', x = tcga_brca_hotspots_new_new)\n",
    "\n",
    "tcga_brca_hotspots_new_new <- read_tsv('/Users/jacobbradley/Documents/CCG/Data/tcga_brca_hotspots_new_new', col_types = list(col_character(), col_guess(), col_guess(), col_guess()))"
   ]
  },
  {
   "cell_type": "code",
   "execution_count": 198,
   "metadata": {},
   "outputs": [],
   "source": [
    "getWindows <- function(window_run, panel_size, window_size) {\n",
    "    \n",
    "    working_panel <- tibble(chromosome = factor(character(), levels = c(1:22, \"X\", \"Y\")), position = vector())\n",
    "    jump_length <- (window_run[2,\"position\"] - window_run[1, \"position\"])[1,1]\n",
    "   \n",
    "    coverage <- as.integer(window_size/jump_length)\n",
    "    adding <- TRUE\n",
    "    \n",
    "    while (adding) {\n",
    "        new_position <- window_run %>% \n",
    "            filter(significance == max(significance)) %>% \n",
    "            filter(chromosome == min(chromosome)) %>% \n",
    "            filter(position == min(position)) %>% \n",
    "            select(chromosome, position)\n",
    "        \n",
    "        if (nrow(working_panel %>% \n",
    "            add_row(chromosome = rep(new_position$chromosome[1], coverage), position = new_position$position[1] + jump_length*(0:(coverage-1))) %>% \n",
    "            distinct())*jump_length <= panel_size) {\n",
    "            \n",
    "            working_panel <- working_panel %>% \n",
    "                add_row(chromosome = rep(new_position$chromosome[1], coverage), position = new_position$position[1] + jump_length*(0:(coverage-1))) %>% \n",
    "                distinct() %>% \n",
    "                group_by(chromosome) %>% \n",
    "                arrange(position, .by_group = TRUE) %>% \n",
    "                ungroup()\n",
    "            \n",
    "        \n",
    "            window_run <- window_run %>% \n",
    "                filter((chromosome != new_position$chromosome)|(position != new_position$position))\n",
    "        }\n",
    "        else {\n",
    "            adding <- FALSE\n",
    "        }\n",
    "    }\n",
    "    \n",
    "    return(working_panel)\n",
    "}"
   ]
  },
  {
   "cell_type": "code",
   "execution_count": 254,
   "metadata": {},
   "outputs": [],
   "source": [
    "getMatrix <- function(maf_file, candidate_panel, jump_length, global_tmb_tabe = NULL) {\n",
    "    \n",
    "    maf_file <- abridge(maf_file, nonsilent = FALSE)\n",
    "    \n",
    "    if (is.null(global_tmb_table)) {\n",
    "        global_tmb_table = TMB_Calc(maf_file, nonsilent = TRUE)\n",
    "    }\n",
    "    \n",
    "    window_matrix <- global_tmb_table\n",
    "    \n",
    "    for (n in 1:nrow(candidate_panel)) {\n",
    "        \n",
    "        new_column <- maf_file %>% \n",
    "            filter(Chromosome == candidate_panel$chromosome[n], \n",
    "                   Start_Position %in% (candidate_panel$position[n] + 0:(jump_length - 1))) %>%\n",
    "            group_by(Tumor_Sample_Barcode) %>% \n",
    "            summarise(Window = n())\n",
    "    \n",
    "        colnames(new_column) <- c(\"Tumor_Sample_Barcode\", paste0(\"Window_\", n))\n",
    "        window_matrix <- full_join(window_matrix, new_column, by = \"Tumor_Sample_Barcode\")\n",
    "        \n",
    "    }\n",
    "    \n",
    "    window_matrix[is.na(window_matrix)]  <- 0\n",
    "    return(window_matrix)\n",
    "}"
   ]
  },
  {
   "cell_type": "code",
   "execution_count": 270,
   "metadata": {
    "scrolled": true
   },
   "outputs": [
    {
     "name": "stderr",
     "output_type": "stream",
     "text": [
      "Warning message:\n",
      "“Unknown columns: `Start_position`”Warning message:\n",
      "“Unknown columns: `End_position`”"
     ]
    }
   ],
   "source": [
    "training_matrix <- getWindows(tcga_brca_hotspots_new_new, 10000, 10000) %>% \n",
    "    getMatrix(new_data, ., 1000)"
   ]
  },
  {
   "cell_type": "code",
   "execution_count": 275,
   "metadata": {},
   "outputs": [
    {
     "data": {
      "text/html": [
       "<table>\n",
       "<thead><tr><th scope=col>TMB</th></tr></thead>\n",
       "<tbody>\n",
       "\t<tr><td> 68.36667</td></tr>\n",
       "\t<tr><td>115.90000</td></tr>\n",
       "\t<tr><td>145.16667</td></tr>\n",
       "</tbody>\n",
       "</table>\n"
      ],
      "text/latex": [
       "\\begin{tabular}{r|l}\n",
       " TMB\\\\\n",
       "\\hline\n",
       "\t  68.36667\\\\\n",
       "\t 115.90000\\\\\n",
       "\t 145.16667\\\\\n",
       "\\end{tabular}\n"
      ],
      "text/markdown": [
       "\n",
       "TMB | \n",
       "|---|---|---|\n",
       "|  68.36667 | \n",
       "| 115.90000 | \n",
       "| 145.16667 | \n",
       "\n",
       "\n"
      ],
      "text/plain": [
       "  TMB      \n",
       "1  68.36667\n",
       "2 115.90000\n",
       "3 145.16667"
      ]
     },
     "metadata": {},
     "output_type": "display_data"
    }
   ],
   "source": [
    "training_matrix[training_matrix  %>% \n",
    "    select(starts_with(\"Window\")) %>% \n",
    "    rowSums() > 0, \"TMB\"]\n",
    "    "
   ]
  },
  {
   "cell_type": "code",
   "execution_count": 277,
   "metadata": {},
   "outputs": [
    {
     "data": {
      "text/html": [
       "<table>\n",
       "<thead><tr><th scope=col>Tumor_Sample_Barcode</th><th scope=col>TMB</th><th scope=col>Window_1</th><th scope=col>Window_2</th><th scope=col>Window_3</th><th scope=col>Window_4</th><th scope=col>Window_5</th><th scope=col>Window_6</th><th scope=col>Window_7</th><th scope=col>Window_8</th><th scope=col>Window_9</th><th scope=col>Window_10</th></tr></thead>\n",
       "<tbody>\n",
       "\t<tr><td>TCGA-A2-A0T5-01</td><td> 36.03333      </td><td>0              </td><td>0              </td><td>0              </td><td>0              </td><td>0              </td><td>0              </td><td>0              </td><td>0              </td><td>0              </td><td>0              </td></tr>\n",
       "\t<tr><td>TCGA-A8-A09Z-01</td><td> 33.46667      </td><td>0              </td><td>0              </td><td>0              </td><td>0              </td><td>0              </td><td>0              </td><td>0              </td><td>0              </td><td>0              </td><td>0              </td></tr>\n",
       "\t<tr><td>TCGA-A8-A0A6-01</td><td> 68.36667      </td><td>0              </td><td>0              </td><td>0              </td><td>0              </td><td>0              </td><td>1              </td><td>0              </td><td>0              </td><td>0              </td><td>0              </td></tr>\n",
       "\t<tr><td>TCGA-AC-A23H-01</td><td>115.90000      </td><td>0              </td><td>0              </td><td>0              </td><td>0              </td><td>1              </td><td>0              </td><td>0              </td><td>0              </td><td>0              </td><td>0              </td></tr>\n",
       "\t<tr><td>TCGA-AN-A046-01</td><td>145.16667      </td><td>0              </td><td>0              </td><td>0              </td><td>0              </td><td>0              </td><td>1              </td><td>0              </td><td>0              </td><td>0              </td><td>1              </td></tr>\n",
       "\t<tr><td>TCGA-AN-A0AK-01</td><td> 30.80000      </td><td>0              </td><td>0              </td><td>0              </td><td>0              </td><td>0              </td><td>0              </td><td>0              </td><td>0              </td><td>0              </td><td>0              </td></tr>\n",
       "\t<tr><td>TCGA-AO-A128-01</td><td> 22.86667      </td><td>0              </td><td>0              </td><td>0              </td><td>0              </td><td>0              </td><td>0              </td><td>0              </td><td>0              </td><td>0              </td><td>0              </td></tr>\n",
       "\t<tr><td>TCGA-BH-A18G-01</td><td> 35.30000      </td><td>0              </td><td>0              </td><td>0              </td><td>0              </td><td>0              </td><td>0              </td><td>0              </td><td>0              </td><td>0              </td><td>0              </td></tr>\n",
       "\t<tr><td>TCGA-D8-A1JA-01</td><td> 22.93333      </td><td>0              </td><td>0              </td><td>0              </td><td>0              </td><td>0              </td><td>0              </td><td>0              </td><td>0              </td><td>0              </td><td>0              </td></tr>\n",
       "\t<tr><td>TCGA-D8-A1XK-01</td><td> 23.90000      </td><td>0              </td><td>0              </td><td>0              </td><td>0              </td><td>0              </td><td>0              </td><td>0              </td><td>0              </td><td>0              </td><td>0              </td></tr>\n",
       "\t<tr><td>TCGA-D8-A27G-01</td><td> 24.16667      </td><td>0              </td><td>0              </td><td>0              </td><td>0              </td><td>0              </td><td>0              </td><td>0              </td><td>0              </td><td>0              </td><td>0              </td></tr>\n",
       "</tbody>\n",
       "</table>\n"
      ],
      "text/latex": [
       "\\begin{tabular}{r|llllllllllll}\n",
       " Tumor\\_Sample\\_Barcode & TMB & Window\\_1 & Window\\_2 & Window\\_3 & Window\\_4 & Window\\_5 & Window\\_6 & Window\\_7 & Window\\_8 & Window\\_9 & Window\\_10\\\\\n",
       "\\hline\n",
       "\t TCGA-A2-A0T5-01 &  36.03333       & 0               & 0               & 0               & 0               & 0               & 0               & 0               & 0               & 0               & 0              \\\\\n",
       "\t TCGA-A8-A09Z-01 &  33.46667       & 0               & 0               & 0               & 0               & 0               & 0               & 0               & 0               & 0               & 0              \\\\\n",
       "\t TCGA-A8-A0A6-01 &  68.36667       & 0               & 0               & 0               & 0               & 0               & 1               & 0               & 0               & 0               & 0              \\\\\n",
       "\t TCGA-AC-A23H-01 & 115.90000       & 0               & 0               & 0               & 0               & 1               & 0               & 0               & 0               & 0               & 0              \\\\\n",
       "\t TCGA-AN-A046-01 & 145.16667       & 0               & 0               & 0               & 0               & 0               & 1               & 0               & 0               & 0               & 1              \\\\\n",
       "\t TCGA-AN-A0AK-01 &  30.80000       & 0               & 0               & 0               & 0               & 0               & 0               & 0               & 0               & 0               & 0              \\\\\n",
       "\t TCGA-AO-A128-01 &  22.86667       & 0               & 0               & 0               & 0               & 0               & 0               & 0               & 0               & 0               & 0              \\\\\n",
       "\t TCGA-BH-A18G-01 &  35.30000       & 0               & 0               & 0               & 0               & 0               & 0               & 0               & 0               & 0               & 0              \\\\\n",
       "\t TCGA-D8-A1JA-01 &  22.93333       & 0               & 0               & 0               & 0               & 0               & 0               & 0               & 0               & 0               & 0              \\\\\n",
       "\t TCGA-D8-A1XK-01 &  23.90000       & 0               & 0               & 0               & 0               & 0               & 0               & 0               & 0               & 0               & 0              \\\\\n",
       "\t TCGA-D8-A27G-01 &  24.16667       & 0               & 0               & 0               & 0               & 0               & 0               & 0               & 0               & 0               & 0              \\\\\n",
       "\\end{tabular}\n"
      ],
      "text/markdown": [
       "\n",
       "Tumor_Sample_Barcode | TMB | Window_1 | Window_2 | Window_3 | Window_4 | Window_5 | Window_6 | Window_7 | Window_8 | Window_9 | Window_10 | \n",
       "|---|---|---|---|---|---|---|---|---|---|---|\n",
       "| TCGA-A2-A0T5-01 |  36.03333       | 0               | 0               | 0               | 0               | 0               | 0               | 0               | 0               | 0               | 0               | \n",
       "| TCGA-A8-A09Z-01 |  33.46667       | 0               | 0               | 0               | 0               | 0               | 0               | 0               | 0               | 0               | 0               | \n",
       "| TCGA-A8-A0A6-01 |  68.36667       | 0               | 0               | 0               | 0               | 0               | 1               | 0               | 0               | 0               | 0               | \n",
       "| TCGA-AC-A23H-01 | 115.90000       | 0               | 0               | 0               | 0               | 1               | 0               | 0               | 0               | 0               | 0               | \n",
       "| TCGA-AN-A046-01 | 145.16667       | 0               | 0               | 0               | 0               | 0               | 1               | 0               | 0               | 0               | 1               | \n",
       "| TCGA-AN-A0AK-01 |  30.80000       | 0               | 0               | 0               | 0               | 0               | 0               | 0               | 0               | 0               | 0               | \n",
       "| TCGA-AO-A128-01 |  22.86667       | 0               | 0               | 0               | 0               | 0               | 0               | 0               | 0               | 0               | 0               | \n",
       "| TCGA-BH-A18G-01 |  35.30000       | 0               | 0               | 0               | 0               | 0               | 0               | 0               | 0               | 0               | 0               | \n",
       "| TCGA-D8-A1JA-01 |  22.93333       | 0               | 0               | 0               | 0               | 0               | 0               | 0               | 0               | 0               | 0               | \n",
       "| TCGA-D8-A1XK-01 |  23.90000       | 0               | 0               | 0               | 0               | 0               | 0               | 0               | 0               | 0               | 0               | \n",
       "| TCGA-D8-A27G-01 |  24.16667       | 0               | 0               | 0               | 0               | 0               | 0               | 0               | 0               | 0               | 0               | \n",
       "\n",
       "\n"
      ],
      "text/plain": [
       "   Tumor_Sample_Barcode TMB       Window_1 Window_2 Window_3 Window_4 Window_5\n",
       "1  TCGA-A2-A0T5-01       36.03333 0        0        0        0        0       \n",
       "2  TCGA-A8-A09Z-01       33.46667 0        0        0        0        0       \n",
       "3  TCGA-A8-A0A6-01       68.36667 0        0        0        0        0       \n",
       "4  TCGA-AC-A23H-01      115.90000 0        0        0        0        1       \n",
       "5  TCGA-AN-A046-01      145.16667 0        0        0        0        0       \n",
       "6  TCGA-AN-A0AK-01       30.80000 0        0        0        0        0       \n",
       "7  TCGA-AO-A128-01       22.86667 0        0        0        0        0       \n",
       "8  TCGA-BH-A18G-01       35.30000 0        0        0        0        0       \n",
       "9  TCGA-D8-A1JA-01       22.93333 0        0        0        0        0       \n",
       "10 TCGA-D8-A1XK-01       23.90000 0        0        0        0        0       \n",
       "11 TCGA-D8-A27G-01       24.16667 0        0        0        0        0       \n",
       "   Window_6 Window_7 Window_8 Window_9 Window_10\n",
       "1  0        0        0        0        0        \n",
       "2  0        0        0        0        0        \n",
       "3  1        0        0        0        0        \n",
       "4  0        0        0        0        0        \n",
       "5  1        0        0        0        1        \n",
       "6  0        0        0        0        0        \n",
       "7  0        0        0        0        0        \n",
       "8  0        0        0        0        0        \n",
       "9  0        0        0        0        0        \n",
       "10 0        0        0        0        0        \n",
       "11 0        0        0        0        0        "
      ]
     },
     "metadata": {},
     "output_type": "display_data"
    }
   ],
   "source": [
    "training_matrix %>% \n",
    "    filter(TMB > 20)"
   ]
  },
  {
   "cell_type": "code",
   "execution_count": 268,
   "metadata": {},
   "outputs": [
    {
     "data": {
      "text/html": [
       "<table>\n",
       "<thead><tr><th scope=col>TMB</th></tr></thead>\n",
       "<tbody>\n",
       "\t<tr><td> 68.36667</td></tr>\n",
       "\t<tr><td>115.90000</td></tr>\n",
       "\t<tr><td>145.16667</td></tr>\n",
       "\t<tr><td> 24.16667</td></tr>\n",
       "</tbody>\n",
       "</table>\n"
      ],
      "text/latex": [
       "\\begin{tabular}{r|l}\n",
       " TMB\\\\\n",
       "\\hline\n",
       "\t  68.36667\\\\\n",
       "\t 115.90000\\\\\n",
       "\t 145.16667\\\\\n",
       "\t  24.16667\\\\\n",
       "\\end{tabular}\n"
      ],
      "text/markdown": [
       "\n",
       "TMB | \n",
       "|---|---|---|---|\n",
       "|  68.36667 | \n",
       "| 115.90000 | \n",
       "| 145.16667 | \n",
       "|  24.16667 | \n",
       "\n",
       "\n"
      ],
      "text/plain": [
       "  TMB      \n",
       "1  68.36667\n",
       "2 115.90000\n",
       "3 145.16667\n",
       "4  24.16667"
      ]
     },
     "metadata": {},
     "output_type": "display_data"
    }
   ],
   "source": [
    "training_matrix[which((training_matrix %>% \n",
    "    select(starts_with(\"Window\")) %>% \n",
    "    rowSums())>1),\"TMB\"]"
   ]
  },
  {
   "cell_type": "code",
   "execution_count": 259,
   "metadata": {},
   "outputs": [],
   "source": [
    "windows <- paste0(\"Window_\", 1:(ncol(training_matrix)-2))\n",
    "formula <- as.formula(paste(\"TMB ~\", paste(windows, collapse = \"+\")))\n",
    "tcga_brca_fit <- lm(formula, training_matrix)"
   ]
  },
  {
   "cell_type": "code",
   "execution_count": 260,
   "metadata": {},
   "outputs": [
    {
     "data": {
      "text/plain": [
       "\n",
       "Call:\n",
       "lm(formula = formula, data = training_matrix)\n",
       "\n",
       "Coefficients:\n",
       "(Intercept)     Window_1     Window_2     Window_3     Window_4     Window_5  \n",
       "     1.6634           NA           NA           NA           NA           NA  \n",
       "   Window_6     Window_7     Window_8     Window_9    Window_10    Window_11  \n",
       "         NA           NA           NA     103.6957     114.7901           NA  \n",
       "  Window_12    Window_13    Window_14    Window_15    Window_16    Window_17  \n",
       "         NA           NA      28.5967           NA           NA           NA  \n",
       "  Window_18    Window_19    Window_20    Window_21    Window_22    Window_23  \n",
       "         NA           NA           NA           NA           NA           NA  \n",
       "  Window_24    Window_25    Window_26    Window_27    Window_28    Window_29  \n",
       "    -0.3300           NA       7.6366       8.3033      16.6366       1.6533  \n",
       "  Window_30    Window_31    Window_32    Window_33    Window_34    Window_35  \n",
       "    21.1800       0.9144      10.0811           NA           NA           NA  \n",
       "  Window_36    Window_37    Window_38    Window_39    Window_40    Window_41  \n",
       "         NA           NA           NA           NA           NA           NA  \n",
       "  Window_42    Window_43    Window_44    Window_45    Window_46    Window_47  \n",
       "         NA           NA           NA           NA           NA           NA  \n",
       "  Window_48    Window_49    Window_50    Window_51    Window_52    Window_53  \n",
       "         NA           NA           NA           NA           NA           NA  \n",
       "  Window_54    Window_55    Window_56    Window_57    Window_58    Window_59  \n",
       "         NA           NA           NA           NA           NA           NA  \n",
       "  Window_60    Window_61    Window_62    Window_63    Window_64    Window_65  \n",
       "         NA           NA           NA           NA           NA           NA  \n",
       "  Window_66    Window_67    Window_68    Window_69    Window_70    Window_71  \n",
       "         NA           NA           NA           NA           NA           NA  \n",
       "  Window_72    Window_73    Window_74    Window_75    Window_76    Window_77  \n",
       "         NA           NA           NA           NA           NA           NA  \n",
       "  Window_78    Window_79    Window_80    Window_81    Window_82    Window_83  \n",
       "         NA           NA           NA           NA           NA           NA  \n",
       "  Window_84    Window_85    Window_86    Window_87    Window_88    Window_89  \n",
       "         NA           NA           NA           NA           NA           NA  \n",
       "  Window_90    Window_91    Window_92    Window_93    Window_94    Window_95  \n",
       "         NA           NA           NA           NA           NA           NA  \n",
       "  Window_96    Window_97    Window_98    Window_99   Window_100  \n",
       "         NA           NA           NA           NA           NA  \n"
      ]
     },
     "metadata": {},
     "output_type": "display_data"
    }
   ],
   "source": [
    "tcga_brca_fit"
   ]
  },
  {
   "cell_type": "code",
   "execution_count": null,
   "metadata": {},
   "outputs": [],
   "source": []
  }
 ],
 "metadata": {
  "kernelspec": {
   "display_name": "R",
   "language": "R",
   "name": "ir"
  },
  "language_info": {
   "codemirror_mode": "r",
   "file_extension": ".r",
   "mimetype": "text/x-r-source",
   "name": "R",
   "pygments_lexer": "r",
   "version": "3.5.1"
  }
 },
 "nbformat": 4,
 "nbformat_minor": 2
}
