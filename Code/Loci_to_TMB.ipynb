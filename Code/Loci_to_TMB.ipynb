{
 "cells": [
  {
   "cell_type": "markdown",
   "metadata": {},
   "source": [
    "## 4. Producing a Training Matrix"
   ]
  },
  {
   "cell_type": "markdown",
   "metadata": {},
   "source": [
    "We want to take the sliding window approaches detailed above detecting genomic loci of interest, and move towards using those regions of interest to predict TMB as accurately as possible."
   ]
  },
  {
   "cell_type": "code",
   "execution_count": 1,
   "metadata": {},
   "outputs": [],
   "source": [
    "setwd(\"/Users/jacobbradley/Documents/CCG/Code\")"
   ]
  },
  {
   "cell_type": "markdown",
   "metadata": {},
   "source": [
    "### Packages"
   ]
  },
  {
   "cell_type": "code",
   "execution_count": 2,
   "metadata": {
    "collapsed": true
   },
   "outputs": [
    {
     "name": "stdout",
     "output_type": "stream",
     "text": [
      "\n",
      "The downloaded binary packages are in\n",
      "\t/var/folders/g9/9x6m35fn5ydf88vdlm9n1vg80000gn/T//RtmpmUBMZ9/downloaded_packages\n"
     ]
    },
    {
     "name": "stderr",
     "output_type": "stream",
     "text": [
      "── Attaching packages ─────────────────────────────────────── tidyverse 1.2.1 ──\n",
      "✔ ggplot2 3.1.0     ✔ purrr   0.2.5\n",
      "✔ tibble  1.4.2     ✔ dplyr   0.7.8\n",
      "✔ tidyr   0.8.2     ✔ stringr 1.3.1\n",
      "✔ readr   1.1.1     ✔ forcats 0.3.0\n",
      "── Conflicts ────────────────────────────────────────── tidyverse_conflicts() ──\n",
      "✖ dplyr::filter() masks stats::filter()\n",
      "✖ dplyr::lag()    masks stats::lag()\n",
      "Loading required namespace: BiocManager\n",
      "Bioconductor version 3.8 (BiocManager 1.30.3), R 3.5.1 (2018-07-02)\n",
      "Update old packages: 'AnnotationHub', 'backports', 'BH', 'BiocManager',\n",
      "  'BiocParallel', 'Biostrings', 'biovizBase', 'broom', 'callr', 'circlize',\n",
      "  'class', 'clusterProfiler', 'codetools', 'cowplot', 'DESeq', 'EDASeq',\n",
      "  'edgeR', 'ELMER', 'ensembldb', 'foreign', 'gdsfmt', 'GenomicAlignments',\n",
      "  'gganimate', 'ggpubr', 'git2r', 'grImport', 'Gviz', 'haven', 'htmlTable',\n",
      "  'httpuv', 'httr', 'IRdisplay', 'IRkernel', 'jsonlite', 'knitr', 'lattice',\n",
      "  'limma', 'markdown', 'MASS', 'Matrix', 'mclust', 'mgcv', 'mitml', 'openssl',\n",
      "  'pathview', 'pillar', 'processx', 'ps', 'quantreg', 'RcppEigen', 'readr',\n",
      "  'readxl', 'repr', 'rmarkdown', 'rtracklayer', 'rvcheck', 'survival', 'sva',\n",
      "  'tibble', 'tweenr', 'units', 'VariantAnnotation'\n",
      "Loading required package: BiocGenerics\n",
      "Loading required package: parallel\n",
      "\n",
      "Attaching package: ‘BiocGenerics’\n",
      "\n",
      "The following objects are masked from ‘package:parallel’:\n",
      "\n",
      "    clusterApply, clusterApplyLB, clusterCall, clusterEvalQ,\n",
      "    clusterExport, clusterMap, parApply, parCapply, parLapply,\n",
      "    parLapplyLB, parRapply, parSapply, parSapplyLB\n",
      "\n",
      "The following objects are masked from ‘package:dplyr’:\n",
      "\n",
      "    combine, intersect, setdiff, union\n",
      "\n",
      "The following objects are masked from ‘package:stats’:\n",
      "\n",
      "    IQR, mad, sd, var, xtabs\n",
      "\n",
      "The following objects are masked from ‘package:base’:\n",
      "\n",
      "    anyDuplicated, append, as.data.frame, basename, cbind, colMeans,\n",
      "    colnames, colSums, dirname, do.call, duplicated, eval, evalq,\n",
      "    Filter, Find, get, grep, grepl, intersect, is.unsorted, lapply,\n",
      "    lengths, Map, mapply, match, mget, order, paste, pmax, pmax.int,\n",
      "    pmin, pmin.int, Position, rank, rbind, Reduce, rowMeans, rownames,\n",
      "    rowSums, sapply, setdiff, sort, table, tapply, union, unique,\n",
      "    unsplit, which, which.max, which.min\n",
      "\n",
      "Loading required package: S4Vectors\n",
      "Loading required package: stats4\n",
      "\n",
      "Attaching package: ‘S4Vectors’\n",
      "\n",
      "The following objects are masked from ‘package:dplyr’:\n",
      "\n",
      "    first, rename\n",
      "\n",
      "The following object is masked from ‘package:tidyr’:\n",
      "\n",
      "    expand\n",
      "\n",
      "The following object is masked from ‘package:base’:\n",
      "\n",
      "    expand.grid\n",
      "\n",
      "Loading required package: IRanges\n",
      "\n",
      "Attaching package: ‘IRanges’\n",
      "\n",
      "The following objects are masked from ‘package:dplyr’:\n",
      "\n",
      "    collapse, desc, slice\n",
      "\n",
      "The following object is masked from ‘package:purrr’:\n",
      "\n",
      "    reduce\n",
      "\n",
      "Loading required package: GenomeInfoDb\n",
      "Loading required package: GenomicRanges\n",
      "Loading required package: Biostrings\n",
      "Loading required package: XVector\n",
      "\n",
      "Attaching package: ‘XVector’\n",
      "\n",
      "The following object is masked from ‘package:purrr’:\n",
      "\n",
      "    compact\n",
      "\n",
      "\n",
      "Attaching package: ‘Biostrings’\n",
      "\n",
      "The following object is masked from ‘package:base’:\n",
      "\n",
      "    strsplit\n",
      "\n",
      "Loading required package: rtracklayer\n"
     ]
    }
   ],
   "source": [
    "install.packages(\"tidyverse\")\n",
    "library(tidyverse)\n",
    "# Data Handling\n",
    "\n",
    "if (!requireNamespace(\"BiocManager\"))\n",
    "    install.packages(\"BiocManager\")\n",
    "BiocManager::install()\n",
    "library(BiocManager)\n",
    "# General bioinformatics packages\n",
    "\n",
    "library(BSgenome)\n",
    "library(BSgenome.Hsapiens.UCSC.hg19)\n",
    "# Human genome build GChr37"
   ]
  },
  {
   "cell_type": "code",
   "execution_count": 3,
   "metadata": {},
   "outputs": [],
   "source": [
    "source(\"TMB_Funcs.txt\")\n",
    "# My Stuff!"
   ]
  },
  {
   "cell_type": "markdown",
   "metadata": {},
   "source": [
    "### Producing a training matrix"
   ]
  },
  {
   "cell_type": "code",
   "execution_count": 4,
   "metadata": {},
   "outputs": [],
   "source": [
    "genome <- BSgenome.Hsapiens.UCSC.hg19"
   ]
  },
  {
   "cell_type": "code",
   "execution_count": 17,
   "metadata": {
    "collapsed": true
   },
   "outputs": [
    {
     "name": "stderr",
     "output_type": "stream",
     "text": [
      "Warning message:\n",
      "“Missing column names filled in: 'X54' [54]”Parsed with column specification:\n",
      "cols(\n",
      "  .default = col_character(),\n",
      "  Entrez_Gene_Id = col_integer(),\n",
      "  Start_Position = col_integer(),\n",
      "  End_Position = col_integer(),\n",
      "  Score = col_integer(),\n",
      "  t_ref_count = col_integer(),\n",
      "  t_alt_count = col_integer(),\n",
      "  Protein_position = col_integer(),\n",
      "  Hotspot = col_integer(),\n",
      "  stop_WU = col_integer(),\n",
      "  X54 = col_double(),\n",
      "  tumor_vaf = col_double(),\n",
      "  normal_ref_reads = col_integer(),\n",
      "  start_WU = col_integer(),\n",
      "  strand_WU = col_integer(),\n",
      "  tumors_var_reads = col_integer(),\n",
      "  normal_vaf = col_double(),\n",
      "  tumor_ref_reads = col_integer(),\n",
      "  normal_var_reads = col_integer()\n",
      ")\n",
      "See spec(...) for full column specifications.\n",
      "Warning message in rbind(names(probs), probs_f):\n",
      "“number of columns of result is not a multiple of vector length (arg 1)”Warning message:\n",
      "“3282 parsing failures.\n",
      "row # A tibble: 5 x 5 col     row col     expected  actual file                                           expected   <int> <chr>   <chr>     <chr>  <chr>                                          actual 1 88850 stop_WU an integ… known  '/Volumes/CCG8/processed_data/brca_tcga/data_… file 2 88850 X54     a double  BCR    '/Volumes/CCG8/processed_data/brca_tcga/data_… row 3 88851 stop_WU an integ… known  '/Volumes/CCG8/processed_data/brca_tcga/data_… col 4 88851 X54     a double  BCR    '/Volumes/CCG8/processed_data/brca_tcga/data_… expected 5 88852 stop_WU an integ… known  '/Volumes/CCG8/processed_data/brca_tcga/data_…\n",
      "... ................. ... ............................................................................... ........ ............................................................................... ...... ............................................................................... .... ............................................................................... ... ............................................................................... ... ............................................................................... ........ ...............................................................................\n",
      "See problems(...) for more details.\n",
      "”"
     ]
    }
   ],
   "source": [
    "new_data <- read_tsv(\"/Volumes/CCG8/processed_data/brca_tcga/data_mutations_extended.txt\")\n",
    "new_data <- abridge(new_data)"
   ]
  },
  {
   "cell_type": "code",
   "execution_count": 12,
   "metadata": {},
   "outputs": [],
   "source": [
    "starting_window <- 1000000; coverage <- 1; zoom <- 10"
   ]
  },
  {
   "cell_type": "code",
   "execution_count": 220,
   "metadata": {
    "collapsed": true
   },
   "outputs": [
    {
     "name": "stderr",
     "output_type": "stream",
     "text": [
      "Warning message:\n",
      "“Unnamed `col_types` should have the same length as `col_names`. Using smaller of the two.”Warning message in rbind(names(probs), probs_f):\n",
      "“number of columns of result is not a multiple of vector length (arg 1)”Warning message:\n",
      "“12583 parsing failures.\n",
      "row # A tibble: 5 x 5 col     row col   expected  actual    file                                          expected   <int> <chr> <chr>     <chr>     <chr>                                         actual 1     1 <NA>  6 columns 7 columns '/Users/jacobbradley/Documents/CCG/Data/tcga… file 2     2 <NA>  6 columns 7 columns '/Users/jacobbradley/Documents/CCG/Data/tcga… row 3     3 <NA>  6 columns 7 columns '/Users/jacobbradley/Documents/CCG/Data/tcga… col 4     4 <NA>  6 columns 7 columns '/Users/jacobbradley/Documents/CCG/Data/tcga… expected 5     5 <NA>  6 columns 7 columns '/Users/jacobbradley/Documents/CCG/Data/tcga…\n",
      "... ................. ... ............................................................................... ........ ............................................................................... ...... ............................................................................... .... ............................................................................... ... ............................................................................... ... ............................................................................... ........ ...............................................................................\n",
      "See problems(...) for more details.\n",
      "”"
     ]
    }
   ],
   "source": [
    "#tcga_brca_slide <- RLL_slide(maf_file = new_data, starting_window = 1000000, iterations = 4, zoom = 10, coverage = 1)\n",
    "#write_tsv(path = '/Users/jacobbradley/Documents/CCG/Data/tcga_brca_slide', tcga_brca_slide  %>%  unnest())\n",
    "tcga_brca_slide <- read_tsv(\"/Users/jacobbradley/Documents/CCG/Data/tcga_brca_slide\", col_types = list(col_guess(), col_guess(), col_character(), col_guess(), col_guess(), col_guess())) %>% \n",
    "    group_by(iteration, jump_length) %>% \n",
    "    nest() %>% \n",
    "    select(iteration, data, jump_length)"
   ]
  },
  {
   "cell_type": "code",
   "execution_count": 223,
   "metadata": {},
   "outputs": [
    {
     "ename": "ERROR",
     "evalue": "Error in UseMethod(\"mutate_\"): no applicable method for 'mutate_' applied to an object of class \"c('double', 'numeric')\"\n",
     "output_type": "error",
     "traceback": [
      "Error in UseMethod(\"mutate_\"): no applicable method for 'mutate_' applied to an object of class \"c('double', 'numeric')\"\nTraceback:\n",
      "1. RLL_windows(tcga_brca_slide, 1e+06, 1)",
      "2. mutate(slide_run, windows = map(data, ~getWindows(.x, starting_window, \n .     coverage)))   # at line 2 of file <text>",
      "3. mutate.default(slide_run, windows = map(data, ~getWindows(.x, \n .     starting_window, coverage)))",
      "4. mutate_(.data, .dots = compat_as_lazy_dots(...))"
     ]
    }
   ],
   "source": [
    "tcga_brca_windows <- RLL_windows(tcga_brca_slide, 1000000, 1)"
   ]
  },
  {
   "cell_type": "code",
   "execution_count": 187,
   "metadata": {},
   "outputs": [],
   "source": [
    "tcga_brca_matrices <- RLL_matrices(new_data, tcga_brca_windows, starting_window = 1000000, coverage = 1)"
   ]
  },
  {
   "cell_type": "code",
   "execution_count": 206,
   "metadata": {
    "scrolled": true
   },
   "outputs": [
    {
     "data": {
      "text/html": [
       "<table>\n",
       "<thead><tr><th scope=col>Tumor_Sample_Barcode</th><th scope=col>TMB</th><th scope=col>Window_1</th><th scope=col>Window_2</th><th scope=col>Window_3</th><th scope=col>Window_4</th><th scope=col>Window_5</th><th scope=col>sum</th></tr></thead>\n",
       "<tbody>\n",
       "\t<tr><td>TCGA-A2-A0T5-01</td><td> 36.03333      </td><td>0              </td><td>2              </td><td>0              </td><td>0              </td><td>1              </td><td> 3             </td></tr>\n",
       "\t<tr><td>TCGA-A8-A09Z-01</td><td> 33.46667      </td><td>0              </td><td>1              </td><td>0              </td><td>1              </td><td>3              </td><td> 5             </td></tr>\n",
       "\t<tr><td>TCGA-A8-A0A6-01</td><td> 68.36667      </td><td>3              </td><td>4              </td><td>1              </td><td>2              </td><td>0              </td><td>10             </td></tr>\n",
       "\t<tr><td>TCGA-AC-A23H-01</td><td>115.90000      </td><td>0              </td><td>1              </td><td>0              </td><td>4              </td><td>4              </td><td> 9             </td></tr>\n",
       "\t<tr><td>TCGA-AN-A046-01</td><td>145.16667      </td><td>1              </td><td>5              </td><td>2              </td><td>7              </td><td>8              </td><td>23             </td></tr>\n",
       "\t<tr><td>TCGA-AN-A0AK-01</td><td> 30.80000      </td><td>0              </td><td>0              </td><td>0              </td><td>0              </td><td>3              </td><td> 3             </td></tr>\n",
       "\t<tr><td>TCGA-AO-A03M-01</td><td> 18.43333      </td><td>0              </td><td>0              </td><td>1              </td><td>0              </td><td>0              </td><td> 1             </td></tr>\n",
       "\t<tr><td>TCGA-AO-A128-01</td><td> 22.86667      </td><td>0              </td><td>0              </td><td>0              </td><td>0              </td><td>2              </td><td> 2             </td></tr>\n",
       "\t<tr><td>TCGA-BH-A0B6-01</td><td> 16.53333      </td><td>0              </td><td>1              </td><td>0              </td><td>0              </td><td>0              </td><td> 1             </td></tr>\n",
       "\t<tr><td>TCGA-BH-A0HF-01</td><td> 18.60000      </td><td>0              </td><td>0              </td><td>0              </td><td>0              </td><td>3              </td><td> 3             </td></tr>\n",
       "\t<tr><td>TCGA-BH-A18G-01</td><td> 35.30000      </td><td>0              </td><td>1              </td><td>0              </td><td>0              </td><td>2              </td><td> 3             </td></tr>\n",
       "\t<tr><td>TCGA-C8-A26Y-01</td><td> 17.23333      </td><td>0              </td><td>0              </td><td>0              </td><td>1              </td><td>0              </td><td> 1             </td></tr>\n",
       "\t<tr><td>TCGA-D8-A1J8-01</td><td> 18.30000      </td><td>0              </td><td>0              </td><td>0              </td><td>1              </td><td>0              </td><td> 1             </td></tr>\n",
       "\t<tr><td>TCGA-D8-A1JA-01</td><td> 22.93333      </td><td>0              </td><td>1              </td><td>0              </td><td>0              </td><td>0              </td><td> 1             </td></tr>\n",
       "\t<tr><td>TCGA-D8-A1XK-01</td><td> 23.90000      </td><td>0              </td><td>0              </td><td>0              </td><td>0              </td><td>2              </td><td> 2             </td></tr>\n",
       "\t<tr><td>TCGA-D8-A1XQ-01</td><td> 18.86667      </td><td>0              </td><td>1              </td><td>0              </td><td>0              </td><td>3              </td><td> 4             </td></tr>\n",
       "\t<tr><td>TCGA-D8-A27G-01</td><td> 24.16667      </td><td>0              </td><td>1              </td><td>0              </td><td>3              </td><td>1              </td><td> 5             </td></tr>\n",
       "</tbody>\n",
       "</table>\n"
      ],
      "text/latex": [
       "\\begin{tabular}{r|llllllll}\n",
       " Tumor\\_Sample\\_Barcode & TMB & Window\\_1 & Window\\_2 & Window\\_3 & Window\\_4 & Window\\_5 & sum\\\\\n",
       "\\hline\n",
       "\t TCGA-A2-A0T5-01 &  36.03333       & 0               & 2               & 0               & 0               & 1               &  3             \\\\\n",
       "\t TCGA-A8-A09Z-01 &  33.46667       & 0               & 1               & 0               & 1               & 3               &  5             \\\\\n",
       "\t TCGA-A8-A0A6-01 &  68.36667       & 3               & 4               & 1               & 2               & 0               & 10             \\\\\n",
       "\t TCGA-AC-A23H-01 & 115.90000       & 0               & 1               & 0               & 4               & 4               &  9             \\\\\n",
       "\t TCGA-AN-A046-01 & 145.16667       & 1               & 5               & 2               & 7               & 8               & 23             \\\\\n",
       "\t TCGA-AN-A0AK-01 &  30.80000       & 0               & 0               & 0               & 0               & 3               &  3             \\\\\n",
       "\t TCGA-AO-A03M-01 &  18.43333       & 0               & 0               & 1               & 0               & 0               &  1             \\\\\n",
       "\t TCGA-AO-A128-01 &  22.86667       & 0               & 0               & 0               & 0               & 2               &  2             \\\\\n",
       "\t TCGA-BH-A0B6-01 &  16.53333       & 0               & 1               & 0               & 0               & 0               &  1             \\\\\n",
       "\t TCGA-BH-A0HF-01 &  18.60000       & 0               & 0               & 0               & 0               & 3               &  3             \\\\\n",
       "\t TCGA-BH-A18G-01 &  35.30000       & 0               & 1               & 0               & 0               & 2               &  3             \\\\\n",
       "\t TCGA-C8-A26Y-01 &  17.23333       & 0               & 0               & 0               & 1               & 0               &  1             \\\\\n",
       "\t TCGA-D8-A1J8-01 &  18.30000       & 0               & 0               & 0               & 1               & 0               &  1             \\\\\n",
       "\t TCGA-D8-A1JA-01 &  22.93333       & 0               & 1               & 0               & 0               & 0               &  1             \\\\\n",
       "\t TCGA-D8-A1XK-01 &  23.90000       & 0               & 0               & 0               & 0               & 2               &  2             \\\\\n",
       "\t TCGA-D8-A1XQ-01 &  18.86667       & 0               & 1               & 0               & 0               & 3               &  4             \\\\\n",
       "\t TCGA-D8-A27G-01 &  24.16667       & 0               & 1               & 0               & 3               & 1               &  5             \\\\\n",
       "\\end{tabular}\n"
      ],
      "text/markdown": [
       "\n",
       "Tumor_Sample_Barcode | TMB | Window_1 | Window_2 | Window_3 | Window_4 | Window_5 | sum | \n",
       "|---|---|---|---|---|---|---|---|---|---|---|---|---|---|---|---|---|\n",
       "| TCGA-A2-A0T5-01 |  36.03333       | 0               | 2               | 0               | 0               | 1               |  3              | \n",
       "| TCGA-A8-A09Z-01 |  33.46667       | 0               | 1               | 0               | 1               | 3               |  5              | \n",
       "| TCGA-A8-A0A6-01 |  68.36667       | 3               | 4               | 1               | 2               | 0               | 10              | \n",
       "| TCGA-AC-A23H-01 | 115.90000       | 0               | 1               | 0               | 4               | 4               |  9              | \n",
       "| TCGA-AN-A046-01 | 145.16667       | 1               | 5               | 2               | 7               | 8               | 23              | \n",
       "| TCGA-AN-A0AK-01 |  30.80000       | 0               | 0               | 0               | 0               | 3               |  3              | \n",
       "| TCGA-AO-A03M-01 |  18.43333       | 0               | 0               | 1               | 0               | 0               |  1              | \n",
       "| TCGA-AO-A128-01 |  22.86667       | 0               | 0               | 0               | 0               | 2               |  2              | \n",
       "| TCGA-BH-A0B6-01 |  16.53333       | 0               | 1               | 0               | 0               | 0               |  1              | \n",
       "| TCGA-BH-A0HF-01 |  18.60000       | 0               | 0               | 0               | 0               | 3               |  3              | \n",
       "| TCGA-BH-A18G-01 |  35.30000       | 0               | 1               | 0               | 0               | 2               |  3              | \n",
       "| TCGA-C8-A26Y-01 |  17.23333       | 0               | 0               | 0               | 1               | 0               |  1              | \n",
       "| TCGA-D8-A1J8-01 |  18.30000       | 0               | 0               | 0               | 1               | 0               |  1              | \n",
       "| TCGA-D8-A1JA-01 |  22.93333       | 0               | 1               | 0               | 0               | 0               |  1              | \n",
       "| TCGA-D8-A1XK-01 |  23.90000       | 0               | 0               | 0               | 0               | 2               |  2              | \n",
       "| TCGA-D8-A1XQ-01 |  18.86667       | 0               | 1               | 0               | 0               | 3               |  4              | \n",
       "| TCGA-D8-A27G-01 |  24.16667       | 0               | 1               | 0               | 3               | 1               |  5              | \n",
       "\n",
       "\n"
      ],
      "text/plain": [
       "   Tumor_Sample_Barcode TMB       Window_1 Window_2 Window_3 Window_4 Window_5\n",
       "1  TCGA-A2-A0T5-01       36.03333 0        2        0        0        1       \n",
       "2  TCGA-A8-A09Z-01       33.46667 0        1        0        1        3       \n",
       "3  TCGA-A8-A0A6-01       68.36667 3        4        1        2        0       \n",
       "4  TCGA-AC-A23H-01      115.90000 0        1        0        4        4       \n",
       "5  TCGA-AN-A046-01      145.16667 1        5        2        7        8       \n",
       "6  TCGA-AN-A0AK-01       30.80000 0        0        0        0        3       \n",
       "7  TCGA-AO-A03M-01       18.43333 0        0        1        0        0       \n",
       "8  TCGA-AO-A128-01       22.86667 0        0        0        0        2       \n",
       "9  TCGA-BH-A0B6-01       16.53333 0        1        0        0        0       \n",
       "10 TCGA-BH-A0HF-01       18.60000 0        0        0        0        3       \n",
       "11 TCGA-BH-A18G-01       35.30000 0        1        0        0        2       \n",
       "12 TCGA-C8-A26Y-01       17.23333 0        0        0        1        0       \n",
       "13 TCGA-D8-A1J8-01       18.30000 0        0        0        1        0       \n",
       "14 TCGA-D8-A1JA-01       22.93333 0        1        0        0        0       \n",
       "15 TCGA-D8-A1XK-01       23.90000 0        0        0        0        2       \n",
       "16 TCGA-D8-A1XQ-01       18.86667 0        1        0        0        3       \n",
       "17 TCGA-D8-A27G-01       24.16667 0        1        0        3        1       \n",
       "   sum\n",
       "1   3 \n",
       "2   5 \n",
       "3  10 \n",
       "4   9 \n",
       "5  23 \n",
       "6   3 \n",
       "7   1 \n",
       "8   2 \n",
       "9   1 \n",
       "10  3 \n",
       "11  3 \n",
       "12  1 \n",
       "13  1 \n",
       "14  1 \n",
       "15  2 \n",
       "16  4 \n",
       "17  5 "
      ]
     },
     "metadata": {},
     "output_type": "display_data"
    }
   ],
   "source": [
    "tcga_brca_matrices$matrices[[2]] %>% \n",
    "    filter(TMB > 15) %>%\n",
    "    mutate(., sum = rowSums(select(., -c(\"Tumor_Sample_Barcode\", \"TMB\")))) #%>% \n",
    "   # select(TMB, sum)"
   ]
  },
  {
   "cell_type": "code",
   "execution_count": null,
   "metadata": {},
   "outputs": [],
   "source": [
    "RLL_models <- function(rll_matrices) {\n",
    "    if (!(\"matrices\" %in% colnames(rll_matrices))) {\n",
    "        rll_matrices <- RLL_matrices()\n",
    "    }\n",
    "    \n",
    "    return(mutate(rll_matrices, models = map(matrices, getModel)))\n",
    "}"
   ]
  },
  {
   "cell_type": "code",
   "execution_count": 207,
   "metadata": {},
   "outputs": [],
   "source": [
    "tcga_brca_models <- RLL_models(tcga_brca_matrices)"
   ]
  },
  {
   "cell_type": "code",
   "execution_count": 208,
   "metadata": {},
   "outputs": [
    {
     "data": {
      "text/html": [
       "<table>\n",
       "<thead><tr><th scope=col>iteration</th><th scope=col>r.squared</th><th scope=col>adj.r.squared</th><th scope=col>sigma</th><th scope=col>statistic</th><th scope=col>p.value</th><th scope=col>df</th><th scope=col>logLik</th><th scope=col>AIC</th><th scope=col>BIC</th><th scope=col>deviance</th><th scope=col>df.residual</th></tr></thead>\n",
       "<tbody>\n",
       "\t<tr><td>1            </td><td>0.7401116    </td><td>0.7398462    </td><td>3.551863     </td><td>2788.0018    </td><td>1.022833e-288</td><td> 2           </td><td>-2634.368    </td><td>5274.736     </td><td>5289.402     </td><td>12350.800    </td><td>979          </td></tr>\n",
       "\t<tr><td>2            </td><td>0.7801937    </td><td>0.7790665    </td><td>3.273195     </td><td> 692.1447    </td><td>9.845893e-318</td><td> 6           </td><td>-2552.207    </td><td>5118.413     </td><td>5152.633     </td><td>10445.961    </td><td>975          </td></tr>\n",
       "\t<tr><td>3            </td><td>0.8788974    </td><td>0.8773961    </td><td>2.438334     </td><td> 585.4352    </td><td> 0.000000e+00</td><td>13           </td><td>-2259.815    </td><td>4547.630     </td><td>4616.070     </td><td> 5755.217    </td><td>968          </td></tr>\n",
       "\t<tr><td>4            </td><td>0.9398050    </td><td>0.9362947    </td><td>1.757636     </td><td> 267.7285    </td><td> 0.000000e+00</td><td>55           </td><td>-1916.932    </td><td>3945.863     </td><td>4219.624     </td><td> 2860.676    </td><td>926          </td></tr>\n",
       "</tbody>\n",
       "</table>\n"
      ],
      "text/latex": [
       "\\begin{tabular}{r|llllllllllll}\n",
       " iteration & r.squared & adj.r.squared & sigma & statistic & p.value & df & logLik & AIC & BIC & deviance & df.residual\\\\\n",
       "\\hline\n",
       "\t 1             & 0.7401116     & 0.7398462     & 3.551863      & 2788.0018     & 1.022833e-288 &  2            & -2634.368     & 5274.736      & 5289.402      & 12350.800     & 979          \\\\\n",
       "\t 2             & 0.7801937     & 0.7790665     & 3.273195      &  692.1447     & 9.845893e-318 &  6            & -2552.207     & 5118.413      & 5152.633      & 10445.961     & 975          \\\\\n",
       "\t 3             & 0.8788974     & 0.8773961     & 2.438334      &  585.4352     &  0.000000e+00 & 13            & -2259.815     & 4547.630      & 4616.070      &  5755.217     & 968          \\\\\n",
       "\t 4             & 0.9398050     & 0.9362947     & 1.757636      &  267.7285     &  0.000000e+00 & 55            & -1916.932     & 3945.863      & 4219.624      &  2860.676     & 926          \\\\\n",
       "\\end{tabular}\n"
      ],
      "text/markdown": [
       "\n",
       "iteration | r.squared | adj.r.squared | sigma | statistic | p.value | df | logLik | AIC | BIC | deviance | df.residual | \n",
       "|---|---|---|---|\n",
       "| 1             | 0.7401116     | 0.7398462     | 3.551863      | 2788.0018     | 1.022833e-288 |  2            | -2634.368     | 5274.736      | 5289.402      | 12350.800     | 979           | \n",
       "| 2             | 0.7801937     | 0.7790665     | 3.273195      |  692.1447     | 9.845893e-318 |  6            | -2552.207     | 5118.413      | 5152.633      | 10445.961     | 975           | \n",
       "| 3             | 0.8788974     | 0.8773961     | 2.438334      |  585.4352     |  0.000000e+00 | 13            | -2259.815     | 4547.630      | 4616.070      |  5755.217     | 968           | \n",
       "| 4             | 0.9398050     | 0.9362947     | 1.757636      |  267.7285     |  0.000000e+00 | 55            | -1916.932     | 3945.863      | 4219.624      |  2860.676     | 926           | \n",
       "\n",
       "\n"
      ],
      "text/plain": [
       "  iteration r.squared adj.r.squared sigma    statistic p.value       df\n",
       "1 1         0.7401116 0.7398462     3.551863 2788.0018 1.022833e-288  2\n",
       "2 2         0.7801937 0.7790665     3.273195  692.1447 9.845893e-318  6\n",
       "3 3         0.8788974 0.8773961     2.438334  585.4352  0.000000e+00 13\n",
       "4 4         0.9398050 0.9362947     1.757636  267.7285  0.000000e+00 55\n",
       "  logLik    AIC      BIC      deviance  df.residual\n",
       "1 -2634.368 5274.736 5289.402 12350.800 979        \n",
       "2 -2552.207 5118.413 5152.633 10445.961 975        \n",
       "3 -2259.815 4547.630 4616.070  5755.217 968        \n",
       "4 -1916.932 3945.863 4219.624  2860.676 926        "
      ]
     },
     "metadata": {},
     "output_type": "display_data"
    }
   ],
   "source": [
    "tcga_brca_models %>% \n",
    "    mutate(glance = map(models, broom::glance)) %>% \n",
    "    select(iteration, glance) %>% \n",
    "    unnest()"
   ]
  },
  {
   "cell_type": "markdown",
   "metadata": {},
   "source": [
    "### Validate Model Against a New Dataset"
   ]
  },
  {
   "cell_type": "markdown",
   "metadata": {},
   "source": [
    "Here's our new dataset:"
   ]
  },
  {
   "cell_type": "code",
   "execution_count": 80,
   "metadata": {
    "collapsed": true
   },
   "outputs": [
    {
     "name": "stderr",
     "output_type": "stream",
     "text": [
      "Parsed with column specification:\n",
      "cols(\n",
      "  .default = col_character(),\n",
      "  Entrez_Gene_Id = col_integer(),\n",
      "  Start_Position = col_integer(),\n",
      "  End_Position = col_integer(),\n",
      "  t_ref_count = col_integer(),\n",
      "  t_alt_count = col_integer(),\n",
      "  n_ref_count = col_integer(),\n",
      "  n_alt_count = col_integer(),\n",
      "  Protein_position = col_integer(),\n",
      "  Hotspot = col_integer(),\n",
      "  NCALLERS = col_integer(),\n",
      "  n_depth = col_integer(),\n",
      "  t_depth = col_integer()\n",
      ")\n",
      "See spec(...) for full column specifications.\n"
     ]
    }
   ],
   "source": [
    "brca_test <- read_tsv(\"/Volumes/CCG8/processed_data/coad_tcga_pan_can_atlas_2018/data_mutations_extended.txt\")"
   ]
  },
  {
   "cell_type": "code",
   "execution_count": 14,
   "metadata": {},
   "outputs": [],
   "source": [
    "library(\"biomaRt\")"
   ]
  },
  {
   "cell_type": "code",
   "execution_count": 15,
   "metadata": {},
   "outputs": [
    {
     "data": {
      "text/html": [
       "<table>\n",
       "<thead><tr><th scope=col>biomart</th><th scope=col>version</th></tr></thead>\n",
       "<tbody>\n",
       "\t<tr><td>ENSEMBL_MART_ENSEMBL </td><td>Ensembl Genes 94     </td></tr>\n",
       "\t<tr><td>ENSEMBL_MART_MOUSE   </td><td>Mouse strains 94     </td></tr>\n",
       "\t<tr><td>ENSEMBL_MART_SNP     </td><td>Ensembl Variation 94 </td></tr>\n",
       "\t<tr><td>ENSEMBL_MART_FUNCGEN </td><td>Ensembl Regulation 94</td></tr>\n",
       "</tbody>\n",
       "</table>\n"
      ],
      "text/latex": [
       "\\begin{tabular}{r|ll}\n",
       " biomart & version\\\\\n",
       "\\hline\n",
       "\t ENSEMBL\\_MART\\_ENSEMBL & Ensembl Genes 94        \\\\\n",
       "\t ENSEMBL\\_MART\\_MOUSE   & Mouse strains 94        \\\\\n",
       "\t ENSEMBL\\_MART\\_SNP     & Ensembl Variation 94    \\\\\n",
       "\t ENSEMBL\\_MART\\_FUNCGEN & Ensembl Regulation 94   \\\\\n",
       "\\end{tabular}\n"
      ],
      "text/markdown": [
       "\n",
       "biomart | version | \n",
       "|---|---|---|---|\n",
       "| ENSEMBL_MART_ENSEMBL  | Ensembl Genes 94      | \n",
       "| ENSEMBL_MART_MOUSE    | Mouse strains 94      | \n",
       "| ENSEMBL_MART_SNP      | Ensembl Variation 94  | \n",
       "| ENSEMBL_MART_FUNCGEN  | Ensembl Regulation 94 | \n",
       "\n",
       "\n"
      ],
      "text/plain": [
       "  biomart              version              \n",
       "1 ENSEMBL_MART_ENSEMBL Ensembl Genes 94     \n",
       "2 ENSEMBL_MART_MOUSE   Mouse strains 94     \n",
       "3 ENSEMBL_MART_SNP     Ensembl Variation 94 \n",
       "4 ENSEMBL_MART_FUNCGEN Ensembl Regulation 94"
      ]
     },
     "metadata": {},
     "output_type": "display_data"
    }
   ],
   "source": [
    "listMarts()"
   ]
  },
  {
   "cell_type": "code",
   "execution_count": 22,
   "metadata": {},
   "outputs": [],
   "source": [
    "ensembl = useMart(\"ensembl\", dataset = \"hsapiens_gene_ensembl\")"
   ]
  },
  {
   "cell_type": "code",
   "execution_count": 52,
   "metadata": {},
   "outputs": [
    {
     "data": {
      "text/html": [
       "55"
      ],
      "text/latex": [
       "55"
      ],
      "text/markdown": [
       "55"
      ],
      "text/plain": [
       "[1] 55"
      ]
     },
     "metadata": {},
     "output_type": "display_data"
    }
   ],
   "source": [
    "getBM(attributes = c('ensembl_gene_id', 'external_gene_name'),\n",
    "      filters = c('chromosome_name', 'start', 'end'),\n",
    "      values = list(2, 27000001,28000000),\n",
    "      mart = ensembl) %>% \n",
    "    nrow()\n"
   ]
  },
  {
   "cell_type": "code",
   "execution_count": null,
   "metadata": {},
   "outputs": [],
   "source": []
  }
 ],
 "metadata": {
  "kernelspec": {
   "display_name": "R",
   "language": "R",
   "name": "ir"
  },
  "language_info": {
   "codemirror_mode": "r",
   "file_extension": ".r",
   "mimetype": "text/x-r-source",
   "name": "R",
   "pygments_lexer": "r",
   "version": "3.5.1"
  }
 },
 "nbformat": 4,
 "nbformat_minor": 2
}
