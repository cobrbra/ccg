{
 "cells": [
  {
   "cell_type": "markdown",
   "metadata": {},
   "source": [
    "## 4. From Loci Identification to TMB Estimation"
   ]
  },
  {
   "cell_type": "code",
   "execution_count": 1,
   "metadata": {},
   "outputs": [],
   "source": [
    "setwd(\"/Users/jacobbradley/Documents/CCG/Code\")"
   ]
  },
  {
   "cell_type": "markdown",
   "metadata": {},
   "source": [
    "### Packages"
   ]
  },
  {
   "cell_type": "code",
   "execution_count": 2,
   "metadata": {
    "collapsed": true
   },
   "outputs": [
    {
     "name": "stdout",
     "output_type": "stream",
     "text": [
      "\n",
      "The downloaded binary packages are in\n",
      "\t/var/folders/g9/9x6m35fn5ydf88vdlm9n1vg80000gn/T//RtmpWmrlIZ/downloaded_packages\n"
     ]
    },
    {
     "name": "stderr",
     "output_type": "stream",
     "text": [
      "── Attaching packages ─────────────────────────────────────── tidyverse 1.2.1 ──\n",
      "✔ ggplot2 3.1.0     ✔ purrr   0.2.5\n",
      "✔ tibble  1.4.2     ✔ dplyr   0.7.8\n",
      "✔ tidyr   0.8.2     ✔ stringr 1.3.1\n",
      "✔ readr   1.1.1     ✔ forcats 0.3.0\n",
      "── Conflicts ────────────────────────────────────────── tidyverse_conflicts() ──\n",
      "✖ dplyr::filter() masks stats::filter()\n",
      "✖ dplyr::lag()    masks stats::lag()\n",
      "Loading required namespace: BiocManager\n",
      "Bioconductor version 3.8 (BiocManager 1.30.3), R 3.5.1 (2018-07-02)\n",
      "Update old packages: 'BiocManager', 'BiocParallel', 'circlize', 'ELMER',\n",
      "  'ensembldb', 'farver', 'foreign', 'gdsfmt', 'ggpubr', 'Gviz', 'haven',\n",
      "  'IRdisplay', 'lattice', 'MASS', 'Matrix', 'mclust', 'mgcv', 'openssl',\n",
      "  'RcppEigen', 'readr', 'repr', 'rtracklayer', 'survival', 'VariantAnnotation'\n",
      "Loading required package: BiocGenerics\n",
      "Loading required package: parallel\n",
      "\n",
      "Attaching package: ‘BiocGenerics’\n",
      "\n",
      "The following objects are masked from ‘package:parallel’:\n",
      "\n",
      "    clusterApply, clusterApplyLB, clusterCall, clusterEvalQ,\n",
      "    clusterExport, clusterMap, parApply, parCapply, parLapply,\n",
      "    parLapplyLB, parRapply, parSapply, parSapplyLB\n",
      "\n",
      "The following objects are masked from ‘package:dplyr’:\n",
      "\n",
      "    combine, intersect, setdiff, union\n",
      "\n",
      "The following objects are masked from ‘package:stats’:\n",
      "\n",
      "    IQR, mad, sd, var, xtabs\n",
      "\n",
      "The following objects are masked from ‘package:base’:\n",
      "\n",
      "    anyDuplicated, append, as.data.frame, basename, cbind, colMeans,\n",
      "    colnames, colSums, dirname, do.call, duplicated, eval, evalq,\n",
      "    Filter, Find, get, grep, grepl, intersect, is.unsorted, lapply,\n",
      "    lengths, Map, mapply, match, mget, order, paste, pmax, pmax.int,\n",
      "    pmin, pmin.int, Position, rank, rbind, Reduce, rowMeans, rownames,\n",
      "    rowSums, sapply, setdiff, sort, table, tapply, union, unique,\n",
      "    unsplit, which, which.max, which.min\n",
      "\n",
      "Loading required package: S4Vectors\n",
      "Loading required package: stats4\n",
      "\n",
      "Attaching package: ‘S4Vectors’\n",
      "\n",
      "The following objects are masked from ‘package:dplyr’:\n",
      "\n",
      "    first, rename\n",
      "\n",
      "The following object is masked from ‘package:tidyr’:\n",
      "\n",
      "    expand\n",
      "\n",
      "The following object is masked from ‘package:base’:\n",
      "\n",
      "    expand.grid\n",
      "\n",
      "Loading required package: IRanges\n",
      "\n",
      "Attaching package: ‘IRanges’\n",
      "\n",
      "The following objects are masked from ‘package:dplyr’:\n",
      "\n",
      "    collapse, desc, slice\n",
      "\n",
      "The following object is masked from ‘package:purrr’:\n",
      "\n",
      "    reduce\n",
      "\n",
      "Loading required package: GenomeInfoDb\n",
      "Loading required package: GenomicRanges\n",
      "Loading required package: Biostrings\n",
      "Loading required package: XVector\n",
      "\n",
      "Attaching package: ‘XVector’\n",
      "\n",
      "The following object is masked from ‘package:purrr’:\n",
      "\n",
      "    compact\n",
      "\n",
      "\n",
      "Attaching package: ‘Biostrings’\n",
      "\n",
      "The following object is masked from ‘package:base’:\n",
      "\n",
      "    strsplit\n",
      "\n",
      "Loading required package: rtracklayer\n"
     ]
    }
   ],
   "source": [
    "install.packages(\"tidyverse\")\n",
    "library(tidyverse)\n",
    "# Data Handling\n",
    "\n",
    "if (!requireNamespace(\"BiocManager\"))\n",
    "    install.packages(\"BiocManager\")\n",
    "BiocManager::install()\n",
    "library(BiocManager)\n",
    "# General bioinformatics packages\n",
    "\n",
    "library(BSgenome)\n",
    "library(BSgenome.Hsapiens.UCSC.hg19)\n",
    "# Human genome build GChr37"
   ]
  },
  {
   "cell_type": "code",
   "execution_count": 3,
   "metadata": {},
   "outputs": [],
   "source": [
    "source(\"TMB_Funcs.txt\")\n",
    "# My Stuff!"
   ]
  },
  {
   "cell_type": "markdown",
   "metadata": {},
   "source": [
    "### Producing a training matrix"
   ]
  },
  {
   "cell_type": "markdown",
   "metadata": {},
   "source": [
    "We want to take the sliding window approaches detailed above detecting genomic loci of interest, and move towards using those regions of interest to predict TMB as accurately as possible."
   ]
  },
  {
   "cell_type": "code",
   "execution_count": 4,
   "metadata": {},
   "outputs": [],
   "source": [
    "chromosomes <- c(1:22,\"X\",\"Y\")\n",
    "genome <- BSgenome.Hsapiens.UCSC.hg19\n",
    "\n",
    "window_size <- 1000000\n",
    "jump_length <- 100000"
   ]
  },
  {
   "cell_type": "code",
   "execution_count": 6,
   "metadata": {
    "collapsed": true
   },
   "outputs": [
    {
     "name": "stderr",
     "output_type": "stream",
     "text": [
      "Warning message:\n",
      "“Missing column names filled in: 'X54' [54]”Parsed with column specification:\n",
      "cols(\n",
      "  .default = col_character(),\n",
      "  Entrez_Gene_Id = col_integer(),\n",
      "  Start_Position = col_integer(),\n",
      "  End_Position = col_integer(),\n",
      "  Score = col_integer(),\n",
      "  t_ref_count = col_integer(),\n",
      "  t_alt_count = col_integer(),\n",
      "  Protein_position = col_integer(),\n",
      "  Hotspot = col_integer(),\n",
      "  stop_WU = col_integer(),\n",
      "  X54 = col_double(),\n",
      "  tumor_vaf = col_double(),\n",
      "  normal_ref_reads = col_integer(),\n",
      "  start_WU = col_integer(),\n",
      "  strand_WU = col_integer(),\n",
      "  tumors_var_reads = col_integer(),\n",
      "  normal_vaf = col_double(),\n",
      "  tumor_ref_reads = col_integer(),\n",
      "  normal_var_reads = col_integer()\n",
      ")\n",
      "See spec(...) for full column specifications.\n",
      "Warning message in rbind(names(probs), probs_f):\n",
      "“number of columns of result is not a multiple of vector length (arg 1)”Warning message:\n",
      "“3282 parsing failures.\n",
      "row # A tibble: 5 x 5 col     row col     expected  actual file                                           expected   <int> <chr>   <chr>     <chr>  <chr>                                          actual 1 88850 stop_WU an integ… known  '/Volumes/CCG8/processed_data/brca_tcga/data_… file 2 88850 X54     a double  BCR    '/Volumes/CCG8/processed_data/brca_tcga/data_… row 3 88851 stop_WU an integ… known  '/Volumes/CCG8/processed_data/brca_tcga/data_… col 4 88851 X54     a double  BCR    '/Volumes/CCG8/processed_data/brca_tcga/data_… expected 5 88852 stop_WU an integ… known  '/Volumes/CCG8/processed_data/brca_tcga/data_…\n",
      "... ................. ... ............................................................................... ........ ............................................................................... ...... ............................................................................... .... ............................................................................... ... ............................................................................... ... ............................................................................... ........ ...............................................................................\n",
      "See problems(...) for more details.\n",
      "”"
     ]
    }
   ],
   "source": [
    "new_data <- read_tsv(\"/Volumes/CCG8/processed_data/brca_tcga/data_mutations_extended.txt\")\n",
    "#tcga_brca_hotspots <- genome_slide(maf_file = new_data, global_tmb_table = NULL, window_size, jump_length)\n",
    "#write_tsv(path = '/Users/jacobbradley/Documents/CCG/Data/tcga_brca_hotspots', x = tcga_brca_hotspots)\n",
    "tcga_brca_hotspots <- read_tsv('/Users/jacobbradley/Documents/CCG/Data/tcga_brca_hotspots', col_types = list(col_character(), col_guess(), col_guess(), col_guess()))"
   ]
  },
  {
   "cell_type": "code",
   "execution_count": 15,
   "metadata": {},
   "outputs": [],
   "source": [
    "#tcga_brca_hotspots_new <- genome_restricted_slide(maf_file = new_data, previous_run = tcga_brca_hotspots, zoom = 10, global_tmb_table = NULL, coverage = 10)\n",
    "#write_tsv(path = '/Users/jacobbradley/Documents/CCG/Data/tcga_brca_hotspots_new', x = tcga_brca_hotspots_new)\n",
    "\n",
    "tcga_brca_hotspots_new <- read_tsv('/Users/jacobbradley/Documents/CCG/Data/tcga_brca_hotspots_new', col_types = list(col_character(), col_guess(), col_guess(), col_guess()))"
   ]
  },
  {
   "cell_type": "code",
   "execution_count": 16,
   "metadata": {},
   "outputs": [],
   "source": [
    "#tcga_brca_hotspots_new_new <- genome_restricted_slide(maf_file = new_data, previous_run = tcga_brca_hotspots_new, zoom = 10, global_tmb_table = NULL, coverage = 10)\n",
    "#write_tsv(path = '/Users/jacobbradley/Documents/CCG/Data/tcga_brca_hotspots_new_new', x = tcga_brca_hotspots_new_new)\n",
    "\n",
    "tcga_brca_hotspots_new_new <- read_tsv('/Users/jacobbradley/Documents/CCG/Data/tcga_brca_hotspots_new_new', col_types = list(col_character(), col_guess(), col_guess(), col_guess()))"
   ]
  },
  {
   "cell_type": "code",
   "execution_count": null,
   "metadata": {},
   "outputs": [],
   "source": [
    "getMatrix <- function(maf_file, window_run, window_size) {\n",
    "    maf_file <- abridge(maf_file, ns = FALSE)\n",
    "    \n",
    "    positions <- c()\n",
    "    for (position in window_run$position) {\n",
    "        \n",
    "    }\n",
    "    \n",
    "    maf_file %>% \n",
    "        group_by(Tumor_Sample_Barcode) %>% \n",
    "        filter()\n",
    "}"
   ]
  },
  {
   "cell_type": "code",
   "execution_count": null,
   "metadata": {},
   "outputs": [],
   "source": []
  }
 ],
 "metadata": {
  "kernelspec": {
   "display_name": "R",
   "language": "R",
   "name": "ir"
  },
  "language_info": {
   "codemirror_mode": "r",
   "file_extension": ".r",
   "mimetype": "text/x-r-source",
   "name": "R",
   "pygments_lexer": "r",
   "version": "3.5.1"
  }
 },
 "nbformat": 4,
 "nbformat_minor": 2
}
